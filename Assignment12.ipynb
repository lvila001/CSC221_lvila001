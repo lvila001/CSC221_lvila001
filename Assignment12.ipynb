{
  "nbformat": 4,
  "nbformat_minor": 0,
  "metadata": {
    "colab": {
      "provenance": [],
      "authorship_tag": "ABX9TyP5OQS+lGtnsZx5qBf5F/TU",
      "include_colab_link": true
    },
    "kernelspec": {
      "name": "python3",
      "display_name": "Python 3"
    },
    "language_info": {
      "name": "python"
    }
  },
  "cells": [
    {
      "cell_type": "markdown",
      "metadata": {
        "id": "view-in-github",
        "colab_type": "text"
      },
      "source": [
        "<a href=\"https://colab.research.google.com/github/lvila001/CSC221_lvila001/blob/main/Assignment12.ipynb\" target=\"_parent\"><img src=\"https://colab.research.google.com/assets/colab-badge.svg\" alt=\"Open In Colab\"/></a>"
      ]
    },
    {
      "cell_type": "markdown",
      "source": [
        "Logan Vilardi\n",
        "\n",
        "Assignment 12\n"
      ],
      "metadata": {
        "id": "L6Y1O-6g3OZI"
      }
    },
    {
      "cell_type": "code",
      "source": [
        "class Money:\n",
        "  def __init__(self, amount, value):\n",
        "    self.amount = amount\n",
        "    self.value = value\n",
        "\n",
        "  def count_money(self):\n",
        "    self.amount = int(self.amount)\n",
        "    return self.amount * self.value"
      ],
      "metadata": {
        "id": "Xljl_Jjj3Xxc"
      },
      "execution_count": null,
      "outputs": []
    },
    {
      "cell_type": "code",
      "source": [
        "class Bills(Money):\n",
        "  def __init__(self,amount,value):\n",
        "    super().__init__(amount, value)\n",
        "\n",
        "class One(Bills):\n",
        "  def __init__(self, amount, value = 1):\n",
        "    super().__init__(amount, value = 1)\n",
        "    value = 1\n",
        "\n",
        "class Five(Bills):\n",
        "  def __init__(self, amount, value = 5):\n",
        "    super().__init__(amount, value = 5)\n",
        "    value = 5\n",
        "\n",
        "class Ten(Bills):\n",
        "  def __init__(self, amount, value = 10):\n",
        "    super().__init__(amount, value = 10)\n",
        "    value = 10\n",
        "\n",
        "class Ten(Bills):\n",
        "  def __init__(self, amount, value = 10):\n",
        "    super().__init__(amount, value = 10)\n",
        "    value = 10\n",
        "\n",
        "class Twenties(Bills):\n",
        "  def __init__(self, amount, value = 20):\n",
        "    super().__init__(amount, value = 20)\n",
        "    value = 20"
      ],
      "metadata": {
        "id": "adrOaec1X4d-"
      },
      "execution_count": null,
      "outputs": []
    },
    {
      "cell_type": "code",
      "source": [
        "print('Test for Bills')\n",
        "ones = One(4)\n",
        "testOne = ones.count_money()\n",
        "print(testOne)\n",
        "if testOne == 4:\n",
        "  print('pass')\n",
        "else:\n",
        "  print('fail')\n",
        "\n",
        "#test for counting fives\n",
        "fives = Five(4)\n",
        "testFives = fives.count_money()\n",
        "print(f'\\n{testFives}')\n",
        "if testFives == 20:\n",
        "  print('pass')\n",
        "else:\n",
        "  print('fail')\n",
        "\n",
        "#test for counting tens\n",
        "tens = Ten(4)\n",
        "testTens = tens.count_money()\n",
        "print(f'\\n{testTens}')\n",
        "if testTens == 40:\n",
        "  print('pass')\n",
        "else:\n",
        "  print('fail')"
      ],
      "metadata": {
        "colab": {
          "base_uri": "https://localhost:8080/"
        },
        "id": "2vVtMEkbLhg3",
        "outputId": "fc1db5ba-afbb-4a8d-fe65-d431bb71d068"
      },
      "execution_count": null,
      "outputs": [
        {
          "output_type": "stream",
          "name": "stdout",
          "text": [
            "Test for Bills\n",
            "4\n",
            "pass\n",
            "\n",
            "20\n",
            "pass\n",
            "\n",
            "40\n",
            "pass\n"
          ]
        }
      ]
    },
    {
      "cell_type": "markdown",
      "source": [
        "Test Coins"
      ],
      "metadata": {
        "id": "EqkYvDR2Tp_V"
      }
    },
    {
      "cell_type": "code",
      "source": [
        "class Coins(Money):\n",
        "  def __init__(self,amount, value):\n",
        "    super().__init__(amount,value)\n",
        "\n",
        "class Penny(Coins):\n",
        "  def __init__(self, amount, value = .01):\n",
        "    super().__init__(amount, value = .01)\n",
        "    value = .01\n",
        "\n",
        "class Nickel(Coins):\n",
        "  def __init__(self, amount, value = .05):\n",
        "    super().__init__(amount, value = .05)\n",
        "    value = .05\n",
        "\n",
        "class Dime(Coins):\n",
        "  def __init__(self, amount, value = .10):\n",
        "    super().__init__(amount, value = .10)\n",
        "    value = .10\n",
        "\n",
        "class Quarter(Coins):\n",
        "  def __init__(self, amount, value = .25):\n",
        "    super().__init__(amount, value = .25)\n",
        "    value = .25"
      ],
      "metadata": {
        "id": "xH9zd0wzX_7j"
      },
      "execution_count": null,
      "outputs": []
    },
    {
      "cell_type": "code",
      "source": [
        "print('Test Coins')\n",
        "#  4 Pennys\n",
        "pennys = Penny(4)\n",
        "testPennys = pennys.count_money()\n",
        "print(f'4 Pennys: {testPennys}')\n",
        "\n",
        "if testPennys == 0.04:\n",
        "  print('pass')\n",
        "\n",
        "else:\n",
        "  print('fail')\n",
        "\n",
        "#  4 Nickels\n",
        "nickels = Nickel(4)\n",
        "testNickels = nickels.count_money()\n",
        "print(f'\\n4 Nickels: {testNickels}')\n",
        "\n",
        "if testNickels == 0.20:\n",
        "  print('pass')\n",
        "\n",
        "else:\n",
        "  print('fail')\n",
        "\n",
        "#  4 Dimes\n",
        "dimes = Dime(4)\n",
        "testDimes = dimes.count_money()\n",
        "print(f'\\n4 Nickels: {testDimes}')\n",
        "\n",
        "if testDimes == 0.40:\n",
        "  print('pass')\n",
        "\n",
        "else:\n",
        "  print('fail')\n",
        "\n",
        "#  4 Quarters\n",
        "quarters = Quarter(4)\n",
        "testQuarters = quarters.count_money()\n",
        "print(f'\\n4 Quarters: {testQuarters}')\n",
        "\n",
        "if testQuarters == 1:\n",
        "  print('pass')\n",
        "\n",
        "else:\n",
        "  print('fail')"
      ],
      "metadata": {
        "colab": {
          "base_uri": "https://localhost:8080/"
        },
        "id": "CZzwdQDsRiWa",
        "outputId": "868da517-eca2-4de3-fc98-8750df86c503"
      },
      "execution_count": null,
      "outputs": [
        {
          "output_type": "stream",
          "name": "stdout",
          "text": [
            "Test Coins\n",
            "4 Pennys: 0.04\n",
            "pass\n",
            "\n",
            "4 Nickels: 0.2\n",
            "pass\n",
            "\n",
            "4 Nickels: 0.4\n",
            "pass\n",
            "\n",
            "4 Quarters: 1.0\n",
            "pass\n"
          ]
        }
      ]
    }
  ]
}