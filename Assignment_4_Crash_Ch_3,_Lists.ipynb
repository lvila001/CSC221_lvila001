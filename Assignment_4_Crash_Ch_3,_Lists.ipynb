{
  "nbformat": 4,
  "nbformat_minor": 0,
  "metadata": {
    "colab": {
      "provenance": [],
      "authorship_tag": "ABX9TyM6HvuyLTsz42RIZsfn+a8v",
      "include_colab_link": true
    },
    "kernelspec": {
      "name": "python3",
      "display_name": "Python 3"
    },
    "language_info": {
      "name": "python"
    }
  },
  "cells": [
    {
      "cell_type": "markdown",
      "metadata": {
        "id": "view-in-github",
        "colab_type": "text"
      },
      "source": [
        "<a href=\"https://colab.research.google.com/github/lvila001/CSC221_lvila001/blob/main/Assignment_4_Crash_Ch_3%2C_Lists.ipynb\" target=\"_parent\"><img src=\"https://colab.research.google.com/assets/colab-badge.svg\" alt=\"Open In Colab\"/></a>"
      ]
    },
    {
      "cell_type": "code",
      "execution_count": null,
      "metadata": {
        "colab": {
          "base_uri": "https://localhost:8080/"
        },
        "id": "8SjTAlPZmmbX",
        "outputId": "82492588-b810-48de-ada2-5a2a07807967"
      },
      "outputs": [
        {
          "output_type": "stream",
          "name": "stdout",
          "text": [
            "['trek', 'cannodale', 'redline', 'specialized']\n"
          ]
        }
      ],
      "source": [
        "bicycles = ['trek', 'cannodale','redline', 'specialized' ]\n",
        "print(bicycles)"
      ]
    },
    {
      "cell_type": "code",
      "source": [
        "bicycles = ['trek', 'cannodale','redline', 'specialized' ]\n",
        "print(bicycles[0])"
      ],
      "metadata": {
        "colab": {
          "base_uri": "https://localhost:8080/"
        },
        "id": "AWVX3LIom5vh",
        "outputId": "647295e0-bf1f-4409-89fe-b37d31ad528f"
      },
      "execution_count": null,
      "outputs": [
        {
          "output_type": "stream",
          "name": "stdout",
          "text": [
            "trek\n"
          ]
        }
      ]
    },
    {
      "cell_type": "code",
      "source": [
        "bicycles = ['trek', 'cannodale','redline', 'specialized' ]\n",
        "print(bicycles[0].title())"
      ],
      "metadata": {
        "colab": {
          "base_uri": "https://localhost:8080/"
        },
        "id": "Mq6K6nggnCDO",
        "outputId": "22bef745-cc21-4916-bf59-145fdfae29ef"
      },
      "execution_count": null,
      "outputs": [
        {
          "output_type": "stream",
          "name": "stdout",
          "text": [
            "Trek\n"
          ]
        }
      ]
    },
    {
      "cell_type": "code",
      "source": [
        "bicycles = ['trek', 'cannodale','redline', 'specialized' ]\n",
        "print(bicycles[1])\n",
        "print(bicycles[3])"
      ],
      "metadata": {
        "colab": {
          "base_uri": "https://localhost:8080/"
        },
        "id": "OAX6w9zknLMM",
        "outputId": "51229e75-78b5-4f5d-a931-6438a07fd87b"
      },
      "execution_count": null,
      "outputs": [
        {
          "output_type": "stream",
          "name": "stdout",
          "text": [
            "cannodale\n",
            "specialized\n"
          ]
        }
      ]
    },
    {
      "cell_type": "code",
      "source": [
        "bicycles = ['trek', 'cannodale','redline', 'specialized' ]\n",
        "print(bicycles[-1])"
      ],
      "metadata": {
        "colab": {
          "base_uri": "https://localhost:8080/"
        },
        "id": "RQ0KUEBinajr",
        "outputId": "9882452c-c1bb-4dc8-f3f7-86c5e200ba89"
      },
      "execution_count": null,
      "outputs": [
        {
          "output_type": "stream",
          "name": "stdout",
          "text": [
            "specialized\n"
          ]
        }
      ]
    },
    {
      "cell_type": "code",
      "source": [
        "bicycles = ['trek', 'cannodale','redline', 'specialized' ]\n",
        "message = f'my first bicicyle was a {bicycles[0].title()}.'\n",
        "print(message)"
      ],
      "metadata": {
        "colab": {
          "base_uri": "https://localhost:8080/"
        },
        "id": "LhS5w0UfnivW",
        "outputId": "6559c84a-f7f0-4f6d-df50-0c11adfcef7e"
      },
      "execution_count": null,
      "outputs": [
        {
          "output_type": "stream",
          "name": "stdout",
          "text": [
            "my first bicicyle was a Trek.\n"
          ]
        }
      ]
    },
    {
      "cell_type": "code",
      "source": [
        "#3-1\n",
        "friends = ['kyle', 'Matt', 'Kenny']\n",
        "print(friends[0])\n",
        "print(friends[1])\n",
        "print(friends[2])"
      ],
      "metadata": {
        "colab": {
          "base_uri": "https://localhost:8080/"
        },
        "id": "7YPckhotn1Gk",
        "outputId": "42be0f4b-fc2e-496e-f84b-6918f2a9c38f"
      },
      "execution_count": null,
      "outputs": [
        {
          "output_type": "stream",
          "name": "stdout",
          "text": [
            "kyle\n",
            "Matt\n",
            "Kenny\n"
          ]
        }
      ]
    },
    {
      "cell_type": "code",
      "source": [
        "#3-2\n",
        "friends = ['kyle', 'Matt', 'Kenny']\n",
        "kyles_message = f'Hello {friends[0]}, how are you.'\n",
        "Matts_message= f'Hello {friends[1]}, how are you.'\n",
        "Kennys_message= f'Hello {friends[2]}, how are you.'\n",
        "\n",
        "print(kyles_message)\n",
        "print(Matts_message)\n",
        "print(Kennys_message)"
      ],
      "metadata": {
        "colab": {
          "base_uri": "https://localhost:8080/"
        },
        "id": "onAqZIm3o_8b",
        "outputId": "0f63c3ed-b667-42cd-fb03-85055981b02c"
      },
      "execution_count": null,
      "outputs": [
        {
          "output_type": "stream",
          "name": "stdout",
          "text": [
            "Hello kyle, how are you.\n",
            "Hello Matt, how are you.\n",
            "Hello Kenny, how are you.\n"
          ]
        }
      ]
    },
    {
      "cell_type": "code",
      "source": [
        "#3-3\n",
        "vehicles = ['Race Car', 'Private jet', 'jet ski']\n",
        "race_car_message = f\"I would like to own a {vehicles[0]}.\"\n",
        "private_jet_message = f\"I would like to own a {vehicles[1]}.\"\n",
        "jet_ski_message = f\"I would like to own a {vehicles[2]}.\"\n",
        "print(race_car_message)\n",
        "print(private_jet_message)\n",
        "print(jet_ski_message)"
      ],
      "metadata": {
        "colab": {
          "base_uri": "https://localhost:8080/"
        },
        "id": "5yRShYpyqx9w",
        "outputId": "b8d7a4eb-d5e1-450d-e1da-39d9d390da7d"
      },
      "execution_count": null,
      "outputs": [
        {
          "output_type": "stream",
          "name": "stdout",
          "text": [
            "I would like to own a Race Car.\n",
            "I would like to own a Private jet.\n",
            "I would like to own a jet ski.\n"
          ]
        }
      ]
    },
    {
      "cell_type": "code",
      "source": [
        "motorcycles = ['honda', 'yamaha', 'suzuki']\n",
        "print(motorcycles)\n",
        "\n",
        "motorcycles[0] = 'ducati'\n",
        "print(motorcycles)\n"
      ],
      "metadata": {
        "colab": {
          "base_uri": "https://localhost:8080/"
        },
        "id": "ZHRERKjRrpdc",
        "outputId": "e882f764-a55d-4963-e197-61beec3693c1"
      },
      "execution_count": null,
      "outputs": [
        {
          "output_type": "stream",
          "name": "stdout",
          "text": [
            "['honda', 'yamaha', 'suzuki']\n",
            "['ducati', 'yamaha', 'suzuki']\n"
          ]
        }
      ]
    },
    {
      "cell_type": "code",
      "source": [
        "motorcycles = ['honda', 'yamaha', 'suzuki']\n",
        "print(motorcycles)\n",
        "\n",
        "motorcycles.append('ducati')\n",
        "print(motorcycles)\n"
      ],
      "metadata": {
        "colab": {
          "base_uri": "https://localhost:8080/"
        },
        "id": "Rh5cjxyQvK2c",
        "outputId": "37563a16-bcbf-4339-d996-9cacc1de0ba5"
      },
      "execution_count": null,
      "outputs": [
        {
          "output_type": "stream",
          "name": "stdout",
          "text": [
            "['honda', 'yamaha', 'suzuki']\n",
            "['honda', 'yamaha', 'suzuki', 'ducati']\n"
          ]
        }
      ]
    },
    {
      "cell_type": "code",
      "source": [
        "motorcycles = []\n",
        "motorcycles.append('honda')\n",
        "motorcycles.append('yamaha')\n",
        "motorcycles.append('suzuki')\n",
        "print(motorcycles)"
      ],
      "metadata": {
        "colab": {
          "base_uri": "https://localhost:8080/"
        },
        "id": "8nLc-ni6vWOk",
        "outputId": "c9a30739-33b5-413a-e620-720e9fcee92e"
      },
      "execution_count": null,
      "outputs": [
        {
          "output_type": "stream",
          "name": "stdout",
          "text": [
            "['honda', 'yamaha', 'suzuki']\n"
          ]
        }
      ]
    },
    {
      "cell_type": "code",
      "source": [
        "motorcycles = ['honda', 'yamaha', 'suzuki']\n",
        "motorcycles.insert(0, 'ducati')\n",
        "print(motorcycles)"
      ],
      "metadata": {
        "colab": {
          "base_uri": "https://localhost:8080/"
        },
        "id": "IPeqjaznv2lA",
        "outputId": "1523c9c5-0bf2-48e3-bc6e-bea448772aab"
      },
      "execution_count": null,
      "outputs": [
        {
          "output_type": "stream",
          "name": "stdout",
          "text": [
            "['ducati', 'honda', 'yamaha', 'suzuki']\n"
          ]
        }
      ]
    },
    {
      "cell_type": "code",
      "source": [
        "motorcycles = ['honda', 'yamaha', 'suzuki']\n",
        "print(motorcycles)\n",
        "\n",
        "del motorcycles[0]\n",
        "print(motorcycles)"
      ],
      "metadata": {
        "colab": {
          "base_uri": "https://localhost:8080/"
        },
        "id": "_Bp9KSWjwNld",
        "outputId": "3c46f629-e52d-455b-e6f0-e0354f5e4fc7"
      },
      "execution_count": null,
      "outputs": [
        {
          "output_type": "stream",
          "name": "stdout",
          "text": [
            "['honda', 'yamaha', 'suzuki']\n",
            "['yamaha', 'suzuki']\n"
          ]
        }
      ]
    },
    {
      "cell_type": "code",
      "source": [
        "motorcycles = ['honda', 'yamaha', 'suzuki']\n",
        "print(motorcycles)\n",
        "\n",
        "del motorcycles[1]\n",
        "print(motorcycles)"
      ],
      "metadata": {
        "colab": {
          "base_uri": "https://localhost:8080/"
        },
        "id": "90pMaj2Twtqb",
        "outputId": "003f1e88-600d-4ab6-a2eb-7c72ce7aa9cb"
      },
      "execution_count": null,
      "outputs": [
        {
          "output_type": "stream",
          "name": "stdout",
          "text": [
            "['honda', 'yamaha', 'suzuki']\n",
            "['honda', 'suzuki']\n"
          ]
        }
      ]
    },
    {
      "cell_type": "code",
      "source": [
        "motorcycles = ['honda', 'yamaha', 'suzuki']\n",
        "print(motorcycles)\n",
        "\n",
        "popped_motorcycles = motorcycles.pop(0)\n",
        "print(motorcycles)\n",
        "print(popped_motorcycles)\n"
      ],
      "metadata": {
        "colab": {
          "base_uri": "https://localhost:8080/"
        },
        "id": "d71faau0wyFg",
        "outputId": "c06170c8-7171-4888-9089-f83e2d502016"
      },
      "execution_count": null,
      "outputs": [
        {
          "output_type": "stream",
          "name": "stdout",
          "text": [
            "['honda', 'yamaha', 'suzuki']\n",
            "['yamaha', 'suzuki']\n",
            "honda\n"
          ]
        }
      ]
    },
    {
      "cell_type": "code",
      "source": [
        "motorcycles = ['honda', 'yamaha', 'suzuki']\n",
        "print(motorcycles)\n",
        "\n",
        "last_owned = motorcycles.pop()\n",
        "print(f'The last motorcycle i owned was a {last_owned.title()}.')"
      ],
      "metadata": {
        "colab": {
          "base_uri": "https://localhost:8080/"
        },
        "id": "IHTZAljuyyaR",
        "outputId": "543d3a8a-1e22-41c9-d54c-7ad79cb71ba8"
      },
      "execution_count": null,
      "outputs": [
        {
          "output_type": "stream",
          "name": "stdout",
          "text": [
            "['honda', 'yamaha', 'suzuki']\n",
            "The last motorcycle i owned was a Suzuki.\n"
          ]
        }
      ]
    },
    {
      "cell_type": "code",
      "source": [
        "motorcycles = ['honda', 'yamaha', 'suzuki']\n",
        "print(motorcycles)\n",
        "\n",
        "first_owned = motorcycles.pop(0)\n",
        "print(f'The last motorcycle i owned was a {first_owned.title()}.')"
      ],
      "metadata": {
        "colab": {
          "base_uri": "https://localhost:8080/"
        },
        "id": "D8Aw6Youzr6b",
        "outputId": "36de2606-a0f6-4afd-fc81-c7afe6c93ea7"
      },
      "execution_count": null,
      "outputs": [
        {
          "output_type": "stream",
          "name": "stdout",
          "text": [
            "['honda', 'yamaha', 'suzuki']\n",
            "The last motorcycle i owned was a Honda.\n"
          ]
        }
      ]
    },
    {
      "cell_type": "code",
      "source": [
        "motorcycles = ['honda', 'yamaha', 'suzuki', 'ducati']\n",
        "print(motorcycles)\n",
        "\n",
        "motorcycles.remove('ducati')\n",
        "print(motorcycles)"
      ],
      "metadata": {
        "colab": {
          "base_uri": "https://localhost:8080/"
        },
        "id": "_WE8fBQ6z4AH",
        "outputId": "0fb4c38d-d78e-4544-ea18-9a90a16147a5"
      },
      "execution_count": null,
      "outputs": [
        {
          "output_type": "stream",
          "name": "stdout",
          "text": [
            "['honda', 'yamaha', 'suzuki', 'ducati']\n",
            "['honda', 'yamaha', 'suzuki']\n"
          ]
        }
      ]
    },
    {
      "cell_type": "code",
      "source": [
        "motorcycles = ['honda', 'yamaha', 'suzuki', 'ducati']\n",
        "print(motorcycles)\n",
        "\n",
        "too_expensive = 'ducati'\n",
        "motorcycles.remove(too_expensive)\n",
        "print(motorcycles)\n",
        "print(f'\\nA {too_expensive} is too expensive for me.')"
      ],
      "metadata": {
        "colab": {
          "base_uri": "https://localhost:8080/"
        },
        "id": "Sg8VkjAW0EV7",
        "outputId": "83ea0e36-cf3f-442f-ffbd-2e31eb64671c"
      },
      "execution_count": null,
      "outputs": [
        {
          "output_type": "stream",
          "name": "stdout",
          "text": [
            "['honda', 'yamaha', 'suzuki', 'ducati']\n",
            "['honda', 'yamaha', 'suzuki']\n",
            "\n",
            "A ducati is too expensive for me.\n"
          ]
        }
      ]
    },
    {
      "cell_type": "code",
      "source": [
        "#3-4\n",
        "dinner_list = ['Tom Segura', 'Zach Bryan', 'Tj Watt']\n",
        "message_tom = f\"hello {dinner_list[0]} you are invited for dinner \"\n",
        "message_zach = f\"hello {dinner_list[1]} you are invited for dinner \"\n",
        "message_tj = f\"hello {dinner_list[2]} you are invited for dinner \"\n",
        "\n",
        "print(message_tom)\n",
        "print(message_zach)\n",
        "print(message_tj)"
      ],
      "metadata": {
        "colab": {
          "base_uri": "https://localhost:8080/"
        },
        "id": "yiLG9mWs1gu6",
        "outputId": "687873fc-cfe0-4893-f7b3-425577d6980f"
      },
      "execution_count": null,
      "outputs": [
        {
          "output_type": "stream",
          "name": "stdout",
          "text": [
            "hello Tom Segura you are invited for dinner \n",
            "hello Zach Bryan you are invited for dinner \n",
            "hello Tj Watt you are invited for dinner \n"
          ]
        }
      ]
    },
    {
      "cell_type": "code",
      "source": [
        "#3-5\n",
        "dinner_list = ['Tom Segura', 'Zach Bryan', 'Tj Watt']\n",
        "message_tom = f\"hello {dinner_list[0]} you are invited for dinner \"\n",
        "message_zach = f\"hello {dinner_list[1]} you are invited for dinner \"\n",
        "message_tj = f\"hello {dinner_list[2]} you are invited for dinner \"\n",
        "\n",
        "print(message_tom)\n",
        "print(message_zach)\n",
        "print(message_tj)\n",
        "\n",
        "print(f'\\n{dinner_list[2]} cannot make it to dinner.')\n",
        "cannot_attend = \"Zach Bryan\"\n",
        "dinner_list.remove(cannot_attend)\n",
        "\n",
        "dinner_list.insert(1, \"Elon Musk\")\n",
        "print(dinner_list)\n",
        "message_tom = f\"\\nhello {dinner_list[0]} you are invited for dinner \"\n",
        "message_elon = f\"hello {dinner_list[1]} you are invited for dinner \"\n",
        "message_tj = f\"hello {dinner_list[2]} you are invited for dinner \"\n",
        "\n",
        "print(message_tom)\n",
        "print(message_elon)\n",
        "print(message_tj)\n"
      ],
      "metadata": {
        "colab": {
          "base_uri": "https://localhost:8080/"
        },
        "id": "T1BLABrZ3lq5",
        "outputId": "1c63c632-75a4-4a91-f57a-8baf9b762b03"
      },
      "execution_count": null,
      "outputs": [
        {
          "output_type": "stream",
          "name": "stdout",
          "text": [
            "hello Tom Segura you are invited for dinner \n",
            "hello Zach Bryan you are invited for dinner \n",
            "hello Tj Watt you are invited for dinner \n",
            "\n",
            "Tj Watt cannot make it to dinner.\n",
            "['Tom Segura', 'Elon Musk', 'Tj Watt']\n",
            "\n",
            "hello Tom Segura you are invited for dinner \n",
            "hello Elon Musk you are invited for dinner \n",
            "hello Tj Watt you are invited for dinner \n"
          ]
        }
      ]
    },
    {
      "cell_type": "code",
      "source": [
        "#3-6\n",
        "dinner_list = ['Tom Segura', 'Zach Bryan', 'Tj Watt']\n",
        "message_tom = f\"hello {dinner_list[0]} you are invited for dinner \"\n",
        "message_zach = f\"hello {dinner_list[1]} you are invited for dinner \"\n",
        "message_tj = f\"hello {dinner_list[2]} you are invited for dinner \"\n",
        "\n",
        "print(message_tom)\n",
        "print(message_zach)\n",
        "print(message_tj)\n",
        "\n",
        "print(f'\\n{dinner_list[2]} cannot make it to dinner.')\n",
        "cannot_attend = \"Zach Bryan\"\n",
        "dinner_list.remove(cannot_attend)\n",
        "\n",
        "dinner_list.insert(1, \"Elon Musk\")\n",
        "print(dinner_list)\n",
        "message_tom = f\"\\nhello {dinner_list[0]} you are invited for dinner \"\n",
        "message_elon = f\"hello {dinner_list[1]} you are invited for dinner \"\n",
        "message_tj = f\"hello {dinner_list[2]} you are invited for dinner \"\n",
        "\n",
        "print(message_tom)\n",
        "print(message_elon)\n",
        "print(message_tj)\n",
        "\n",
        "print('\\nWe have found a bigger table with three more spots!')\n",
        "\n",
        "dinner_list.insert(3,'Mark Zuckerberg')\n",
        "dinner_list.insert(4,'Gordon Ramsey')\n",
        "dinner_list.insert(5,'Jeff Bezos')\n",
        "\n",
        "print(dinner_list)\n",
        "message_tom = f\"\\nhello {dinner_list[0]} you are invited for dinner \"\n",
        "message_elon = f\"hello {dinner_list[1]} you are invited for dinner \"\n",
        "message_tj = f\"hello {dinner_list[2]} you are invited for dinner \"\n",
        "message_mark = f\"hello {dinner_list[3]} you are invited for dinner \"\n",
        "message_gordon = f\"hello {dinner_list[4]} you are invited for dinner \"\n",
        "message_bezos = f\"hello {dinner_list[5]} you are invited for dinner \"\n",
        "\n",
        "print(message_tom)\n",
        "print(message_elon)\n",
        "print(message_tj)\n",
        "print(message_mark)\n",
        "print(message_gordon)\n",
        "print(message_bezos)"
      ],
      "metadata": {
        "colab": {
          "base_uri": "https://localhost:8080/"
        },
        "id": "0NIWnTml4KLb",
        "outputId": "eda76033-62c9-4b14-9d11-4f5b2054b940"
      },
      "execution_count": null,
      "outputs": [
        {
          "output_type": "stream",
          "name": "stdout",
          "text": [
            "hello Tom Segura you are invited for dinner \n",
            "hello Zach Bryan you are invited for dinner \n",
            "hello Tj Watt you are invited for dinner \n",
            "\n",
            "Tj Watt cannot make it to dinner.\n",
            "['Tom Segura', 'Elon Musk', 'Tj Watt']\n",
            "\n",
            "hello Tom Segura you are invited for dinner \n",
            "hello Elon Musk you are invited for dinner \n",
            "hello Tj Watt you are invited for dinner \n",
            "\n",
            "We have found a bigger table with three more spots!\n",
            "['Tom Segura', 'Elon Musk', 'Tj Watt', 'Mark Zuckerberg', 'Gordon Ramsey', 'Jeff Bezos']\n",
            "\n",
            "hello Tom Segura you are invited for dinner \n",
            "hello Elon Musk you are invited for dinner \n",
            "hello Tj Watt you are invited for dinner \n",
            "hello Mark Zuckerberg you are invited for dinner \n",
            "hello Gordon Ramsey you are invited for dinner \n",
            "hello Jeff Bezos you are invited for dinner \n"
          ]
        }
      ]
    },
    {
      "cell_type": "code",
      "source": [
        "#3-5\n",
        "dinner_list = ['Tom Segura', 'Zach Bryan', 'Tj Watt']\n",
        "message_tom = f\"hello {dinner_list[0]} you are invited for dinner \"\n",
        "message_zach = f\"hello {dinner_list[1]} you are invited for dinner \"\n",
        "message_tj = f\"hello {dinner_list[2]} you are invited for dinner \"\n",
        "\n",
        "print(message_tom)\n",
        "print(message_zach)\n",
        "print(message_tj)\n",
        "\n",
        "print(f'\\n{dinner_list[2]} cannot make it to dinner.')\n",
        "cannot_attend = \"Zach Bryan\"\n",
        "dinner_list.remove(cannot_attend)\n",
        "\n",
        "dinner_list.insert(1, \"Elon Musk\")\n",
        "print(dinner_list)\n",
        "message_tom = f\"\\nhello {dinner_list[0]} you are invited for dinner \"\n",
        "message_elon = f\"hello {dinner_list[1]} you are invited for dinner \"\n",
        "message_tj = f\"hello {dinner_list[2]} you are invited for dinner \"\n",
        "\n",
        "print(message_tom)\n",
        "print(message_elon)\n",
        "print(message_tj)\n",
        "\n",
        "print('\\nWe have found a bigger table with three more spots!')\n",
        "\n",
        "dinner_list.insert(3,'Mark Zuckerberg')\n",
        "dinner_list.insert(4,'Gordon Ramsey')\n",
        "dinner_list.insert(5,'Jeff Bezos')\n",
        "\n",
        "print(dinner_list)\n",
        "message_tom = f\"\\nhello {dinner_list[0]} you are invited for dinner \"\n",
        "message_elon = f\"hello {dinner_list[1]} you are invited for dinner \"\n",
        "message_tj = f\"hello {dinner_list[2]} you are invited for dinner \"\n",
        "message_mark = f\"hello {dinner_list[3]} you are invited for dinner \"\n",
        "message_gordon = f\"hello {dinner_list[4]} you are invited for dinner \"\n",
        "message_bezos = f\"hello {dinner_list[5]} you are invited for dinner \"\n",
        "\n",
        "print(message_tom)\n",
        "print(message_elon)\n",
        "print(message_tj)\n",
        "print(message_mark)\n",
        "print(message_gordon)\n",
        "print(message_bezos)\n",
        "\n",
        "print('\\nOh No... we were unable to get the bigger table. We can only fit two people')\n",
        "popped_dinner_list_elon = dinner_list.pop(1)\n",
        "popped_dinner_list_mark = dinner_list.pop(2)\n",
        "popped_dinner_list_jeff = dinner_list.pop(3)\n",
        "popped_dinner_list_tom = dinner_list.pop(0)\n",
        "\n",
        "print(dinner_list)\n",
        "print(f'im sorry {popped_dinner_list_elon} but you are univited from the dinner')\n",
        "print(f'im sorry {popped_dinner_list_mark} but you are univited from the dinner')\n",
        "print(f'im sorry {popped_dinner_list_jeff} but you are univited from the dinner')\n",
        "print(f'im sorry {popped_dinner_list_tom} but you are univited from the dinner')\n"
      ],
      "metadata": {
        "colab": {
          "base_uri": "https://localhost:8080/"
        },
        "id": "QW5rt3ly7Oov",
        "outputId": "2615987b-5430-4c66-8ef2-ef7c49440af6"
      },
      "execution_count": null,
      "outputs": [
        {
          "output_type": "stream",
          "name": "stdout",
          "text": [
            "hello Tom Segura you are invited for dinner \n",
            "hello Zach Bryan you are invited for dinner \n",
            "hello Tj Watt you are invited for dinner \n",
            "\n",
            "Tj Watt cannot make it to dinner.\n",
            "['Tom Segura', 'Elon Musk', 'Tj Watt']\n",
            "\n",
            "hello Tom Segura you are invited for dinner \n",
            "hello Elon Musk you are invited for dinner \n",
            "hello Tj Watt you are invited for dinner \n",
            "\n",
            "We have found a bigger table with three more spots!\n",
            "['Tom Segura', 'Elon Musk', 'Tj Watt', 'Mark Zuckerberg', 'Gordon Ramsey', 'Jeff Bezos']\n",
            "\n",
            "hello Tom Segura you are invited for dinner \n",
            "hello Elon Musk you are invited for dinner \n",
            "hello Tj Watt you are invited for dinner \n",
            "hello Mark Zuckerberg you are invited for dinner \n",
            "hello Gordon Ramsey you are invited for dinner \n",
            "hello Jeff Bezos you are invited for dinner \n",
            "\n",
            "Oh No... we were unable to get the bigger table. We can only fit two people\n",
            "['Tj Watt', 'Gordon Ramsey']\n",
            "im sorry Elon Musk but you are univited from the dinner\n",
            "im sorry Mark Zuckerberg but you are univited from the dinner\n",
            "im sorry Jeff Bezos but you are univited from the dinner\n",
            "im sorry Tom Segura but you are univited from the dinner\n"
          ]
        }
      ]
    },
    {
      "cell_type": "code",
      "source": [
        "cars = ['bmw', 'audi', 'toyata', 'subaru']\n",
        "cars.sort()\n",
        "print(cars)"
      ],
      "metadata": {
        "colab": {
          "base_uri": "https://localhost:8080/"
        },
        "id": "Ir4uPsZvIllK",
        "outputId": "b8321ee0-e914-49c5-bd8e-58dd874c57b7"
      },
      "execution_count": null,
      "outputs": [
        {
          "output_type": "stream",
          "name": "stdout",
          "text": [
            "['audi', 'bmw', 'subaru', 'toyata']\n"
          ]
        }
      ]
    },
    {
      "cell_type": "code",
      "source": [
        "cars = ['bmw', 'audi', 'toyata', 'subaru']\n",
        "cars.sort(reverse=True)\n",
        "print(cars)"
      ],
      "metadata": {
        "colab": {
          "base_uri": "https://localhost:8080/"
        },
        "id": "5WIR-0tvLrJ9",
        "outputId": "a91586cb-9959-4ea3-d07e-118e66715a52"
      },
      "execution_count": null,
      "outputs": [
        {
          "output_type": "stream",
          "name": "stdout",
          "text": [
            "['toyata', 'subaru', 'bmw', 'audi']\n"
          ]
        }
      ]
    },
    {
      "cell_type": "code",
      "source": [
        "cars = ['bmw', 'audi', 'toyata', 'subaru']\n",
        "\n",
        "print('\\nhere is the original list:')\n",
        "print(cars)\n",
        "\n",
        "print(\"\\nhere is the sorted list:\")\n",
        "print(sorted(cars))\n",
        "\n",
        "print('\\nhere is the original list again:')\n",
        "print(cars)"
      ],
      "metadata": {
        "colab": {
          "base_uri": "https://localhost:8080/"
        },
        "id": "SV50_zF4L4xT",
        "outputId": "566286b9-d90c-4c50-a490-34d3cea756f2"
      },
      "execution_count": null,
      "outputs": [
        {
          "output_type": "stream",
          "name": "stdout",
          "text": [
            "\n",
            "here is the original list:\n",
            "['bmw', 'audi', 'toyata', 'subaru']\n",
            "\n",
            "here is the sorted list:\n",
            "['audi', 'bmw', 'subaru', 'toyata']\n",
            "\n",
            "here is the original list again:\n",
            "['bmw', 'audi', 'toyata', 'subaru']\n"
          ]
        }
      ]
    },
    {
      "cell_type": "code",
      "source": [
        "cars = ['bmw', 'audi', 'toyata', 'subaru']\n",
        "print(cars)\n",
        "\n",
        "cars.reverse()\n",
        "print(cars)"
      ],
      "metadata": {
        "colab": {
          "base_uri": "https://localhost:8080/"
        },
        "id": "TV5oymWMMfiu",
        "outputId": "7733578b-7354-4f19-9421-3f0f5d3a5b7b"
      },
      "execution_count": null,
      "outputs": [
        {
          "output_type": "stream",
          "name": "stdout",
          "text": [
            "['bmw', 'audi', 'toyata', 'subaru']\n",
            "['subaru', 'toyata', 'audi', 'bmw']\n"
          ]
        }
      ]
    },
    {
      "cell_type": "code",
      "source": [
        "cars = ['bmw', 'audi', 'toyata', 'subaru']\n",
        "len(cars)"
      ],
      "metadata": {
        "colab": {
          "base_uri": "https://localhost:8080/"
        },
        "id": "polRYKrTM9t-",
        "outputId": "a08f27ba-3b92-4c56-f35c-640c0dc0011a"
      },
      "execution_count": null,
      "outputs": [
        {
          "output_type": "execute_result",
          "data": {
            "text/plain": [
              "4"
            ]
          },
          "metadata": {},
          "execution_count": 104
        }
      ]
    },
    {
      "cell_type": "code",
      "source": [
        "#3-8\n",
        "locations = ['Greece', 'Italy', 'France', 'Hawaii', 'London']\n",
        "print(locations)\n",
        "print(sorted(locations))\n",
        "\n",
        "print(locations)\n",
        "locations.reverse()\n",
        "print(locations)\n",
        "locations.reverse()\n",
        "print(locations)\n",
        "locations.sort()\n",
        "print(locations)\n",
        "locations.sort(reverse=True)\n",
        "print(locations)"
      ],
      "metadata": {
        "colab": {
          "base_uri": "https://localhost:8080/"
        },
        "id": "boKHNJdiRg9E",
        "outputId": "394ad50f-fea3-442b-bc54-19decbfe382f"
      },
      "execution_count": null,
      "outputs": [
        {
          "output_type": "stream",
          "name": "stdout",
          "text": [
            "['Greece', 'Italy', 'France', 'Hawaii', 'London']\n",
            "['France', 'Greece', 'Hawaii', 'Italy', 'London']\n",
            "['Greece', 'Italy', 'France', 'Hawaii', 'London']\n",
            "['London', 'Hawaii', 'France', 'Italy', 'Greece']\n",
            "['Greece', 'Italy', 'France', 'Hawaii', 'London']\n",
            "['France', 'Greece', 'Hawaii', 'Italy', 'London']\n",
            "['London', 'Italy', 'Hawaii', 'Greece', 'France']\n"
          ]
        }
      ]
    },
    {
      "cell_type": "code",
      "source": [
        "#3-9\n",
        "\n"
      ],
      "metadata": {
        "id": "uw4JX7aTR8g4"
      },
      "execution_count": null,
      "outputs": []
    },
    {
      "cell_type": "code",
      "source": [
        "#3-9\n",
        "dinner_list = ['Tom Segura', 'Zach Bryan', 'Tj Watt']\n",
        "message_tom = f\"hello {dinner_list[0]} you are invited for dinner \"\n",
        "message_zach = f\"hello {dinner_list[1]} you are invited for dinner \"\n",
        "message_tj = f\"hello {dinner_list[2]} you are invited for dinner \"\n",
        "\n",
        "print(message_tom)\n",
        "print(message_zach)\n",
        "print(message_tj)\n",
        "len(dinner_list)"
      ],
      "metadata": {
        "colab": {
          "base_uri": "https://localhost:8080/"
        },
        "outputId": "45b1f97e-1927-4499-e518-ad3a0da9b182",
        "id": "qgOtUKVw1I_U"
      },
      "execution_count": 16,
      "outputs": [
        {
          "output_type": "stream",
          "name": "stdout",
          "text": [
            "hello Tom Segura you are invited for dinner \n",
            "hello Zach Bryan you are invited for dinner \n",
            "hello Tj Watt you are invited for dinner \n"
          ]
        },
        {
          "output_type": "execute_result",
          "data": {
            "text/plain": [
              "3"
            ]
          },
          "metadata": {},
          "execution_count": 16
        }
      ]
    },
    {
      "cell_type": "code",
      "source": [
        "#3-10\n",
        "print(football_teams[2].title())\n",
        "print(football_teams[-1])\n",
        "print(f'my favirote team is the {football_teams[0]}.')\n",
        "football_teams[1]=\"Giants\"\n",
        "print(football_teams)\n",
        "football_teams.append('Bengals')\n",
        "print(football_teams)\n",
        "football_teams.insert(3, \"Bills\")\n",
        "print(football_teams)\n",
        "del football_teams[3]\n",
        "print(football_teams)\n",
        "popped_teams = football_teams.pop()\n",
        "print(football_teams)\n",
        "print(popped_teams)\n",
        "\n",
        "print(sorted(football_teams))\n",
        "football_teams.sort(reverse = True)\n",
        "print(football_teams)\n",
        "football_teams.reverse()\n",
        "print(football_teams)\n",
        "len(football_teams)"
      ],
      "metadata": {
        "colab": {
          "base_uri": "https://localhost:8080/"
        },
        "id": "eKL97FJ-1X4d",
        "outputId": "af5fffe9-30d4-4dda-a294-cbf5116b2955"
      },
      "execution_count": 37,
      "outputs": [
        {
          "output_type": "stream",
          "name": "stdout",
          "text": [
            "Ravens\n",
            "Chiefs\n",
            "my favirote team is the Steelers.\n",
            "['Steelers', 'Giants', 'Ravens', 'Browns', 'Chiefs']\n",
            "['Steelers', 'Giants', 'Ravens', 'Browns', 'Chiefs', 'Bengals']\n",
            "['Steelers', 'Giants', 'Ravens', 'Bills', 'Browns', 'Chiefs', 'Bengals']\n",
            "['Steelers', 'Giants', 'Ravens', 'Browns', 'Chiefs', 'Bengals']\n",
            "['Steelers', 'Giants', 'Ravens', 'Browns', 'Chiefs']\n",
            "Bengals\n",
            "['Browns', 'Chiefs', 'Giants', 'Ravens', 'Steelers']\n",
            "['Steelers', 'Ravens', 'Giants', 'Chiefs', 'Browns']\n",
            "['Browns', 'Chiefs', 'Giants', 'Ravens', 'Steelers']\n"
          ]
        },
        {
          "output_type": "execute_result",
          "data": {
            "text/plain": [
              "5"
            ]
          },
          "metadata": {},
          "execution_count": 37
        }
      ]
    },
    {
      "cell_type": "code",
      "source": [
        "#Print the cubes of all of the integers that are a multiple of 7 between 60 and 85\n",
        "for i in range(60,86):\n",
        "  if i % 7 == 0:\n",
        "    print(i**3)\n",
        "print(\"these are the cubes of those numbers\")\n"
      ],
      "metadata": {
        "colab": {
          "base_uri": "https://localhost:8080/"
        },
        "id": "WuoeAcdw2Ebi",
        "outputId": "521b9059-b7f4-4835-af1b-99d752a3a476"
      },
      "execution_count": 43,
      "outputs": [
        {
          "output_type": "stream",
          "name": "stdout",
          "text": [
            "250047\n",
            "343000\n",
            "456533\n",
            "592704\n",
            "these are the cubes of those numbers\n"
          ]
        }
      ]
    },
    {
      "cell_type": "code",
      "source": [
        "x= 40\n",
        "type(x)\n",
        "value = 7.4 * x + 51\n",
        "print(value)\n",
        "\n",
        "x=50\n",
        "value = 7.4 * x + 51\n",
        "print(value)\n",
        "\n",
        "x = 120\n",
        "value = 7.4 * x + 51\n",
        "print(value)\n",
        "\n",
        "x = -8\n",
        "value = 7.4 * x + 51\n",
        "print(value)\n",
        "\n",
        "x = 6\n",
        "value = 7.4 * x + 51\n",
        "print(value)"
      ],
      "metadata": {
        "colab": {
          "base_uri": "https://localhost:8080/"
        },
        "id": "h4maaWh-6LJo",
        "outputId": "426ddf48-0407-4f39-e7ea-f7a8804f7afd"
      },
      "execution_count": 52,
      "outputs": [
        {
          "output_type": "stream",
          "name": "stdout",
          "text": [
            "347.0\n",
            "421.0\n",
            "939.0\n",
            "-8.200000000000003\n",
            "95.4\n"
          ]
        }
      ]
    },
    {
      "cell_type": "code",
      "source": [],
      "metadata": {
        "id": "AjdNXOQT80pq"
      },
      "execution_count": null,
      "outputs": []
    }
  ]
}