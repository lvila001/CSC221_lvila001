{
  "nbformat": 4,
  "nbformat_minor": 0,
  "metadata": {
    "colab": {
      "provenance": [],
      "authorship_tag": "ABX9TyOQ2Rz5A7f8eUuhrzBTwr+n",
      "include_colab_link": true
    },
    "kernelspec": {
      "name": "python3",
      "display_name": "Python 3"
    },
    "language_info": {
      "name": "python"
    }
  },
  "cells": [
    {
      "cell_type": "markdown",
      "metadata": {
        "id": "view-in-github",
        "colab_type": "text"
      },
      "source": [
        "<a href=\"https://colab.research.google.com/github/lvila001/CSC221_lvila001/blob/main/Assignment_14.ipynb\" target=\"_parent\"><img src=\"https://colab.research.google.com/assets/colab-badge.svg\" alt=\"Open In Colab\"/></a>"
      ]
    },
    {
      "cell_type": "markdown",
      "source": [
        "Assignment 14: Exceptions\n",
        "\n",
        "Logan Vilardi"
      ],
      "metadata": {
        "id": "q2-eTnDKUZO4"
      }
    },
    {
      "cell_type": "markdown",
      "source": [
        "Part 1"
      ],
      "metadata": {
        "id": "rRuk-hyZ4BgK"
      }
    },
    {
      "cell_type": "code",
      "execution_count": 16,
      "metadata": {
        "id": "HBfS2RKPUTLq",
        "colab": {
          "base_uri": "https://localhost:8080/"
        },
        "outputId": "037ff8be-d42b-4be0-e714-7747ea83dad3"
      },
      "outputs": [
        {
          "output_type": "stream",
          "name": "stdout",
          "text": [
            "3 * 5\n",
            "3.0 * 5.0 = 15.0\n"
          ]
        }
      ],
      "source": [
        "class Calculator:\n",
        "\n",
        "  def __init__(self):\n",
        "    '''initializes variables and splits the input into floats and strings'''\n",
        "\n",
        "    self.calculation = False\n",
        "\n",
        "    #making the variables for operator and numbers 1 and 2\n",
        "\n",
        "  def user_input(self):\n",
        "    calculation = input('')\n",
        "    calculation_split = calculation.split(' ')\n",
        "\n",
        "    try:\n",
        "\n",
        "    #making the variables for operator and numbers 1 and 2\n",
        "      self.num1= float(calculation_split[0])\n",
        "      self.num2 = float(calculation_split[2])\n",
        "      self.operator = calculation_split[1]\n",
        "\n",
        "    except ValueError:\n",
        "      print(\"Invalid input. Please enter in the format: number operator number\")\n",
        "      return False\n",
        "\n",
        "    except IndexError:\n",
        "      print(\"Incomplete input. Please enter in the format: number operator number\")\n",
        "      return False\n",
        "\n",
        "    return True\n",
        "\n",
        "  def decide_operator(self):\n",
        "    if self.operator == \"+\":\n",
        "      return (self.num1 + self.num2)\n",
        "\n",
        "    elif self.operator == '-':\n",
        "      return (self.num1 - self.num2)\n",
        "\n",
        "    elif self.operator == '/':\n",
        "      return (self.num1 / self.num2)\n",
        "\n",
        "    elif self.operator == '*':\n",
        "      return (self.num1 * self.num2)\n",
        "\n",
        "\n",
        "  def calculate(self):\n",
        "    while not self.calculation:\n",
        "      if self.user_input():\n",
        "        result = self.decide_operator()\n",
        "\n",
        "        if result is not None:\n",
        "          print(f\"{self.num1} {self.operator} {self.num2} = {result}\")\n",
        "          self.calculation = True\n",
        "\n",
        "if __name__ == \"__main__\":\n",
        "  calculator = Calculator()\n",
        "  calculator.calculate()\n",
        "\n"
      ]
    },
    {
      "cell_type": "markdown",
      "source": [
        "Just testing stuff"
      ],
      "metadata": {
        "id": "jDXQAKxz37Vj"
      }
    },
    {
      "cell_type": "code",
      "source": [
        "inp = input('test:')\n",
        "arg = inp.split(' ') # split the input by spaces\n",
        "\n",
        "print(arg)\n",
        "print(arg[0])"
      ],
      "metadata": {
        "colab": {
          "base_uri": "https://localhost:8080/"
        },
        "id": "YHIMDCmhXZCt",
        "outputId": "ff75121c-9914-4c7a-fd0e-ff04a68270ed"
      },
      "execution_count": null,
      "outputs": [
        {
          "output_type": "stream",
          "name": "stdout",
          "text": [
            "test:3 * 6\n",
            "['3', '*', '6']\n",
            "3\n"
          ]
        }
      ]
    },
    {
      "cell_type": "markdown",
      "source": [
        "Part 2"
      ],
      "metadata": {
        "id": "ZwZAShrJ3_Jy"
      }
    },
    {
      "cell_type": "code",
      "source": [
        "from os import replace\n",
        "from pathlib import Path\n",
        "r_one = Path('/content/as_received1.txt')\n",
        "r_two = Path('/content/as_received2.txt')\n",
        "r_three= Path('/content/as_received3.txt')\n",
        "\n",
        "def read_and_combine_files(file_paths):\n",
        "    contents = \"\"\n",
        "    for file_path in file_paths:\n",
        "        try:\n",
        "            content = file_path.read_text()\n",
        "            contents += content\n",
        "        except FileNotFoundError:\n",
        "            print(f\"File {file_path} not found.\")\n",
        "        except Exception as e:\n",
        "            print(f\"An error occurred while reading the file {file_path}: {str(e)}\")\n",
        "    return contents\n",
        "\n",
        "def write_to_file(file_path, contents):\n",
        "    try:\n",
        "        file_path.write_text(contents)\n",
        "    except Exception as e:\n",
        "        print(f\"An error occurred while writing to the file {file_path}: {str(e)}\")\n",
        "\n",
        "content1 = r_one.read_text()\n",
        "content2 = r_two.read_text()\n",
        "content3 = r_two.read_text()\n",
        "\n",
        "contents = content1 + content2 + content3\n",
        "\n",
        "\n",
        "debugged_plus = contents.replace('++', '+')\n",
        "contents = debugged_plus.replace('nnn', 'nn')\n",
        "contents = contents.replace('0O', '00')\n",
        "contents = contents.replace('_dot_com', '.com')\n",
        "contents = contents.replace('swiming', 'Swimming')\n",
        "contents = contents.replace('_', ' ')\n",
        "\n",
        "contents = contents.replace('platsburgh', 'Plattsburgh')\n",
        "contents = contents.replace('plattsburg', 'Plattsburgh')\n",
        "contents = contents.replace('platsburg', 'Plattsburgh')\n",
        "contents = contents.replace('plattsberg', 'Plattsburgh')\n",
        "\n",
        "# Save the modified content to a new file\n",
        "corrected_file = Path('/content/corrected.txt')\n",
        "corrected_file.write_text(contents)\n",
        "\n",
        "\n"
      ],
      "metadata": {
        "id": "eBdrREgAnY_b"
      },
      "execution_count": null,
      "outputs": []
    }
  ]
}