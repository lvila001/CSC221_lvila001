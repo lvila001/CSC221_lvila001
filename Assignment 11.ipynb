{
  "nbformat": 4,
  "nbformat_minor": 0,
  "metadata": {
    "colab": {
      "provenance": [],
      "authorship_tag": "ABX9TyNmsKAl9D3CGlYrzbYuAjUl",
      "include_colab_link": true
    },
    "kernelspec": {
      "name": "python3",
      "display_name": "Python 3"
    },
    "language_info": {
      "name": "python"
    }
  },
  "cells": [
    {
      "cell_type": "markdown",
      "metadata": {
        "id": "view-in-github",
        "colab_type": "text"
      },
      "source": [
        "<a href=\"https://colab.research.google.com/github/lvila001/CSC221_lvila001/blob/main/Assignment%2011.ipynb\" target=\"_parent\"><img src=\"https://colab.research.google.com/assets/colab-badge.svg\" alt=\"Open In Colab\"/></a>"
      ]
    },
    {
      "cell_type": "markdown",
      "source": [
        "Logan Vilardi\n",
        "\n",
        "Assignment 11: Classes Part 1\n"
      ],
      "metadata": {
        "id": "R7IjEwIt9T-w"
      }
    },
    {
      "cell_type": "code",
      "execution_count": null,
      "metadata": {
        "id": "SYD4JS728t3f"
      },
      "outputs": [],
      "source": [
        "class Dog:\n",
        "  \"\"\"A simple attempt to model a dog\"\"\"\n",
        "  def __init__(self, name, age):\n",
        "    \"\"\"inititialize name and age attributes\"\"\"\n",
        "    self.name = name\n",
        "    self.age = age\n",
        "\n",
        "  def sit(self):\n",
        "      \"\"\"Simulate a dog sitting in response to a command\"\"\"\n",
        "      print(f\"{self.name} is now sitting\")\n",
        "\n",
        "  def roll_over(self):\n",
        "        '''simulate rolling over in response to a command'''\n",
        "        print(f'{self.name} rolled over!')\n"
      ]
    },
    {
      "cell_type": "code",
      "source": [
        "my_dog = Dog('willie', 6)\n",
        "print(f'my dogs name is {my_dog.name}.')\n",
        "print(f'my dog is {my_dog.age}.')\n",
        "my_dog.sit()\n",
        "my_dog.roll_over()"
      ],
      "metadata": {
        "colab": {
          "base_uri": "https://localhost:8080/"
        },
        "id": "NiFpi0J7BcOu",
        "outputId": "aee87781-02f8-435d-baa0-f9285e3a626a"
      },
      "execution_count": null,
      "outputs": [
        {
          "output_type": "stream",
          "name": "stdout",
          "text": [
            "my dogs name is willie.\n",
            "my dog is 6.\n",
            "willie is now sitting\n",
            "willie rolled over!\n"
          ]
        }
      ]
    },
    {
      "cell_type": "code",
      "source": [
        "my_dog = Dog('willie', 6)\n",
        "your_dog = Dog('lucy', 3)\n",
        "\n",
        "print(f'my dogs name is {my_dog.name}.')\n",
        "print(f'my dog is {my_dog.age}.')\n",
        "my_dog.sit()\n",
        "\n",
        "print(f'\\nmy dogs name is {your_dog.name}.')\n",
        "print(f'my dog is {your_dog.age}.')\n",
        "my_dog.sit()"
      ],
      "metadata": {
        "colab": {
          "base_uri": "https://localhost:8080/"
        },
        "id": "jQwYqBVXBf9B",
        "outputId": "16493094-2fc6-46a9-bb24-0735b62f5e5f"
      },
      "execution_count": null,
      "outputs": [
        {
          "output_type": "stream",
          "name": "stdout",
          "text": [
            "my dogs name is willie.\n",
            "my dog is 6.\n",
            "willie is now sitting\n",
            "\n",
            "my dogs name is lucy.\n",
            "my dog is 3.\n",
            "willie is now sitting\n"
          ]
        }
      ]
    },
    {
      "cell_type": "markdown",
      "source": [
        "**DIY 9-1**"
      ],
      "metadata": {
        "id": "y4OawPSmDpnb"
      }
    },
    {
      "cell_type": "code",
      "source": [
        "class Restaurant:\n",
        "  def __init__(self, restaurant_name, cuisine_type):\n",
        "    self.restaurant_name = restaurant_name\n",
        "    self.cuisine_type = cuisine_type\n",
        "\n",
        "  def describe_resteraut(self):\n",
        "    print(f'The resteraunts name is {self.restaurant_name}.')\n",
        "    print(f'It serves {self.cuisine_type}')\n",
        "\n",
        "\n",
        "  def open_resteraunt(self):\n",
        "    print(f'{self.restaurant_name} is OPEN')\n"
      ],
      "metadata": {
        "id": "wSD48EcGDmik"
      },
      "execution_count": 3,
      "outputs": []
    },
    {
      "cell_type": "code",
      "source": [
        "dominos = Restaurant('Dominos', 'Pizza')\n",
        "dominos.describe_resteraut()\n",
        "dominos.open_resteraunt()"
      ],
      "metadata": {
        "colab": {
          "base_uri": "https://localhost:8080/"
        },
        "id": "SM4oYEtbG6X5",
        "outputId": "155264a7-1d29-48b6-da8a-dd84f6ca55df"
      },
      "execution_count": 9,
      "outputs": [
        {
          "output_type": "stream",
          "name": "stdout",
          "text": [
            "The resteraunts name is Dominos.\n",
            "It serves Pizza\n",
            "Dominos is OPEN\n"
          ]
        }
      ]
    },
    {
      "cell_type": "markdown",
      "source": [
        "**DIY 9-2**"
      ],
      "metadata": {
        "id": "Wmsto-Gh_yhP"
      }
    },
    {
      "cell_type": "code",
      "source": [
        "dominos = Restaurant('Dominos', 'Pizza')\n",
        "dominos.describe_resteraut()\n",
        "dominos.open_resteraunt()\n",
        "print('\\n')\n",
        "subway = Restaurant('Subway', 'Sandwhiches')\n",
        "subway.describe_resteraut()\n",
        "subway.open_resteraunt()\n",
        "print('\\n')\n",
        "chipotle = Restaurant('Chipotle', 'Mexican')\n",
        "chipotle.describe_resteraut()\n",
        "chipotle.open_resteraunt()"
      ],
      "metadata": {
        "id": "b2CzzgaPHNF4",
        "colab": {
          "base_uri": "https://localhost:8080/"
        },
        "outputId": "368d4427-3729-43a5-b85d-1e6aba457d06"
      },
      "execution_count": 12,
      "outputs": [
        {
          "output_type": "stream",
          "name": "stdout",
          "text": [
            "The resteraunts name is Dominos.\n",
            "It serves Pizza\n",
            "Dominos is OPEN\n",
            "\n",
            "\n",
            "The resteraunts name is Subway.\n",
            "It serves Sandwhiches\n",
            "Subway is OPEN\n",
            "\n",
            "\n",
            "The resteraunts name is Chipotle.\n",
            "It serves Mexican\n",
            "Chipotle is OPEN\n"
          ]
        }
      ]
    },
    {
      "cell_type": "markdown",
      "source": [
        "**DIY 9-3**"
      ],
      "metadata": {
        "id": "eH63Z9-u_4u7"
      }
    },
    {
      "cell_type": "code",
      "source": [
        "class User:\n",
        "  def __init__(self, first_name, last_name, age, gender):\n",
        "    self.first_name = first_name\n",
        "    self.last_name = last_name\n",
        "    self.age = age\n",
        "    self.gender = gender\n",
        "\n",
        "  def describe_user(self):\n",
        "    '''Creates a user Profile with all attributes'''\n",
        "\n",
        "    print(f'''{self.first_name} user Profile:\n",
        "    \\n\\tFirst Name: {self.first_name}\n",
        "    \\n\\tLast Name: {self.last_name}\n",
        "    \\n\\tAge: {self.age}\n",
        "    \\n\\tGender: {self.gender}''')\n",
        "\n",
        "  def greet_user(self):\n",
        "\n",
        "    print(f'\\nHello {self.first_name} {self.last_name}, welcome to the code.\\n\\n')\n",
        "\n",
        "bob = User('Bob', 'Marley', 76, 'Male')\n",
        "bob.describe_user()\n",
        "bob.greet_user()\n",
        "print\n",
        "andrew = User('Andrew', 'Bannana', 22, 'Male')\n",
        "andrew.describe_user()\n",
        "andrew.greet_user()\n",
        "jen = User('Jen', 'Law', 34, 'Female')\n",
        "jen.describe_user()\n",
        "jen.greet_user()"
      ],
      "metadata": {
        "colab": {
          "base_uri": "https://localhost:8080/"
        },
        "id": "zLZo4Qt7_TRi",
        "outputId": "1daf7246-cc84-4cc8-cbe2-2be751a029e2"
      },
      "execution_count": 31,
      "outputs": [
        {
          "output_type": "stream",
          "name": "stdout",
          "text": [
            "Bob user Profile:\n",
            "    \n",
            "\tFirst Name: Bob\n",
            "    \n",
            "\tLast Name: Marley\n",
            "    \n",
            "\tAge: 76\n",
            "    \n",
            "\tGender: Male\n",
            "\n",
            "Hello Bob Marley, welcome to the code.\n",
            "\n",
            "\n",
            "Andrew user Profile:\n",
            "    \n",
            "\tFirst Name: Andrew\n",
            "    \n",
            "\tLast Name: Bannana\n",
            "    \n",
            "\tAge: 22\n",
            "    \n",
            "\tGender: Male\n",
            "\n",
            "Hello Andrew Bannana, welcome to the code.\n",
            "\n",
            "\n",
            "Jen user Profile:\n",
            "    \n",
            "\tFirst Name: Jen\n",
            "    \n",
            "\tLast Name: Law\n",
            "    \n",
            "\tAge: 34\n",
            "    \n",
            "\tGender: Female\n",
            "\n",
            "Hello Jen Law, welcome to the code.\n",
            "\n",
            "\n"
          ]
        }
      ]
    },
    {
      "cell_type": "code",
      "source": [
        "class Car:\n",
        " \"\"\"A simple attempt to represent a car.\"\"\"\n",
        "\n",
        " def __init__(self, make, model, year):\n",
        "    \"\"\"Initialize attributes to describe a car.\"\"\"\n",
        "    self.make = make\n",
        "    self.model = model\n",
        "    self.year = year\n",
        " def get_descriptive_name(self):\n",
        "    \"\"\"Return a neatly formatted descriptive name.\"\"\"\n",
        "    long_name = f\"{self.year} {self.make} {self.model}\"\n",
        "    return long_name.title()\n",
        "\n",
        "my_new_car = Car('audi', 'a4', 2024)\n",
        "print(my_new_car.get_descriptive_name())"
      ],
      "metadata": {
        "colab": {
          "base_uri": "https://localhost:8080/"
        },
        "id": "geZMwvdoDWAY",
        "outputId": "4a8e36f6-3405-40aa-b5d8-075b97f1e6e3"
      },
      "execution_count": 32,
      "outputs": [
        {
          "output_type": "stream",
          "name": "stdout",
          "text": [
            "2024 Audi A4\n"
          ]
        }
      ]
    },
    {
      "cell_type": "markdown",
      "source": [
        "**Class Car**"
      ],
      "metadata": {
        "id": "8DtNLIgqL0eo"
      }
    },
    {
      "cell_type": "code",
      "source": [
        "class Car:\n",
        " \"\"\"A simple attempt to represent a car.\"\"\"\n",
        "\n",
        " def __init__(self, make, model, year):\n",
        "    \"\"\"Initialize attributes to describe a car.\"\"\"\n",
        "    self.make = make\n",
        "    self.model = model\n",
        "    self.year = year\n",
        "    self.odometer_reading = 0\n",
        " def get_descriptive_name(self):\n",
        "    \"\"\"Return a neatly formatted descriptive name.\"\"\"\n",
        "    long_name = f\"{self.year} {self.make} {self.model}\"\n",
        "    return long_name.title()\n",
        " def read_odometer(self):\n",
        "  \"\"\"Print a statement showing the car's mileage.\"\"\"\n",
        "  print(f\"This car has {self.odometer_reading} miles on it.\")\n",
        "\n",
        " def update_odometer(self, mileage):\n",
        "  \"\"\"Set the odometer reading to the given value. Reject the change if it attempts to roll the odometer back.\"\"\"\n",
        "  if mileage >= self.odometer_reading:\n",
        "    self.odometer_reading = mileage\n",
        "  else:\n",
        "    print(\"You can't roll back an odometer!\")\n",
        "\n",
        " def increment_odometer(self, miles):\n",
        "   \"\"\"Add the given amount to the odometer reading.\"\"\"\n",
        "   self.odometer_reading += miles\n",
        "\n",
        "\n",
        "my_used_car = Car('subaru', 'outback', 2019)\n",
        "print(my_used_car.get_descriptive_name())\n",
        "\n",
        "my_used_car.update_odometer(23_500)\n",
        "my_used_car.read_odometer()\n",
        "\n",
        "my_used_car.increment_odometer(100)\n",
        "my_used_car.read_odometer()\n"
      ],
      "metadata": {
        "colab": {
          "base_uri": "https://localhost:8080/"
        },
        "id": "za7SHT9cGJO0",
        "outputId": "e38370c3-f28c-45f6-f2a9-2b08a5df8de4"
      },
      "execution_count": 43,
      "outputs": [
        {
          "output_type": "stream",
          "name": "stdout",
          "text": [
            "2019 Subaru Outback\n",
            "This car has 23500 miles on it.\n",
            "This car has 23600 miles on it.\n"
          ]
        }
      ]
    },
    {
      "cell_type": "markdown",
      "source": [
        "**Class ElectricCar**"
      ],
      "metadata": {
        "id": "IWc_97aLLq_D"
      }
    },
    {
      "cell_type": "code",
      "source": [
        "class ElectricCar(Car):\n",
        "  '''represents aspects of a car, specific to electric vehicles'''\n",
        "  def __init__(self, make, model, year):\n",
        "    '''Initialize attributes of the parent class, then initialize attributes for the child class specifically'''\n",
        "    super().__init__(make,model,year)\n",
        "    self.battery = Battery()\n",
        "\n",
        "\n",
        "  def fill_gas_tank(self):\n",
        "    \"\"\"Electric cars don't have gas tanks.\"\"\"\n",
        "    print(\"This car doesn't have a gas tank!\")\n",
        "\n",
        "my_leaf = ElectricCar('nissan', 'leaf', 2024)\n",
        "print(my_leaf.get_descriptive_name())\n",
        "my_leaf.battery.describe_battery()\n",
        "my_leaf.battery.get_range()"
      ],
      "metadata": {
        "colab": {
          "base_uri": "https://localhost:8080/"
        },
        "id": "UKyjdxA-Gs7a",
        "outputId": "e90f921d-7286-4635-be0a-08f329afda8f"
      },
      "execution_count": 68,
      "outputs": [
        {
          "output_type": "stream",
          "name": "stdout",
          "text": [
            "2024 Nissan Leaf\n",
            "This car has a 40-kWh battery.\n",
            "This car can go about 150 miles on a full charge.\n"
          ]
        }
      ]
    },
    {
      "cell_type": "markdown",
      "source": [
        "**Class Battery**"
      ],
      "metadata": {
        "id": "TbzydiGML1wq"
      }
    },
    {
      "cell_type": "code",
      "source": [
        "class Battery:\n",
        "  '''A simple attempt to model a battery for an electric car'''\n",
        "\n",
        "  def __init__(self, battery_size=40):\n",
        "   \"\"\"Initialize the battery's attributes.\"\"\"\n",
        "   self.battery_size = battery_size\n",
        "\n",
        "  def describe_battery(self):\n",
        "   \"\"\"Print a statement describing the battery size.\"\"\"\n",
        "   print(f\"This car has a {self.battery_size}-kWh battery.\")\n",
        "\n",
        "  def get_range(self):\n",
        "    \"\"\"Print a statement about the range this battery provides.\"\"\"\n",
        "    if self.battery_size == 40:\n",
        "      range = 150\n",
        "    elif self.battery_size == 65:\n",
        "      range = 225\n",
        "\n",
        "    print(f\"This car can go about {range} miles on a full charge.\")\n"
      ],
      "metadata": {
        "id": "bZylvzARKr-g"
      },
      "execution_count": 66,
      "outputs": []
    },
    {
      "cell_type": "markdown",
      "source": [
        "**DIY 9-6**"
      ],
      "metadata": {
        "id": "pL5PhBOmO1fe"
      }
    },
    {
      "cell_type": "code",
      "source": [
        "class IceCreamStand(Restaurant):\n",
        "  def __init__(self,restaurant_name, cuisine_type, flavors):\n",
        "    super().__init__(restaurant_name, cuisine_type)\n",
        "    self.flavors = flavors\n",
        "\n",
        "  def display_flavors(self):\n",
        "\n",
        "    print(f'{self.restaurant_name} Ice Cream Flavors:')\n",
        "    for flavor in self.flavors:\n",
        "      print(f'\\t{flavor}')\n",
        "\n",
        "billys = IceCreamStand('Billys', 'Ice Cream', ['choclate', 'vanilla', 'strawberry'])\n",
        "billys.display_flavors()"
      ],
      "metadata": {
        "colab": {
          "base_uri": "https://localhost:8080/"
        },
        "id": "Uzn84eWkOSef",
        "outputId": "254c3e43-5c5f-492e-8565-0348a547415e"
      },
      "execution_count": 78,
      "outputs": [
        {
          "output_type": "stream",
          "name": "stdout",
          "text": [
            "Billys Ice Cream Flavors:\n",
            "\tchoclate\n",
            "\tvanilla\n",
            "\tstrawberry\n"
          ]
        }
      ]
    },
    {
      "cell_type": "markdown",
      "source": [
        "**DIY 9-7**"
      ],
      "metadata": {
        "id": "UZ0uaOcWVhfN"
      }
    },
    {
      "cell_type": "code",
      "source": [
        "class Admin(User):\n",
        "  def __init__(self, first_name, last_name, age, gender, privileges):\n",
        "    super().__init__(first_name, last_name, age, gender)\n",
        "    self.privileges = privileges\n",
        "\n",
        "  def show_privileges(self):\n",
        "    print(f'{self.first_name} Privileges:')\n",
        "    for privilege in self.privileges:\n",
        "      print(f'\\t{privilege}')\n",
        "\n",
        "joe = Admin('joe', 'momma', 88,  'Male',[\"can add post\", \"can delete post\", \"can ban user\"])\n",
        "joe.show_privileges()"
      ],
      "metadata": {
        "colab": {
          "base_uri": "https://localhost:8080/"
        },
        "id": "g2DZNKtoReza",
        "outputId": "a45f0249-2faa-4c99-c754-2eec02429ba5"
      },
      "execution_count": 86,
      "outputs": [
        {
          "output_type": "stream",
          "name": "stdout",
          "text": [
            "joe Privileges:\n",
            "\tcan add post\n",
            "\tcan delete post\n",
            "\tcan ban user\n"
          ]
        }
      ]
    },
    {
      "cell_type": "code",
      "source": [
        "my_new_car = Car('audi', 'a4', 2024)\n",
        "print(my_new_car.get_descriptive_name())\n",
        "my_new_car.odometer_reading = 23\n",
        "my_new_car.read_odometer()\n"
      ],
      "metadata": {
        "colab": {
          "base_uri": "https://localhost:8080/"
        },
        "id": "G0GcRCO1VHVX",
        "outputId": "6bc43d90-b55f-4081-e4a9-5c499a9f110d"
      },
      "execution_count": 87,
      "outputs": [
        {
          "output_type": "stream",
          "name": "stdout",
          "text": [
            "2024 Audi A4\n",
            "This car has 23 miles on it.\n"
          ]
        }
      ]
    },
    {
      "cell_type": "code",
      "source": [
        "my_leaf = ElectricCar('nissan', 'leaf', 2024)\n",
        "print(my_leaf.get_descriptive_name())\n",
        "my_leaf.battery.describe_battery()\n",
        "my_leaf.battery.get_range()"
      ],
      "metadata": {
        "colab": {
          "base_uri": "https://localhost:8080/"
        },
        "id": "9GOSk3GRVlE0",
        "outputId": "68a7323f-ed88-49e7-9ea5-89e1fc6f4269"
      },
      "execution_count": 88,
      "outputs": [
        {
          "output_type": "stream",
          "name": "stdout",
          "text": [
            "2024 Nissan Leaf\n",
            "This car has a 40-kWh battery.\n",
            "This car can go about 150 miles on a full charge.\n"
          ]
        }
      ]
    },
    {
      "cell_type": "code",
      "source": [
        "my_mustang = Car('ford', 'mustang', 2024)\n",
        "print(my_mustang.get_descriptive_name())\n",
        "my_leaf = ElectricCar('nissan', 'leaf', 2024)\n",
        "print(my_leaf.get_descriptive_name())\n"
      ],
      "metadata": {
        "colab": {
          "base_uri": "https://localhost:8080/"
        },
        "id": "WR3WMaOhVnob",
        "outputId": "399f3c42-e5f6-4a79-c5b9-b3741f25928c"
      },
      "execution_count": 90,
      "outputs": [
        {
          "output_type": "stream",
          "name": "stdout",
          "text": [
            "2024 Ford Mustang\n",
            "2024 Nissan Leaf\n"
          ]
        }
      ]
    },
    {
      "cell_type": "code",
      "source": [],
      "metadata": {
        "id": "JXFA3sg-VrVe"
      },
      "execution_count": null,
      "outputs": []
    }
  ]
}