{
  "nbformat": 4,
  "nbformat_minor": 0,
  "metadata": {
    "colab": {
      "provenance": [],
      "authorship_tag": "ABX9TyMrqw98a0gy6xDEWZo9Lic6",
      "include_colab_link": true
    },
    "kernelspec": {
      "name": "python3",
      "display_name": "Python 3"
    },
    "language_info": {
      "name": "python"
    }
  },
  "cells": [
    {
      "cell_type": "markdown",
      "metadata": {
        "id": "view-in-github",
        "colab_type": "text"
      },
      "source": [
        "<a href=\"https://colab.research.google.com/github/lvila001/CSC221_lvila001/blob/main/Assignment23_25.ipynb\" target=\"_parent\"><img src=\"https://colab.research.google.com/assets/colab-badge.svg\" alt=\"Open In Colab\"/></a>"
      ]
    },
    {
      "cell_type": "markdown",
      "source": [
        "Assignment 23-25: Functions\n",
        "\n",
        "\n",
        "Logan Vilardi"
      ],
      "metadata": {
        "id": "Gu0sZxYrK7VU"
      }
    },
    {
      "cell_type": "markdown",
      "source": [
        "1."
      ],
      "metadata": {
        "id": "UHoZOH_zLCQh"
      }
    },
    {
      "cell_type": "code",
      "execution_count": null,
      "metadata": {
        "colab": {
          "base_uri": "https://localhost:8080/"
        },
        "id": "xQnnEH98K5mI",
        "outputId": "aa19bda3-2c76-4390-c1d8-70ccf276dced"
      },
      "outputs": [
        {
          "output_type": "stream",
          "name": "stdout",
          "text": [
            "3\n",
            "-5.5\n",
            "Logan Vilardi\n"
          ]
        }
      ],
      "source": [
        "def func(a, b):\n",
        "    result = a + b\n",
        "    return result\n",
        "\n",
        "#test\n",
        "result1 = func(1, 2)\n",
        "print(result1)\n",
        "\n",
        "result2 = func(-3, -2.5)\n",
        "print(result2)\n",
        "\n",
        "result3 = func(\"Logan\", \" Vilardi\")\n",
        "print(result3)"
      ]
    },
    {
      "cell_type": "markdown",
      "source": [
        "2."
      ],
      "metadata": {
        "id": "jLG52Ew3L5SA"
      }
    },
    {
      "cell_type": "code",
      "source": [
        "def func(*args): #args allows you to accept any number of positional arguments\n",
        "    result = \" \".join(args)\n",
        "    return result\n",
        "\n",
        "#test\n",
        "result1 = func('l','o','g','a','n')\n",
        "print(result1)\n",
        "\n",
        "result2 = func(\"Logan\", \"plays\", \"lacrosse\")\n",
        "print(result2)"
      ],
      "metadata": {
        "colab": {
          "base_uri": "https://localhost:8080/"
        },
        "id": "oYEiFRhWLfpR",
        "outputId": "850f7e46-87ca-41ba-f17a-0ed8b6ab1082"
      },
      "execution_count": null,
      "outputs": [
        {
          "output_type": "stream",
          "name": "stdout",
          "text": [
            "l o g a n\n",
            "Logan plays lacrosse\n"
          ]
        }
      ]
    },
    {
      "cell_type": "markdown",
      "source": [
        "3."
      ],
      "metadata": {
        "id": "l9NONTJuMiEi"
      }
    },
    {
      "cell_type": "code",
      "source": [
        "def func(**kwargs):\n",
        "  stock_info = {}\n",
        "  if \"ticker\" in kwargs:\n",
        "    stock_info['ticker']  = {kwargs['ticker']}\n",
        "  if \"price\" in kwargs:\n",
        "        stock_info['Price'] = kwargs['price']\n",
        "\n",
        "  if \"industry\" in kwargs:\n",
        "        stock_info['Industry'] = kwargs['industry']\n",
        "\n",
        "  return stock_info\n",
        "\n",
        "GOOG = func(ticker=\"GOOG\", price=100.50, industry=\"Tech\")\n",
        "print(GOOG)"
      ],
      "metadata": {
        "colab": {
          "base_uri": "https://localhost:8080/"
        },
        "id": "KnllXjE-Mgbc",
        "outputId": "1347e687-b361-4361-aaed-dbaacf2a06f3"
      },
      "execution_count": null,
      "outputs": [
        {
          "output_type": "stream",
          "name": "stdout",
          "text": [
            "{'ticker': {'GOOG'}, 'Price': 100.5, 'Industry': 'Tech'}\n"
          ]
        }
      ]
    },
    {
      "cell_type": "markdown",
      "source": [
        "4."
      ],
      "metadata": {
        "id": "RREbO2leyQ8I"
      }
    },
    {
      "cell_type": "code",
      "source": [
        "def func(*args, **kwargs):\n",
        "    operator = kwargs.get('operator', '+')  # defaults to plus\n",
        "    result = 0\n",
        "\n",
        "    if operator == '+':\n",
        "        result = sum(args)\n",
        "    elif operator == '-':\n",
        "        if not args:\n",
        "            raise ValueError(\"No arguments provided for subtraction.\")\n",
        "        result = args[0] - sum(args[1:])\n",
        "    else:\n",
        "      return 'You can only use \"+\" or \"-\"'\n",
        "\n",
        "    return result\n",
        "\n",
        "\n",
        "\n",
        "#test\n",
        "print(func(1, 2, 3, operator='+'))\n",
        "print(func(10, 1, 2, operator='-'))\n",
        "print(func(1, 2, 3))"
      ],
      "metadata": {
        "colab": {
          "base_uri": "https://localhost:8080/"
        },
        "id": "ajpcV5u9yQs2",
        "outputId": "635e4174-f5bd-4ea4-b91f-a0e13b9a732d"
      },
      "execution_count": null,
      "outputs": [
        {
          "output_type": "stream",
          "name": "stdout",
          "text": [
            "6\n",
            "7\n",
            "6\n"
          ]
        }
      ]
    },
    {
      "cell_type": "markdown",
      "source": [
        "5."
      ],
      "metadata": {
        "id": "i7PYtLq7zZNq"
      }
    },
    {
      "cell_type": "code",
      "source": [
        "global_variable = 10\n",
        "\n",
        "def modify_global_variable(value_to_add):\n",
        "    global global_variable\n",
        "    global_variable +=  value_to_add\n",
        "\n",
        "print(\"Global variable value:\", global_variable)\n",
        "\n",
        "modify_global_variable(5)\n",
        "\n",
        "print(\"Global Variable:\", global_variable)"
      ],
      "metadata": {
        "colab": {
          "base_uri": "https://localhost:8080/"
        },
        "id": "3BjcziAdzY-V",
        "outputId": "cde45045-4899-4c89-d7cc-759b43e52d50"
      },
      "execution_count": null,
      "outputs": [
        {
          "output_type": "stream",
          "name": "stdout",
          "text": [
            "Global variable value: 10\n",
            "Global Variable: 15\n"
          ]
        }
      ]
    },
    {
      "cell_type": "markdown",
      "source": [
        "6."
      ],
      "metadata": {
        "id": "14ApNbSL2gG2"
      }
    },
    {
      "cell_type": "code",
      "source": [
        "words = [\"apple\", \"banana\", \"kiwi\", \"orange\", \"grape\"]\n",
        "\n",
        "sorted_words_by_vowels = sorted(words, key=lambda x: sum(1 for char in x if char.lower() in \"aeiou\"))\n",
        "#lambda take the word \"x\" and adds 1 per variable\n",
        "#it then sorts the words by who which the largest number\n",
        "\n",
        "print(sorted_words_by_vowels)"
      ],
      "metadata": {
        "colab": {
          "base_uri": "https://localhost:8080/"
        },
        "id": "NNrxxTyKMr4P",
        "outputId": "5a293f91-e9b6-4e8e-96bf-6a16d18fdf72"
      },
      "execution_count": null,
      "outputs": [
        {
          "output_type": "stream",
          "name": "stdout",
          "text": [
            "['apple', 'kiwi', 'grape', 'banana', 'orange']\n"
          ]
        }
      ]
    },
    {
      "cell_type": "markdown",
      "source": [
        "7."
      ],
      "metadata": {
        "id": "M95DP2rJ3dXX"
      }
    },
    {
      "cell_type": "code",
      "source": [
        "def logger(func):\n",
        "    def wrapper(*args, **kwargs):\n",
        "        result = func(*args, **kwargs)\n",
        "        with open('log.txt', 'a') as log_file:\n",
        "            log_file.write(f\"{func.__name__}({args}, {kwargs}) = {result}\\n\")\n",
        "        return result\n",
        "\n",
        "    return wrapper\n",
        "\n",
        "@logger\n",
        "def func_add(*args):\n",
        "    return sum(args)\n",
        "\n",
        "@logger\n",
        "def func_subtract(a, b):\n",
        "    return a - b\n",
        "\n",
        "result_add = func_add(1, 2, 3)\n",
        "result_subtract = func_subtract(10, 5)\n",
        "\n",
        "#open file\n",
        "with open('log.txt', 'r') as log_file:\n",
        "    log_contents = log_file.read()\n",
        "\n",
        "print(log_contents)"
      ],
      "metadata": {
        "colab": {
          "base_uri": "https://localhost:8080/"
        },
        "id": "SAkFmRMb3gg9",
        "outputId": "5821bd25-a8b7-4f5e-dda8-953ecff70aa1"
      },
      "execution_count": null,
      "outputs": [
        {
          "output_type": "stream",
          "name": "stdout",
          "text": [
            "func_add((1, 2, 3), {}) = 6\n",
            "func_subtract((10, 5), {}) = 5\n",
            "func_add((1, 2, 3), {}) = 6\n",
            "func_subtract((10, 5), {}) = 5\n",
            "\n"
          ]
        }
      ]
    },
    {
      "cell_type": "markdown",
      "source": [
        "8."
      ],
      "metadata": {
        "id": "p99zRS9Y4UQh"
      }
    },
    {
      "cell_type": "code",
      "source": [
        "from functools import reduce\n",
        "\n",
        "numbers = [3,4,6,7,8,43,455,12]\n",
        "\n",
        "squared_numbers = list(map(lambda x: x**2, numbers)) #map applies the square function to each of the variables in list\n",
        "print(f\"Square: {squared_numbers}\")\n",
        "\n",
        "even_numbers = list(filter(lambda x: x % 1 == 0, numbers))#filters items based on if they are odd\n",
        "print(f\"Even: {even_numbers}\")\n",
        "\n",
        "product = reduce(lambda x, y: x * y, numbers) #reduce takes all the numbers and in sequence will multiply them\n",
        "print(f\"Multiply all: {product}\")"
      ],
      "metadata": {
        "colab": {
          "base_uri": "https://localhost:8080/"
        },
        "id": "orbekPJB4T38",
        "outputId": "8c0b4d58-ebad-40a8-f973-39cf1dcbd36e"
      },
      "execution_count": 38,
      "outputs": [
        {
          "output_type": "stream",
          "name": "stdout",
          "text": [
            "Square: [9, 16, 36, 49, 64, 1849, 207025, 144]\n",
            "Even: [3, 4, 6, 7, 8, 43, 455, 12]\n",
            "Multiply all: 946632960\n"
          ]
        }
      ]
    },
    {
      "cell_type": "markdown",
      "source": [
        "9."
      ],
      "metadata": {
        "id": "omgm3XZO52t8"
      }
    },
    {
      "cell_type": "code",
      "source": [
        "while True:\n",
        "  # Get user input\n",
        "  expression = input(\"Enter a Python expression (or 'exit' to end): \")\n",
        "\n",
        "  if expression.lower() == 'exit':\n",
        "    print(\"Calculator exiting. Goodbye!\")\n",
        "    break\n",
        "\n",
        "  try:\n",
        "    exec(f\"result = {expression}\")\n",
        "    print(\"Result:\", result)\n",
        "\n",
        "  except Exception as e:\n",
        "    print(\"Error:\", e)"
      ],
      "metadata": {
        "id": "rkOttMnn52gC",
        "colab": {
          "base_uri": "https://localhost:8080/"
        },
        "outputId": "0af558a8-67ad-46ff-9ce4-1ffb781bf1ec"
      },
      "execution_count": 37,
      "outputs": [
        {
          "output_type": "stream",
          "name": "stdout",
          "text": [
            "Enter a Python expression (or 'exit' to end): 3+3\n",
            "Result: 6\n",
            "Enter a Python expression (or 'exit' to end): exit\n",
            "Calculator exiting. Goodbye!\n"
          ]
        }
      ]
    }
  ]
}