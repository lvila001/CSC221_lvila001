{
  "nbformat": 4,
  "nbformat_minor": 0,
  "metadata": {
    "colab": {
      "provenance": [],
      "authorship_tag": "ABX9TyPgOjLJT8MjhVHzXGuCaaYQ",
      "include_colab_link": true
    },
    "kernelspec": {
      "name": "python3",
      "display_name": "Python 3"
    },
    "language_info": {
      "name": "python"
    }
  },
  "cells": [
    {
      "cell_type": "markdown",
      "metadata": {
        "id": "view-in-github",
        "colab_type": "text"
      },
      "source": [
        "<a href=\"https://colab.research.google.com/github/lvila001/CSC221_lvila001/blob/main/Assignment22.ipynb\" target=\"_parent\"><img src=\"https://colab.research.google.com/assets/colab-badge.svg\" alt=\"Open In Colab\"/></a>"
      ]
    },
    {
      "cell_type": "markdown",
      "source": [
        "Assignment 22\n",
        "\n",
        "Logan Vilardi"
      ],
      "metadata": {
        "id": "rJL84g4pGZq6"
      }
    },
    {
      "cell_type": "code",
      "execution_count": 4,
      "metadata": {
        "colab": {
          "base_uri": "https://localhost:8080/"
        },
        "id": "wbF9HZ9OFqaV",
        "outputId": "a06ac965-4883-4ca3-cc78-aa02c371f0b2"
      },
      "outputs": [
        {
          "output_type": "stream",
          "name": "stdout",
          "text": [
            "Original vectors: [Vector2D(3, 4), Vector2D(-1, 2), Vector2D(0, 0), Vector2D(5, -2)]\n",
            "Sorted vectors by length: [Vector2D(0, 0), Vector2D(-1, 2), Vector2D(3, 4), Vector2D(5, -2)]\n"
          ]
        }
      ],
      "source": [
        "#vector 2d class that stores a vector and allows you to sort them by length\n",
        "import math\n",
        "\n",
        "class Vector2D:\n",
        "    def __init__(self, x, y):\n",
        "        self.x = x\n",
        "        self.y = y\n",
        "\n",
        "    def __repr__(self):\n",
        "        return f\"Vector2D({self.x}, {self.y})\"\n",
        "\n",
        "    def __str__(self):\n",
        "        return f\"({self.x}, {self.y})\"\n",
        "\n",
        "    def length(self):\n",
        "        return math.sqrt(self.x**2 + self.y**2)\n",
        "\n",
        "#test\n",
        "vectors = [Vector2D(3, 4), Vector2D(-1, 2), Vector2D(0, 0), Vector2D(5, -2)]\n",
        "\n",
        "print(\"Original vectors:\", vectors)\n",
        "\n",
        "sorted_vectors = sorted(vectors, key=lambda v: v.length()) #lambda is a expression that says that sorting should be based on vector length\n",
        "\n",
        "print(\"Sorted vectors by length:\", sorted_vectors)\n"
      ]
    },
    {
      "cell_type": "code",
      "source": [
        "class Vector2D:\n",
        "    def __init__(self, x, y):\n",
        "        self.x = x\n",
        "        self.y = y\n",
        "\n",
        "    def __repr__(self):\n",
        "        return f\"Vector2D({self.x}, {self.y})\"\n",
        "\n",
        "    def euclidean_length(self):\n",
        "        return self.x + self.y  # Sum of x and y components\n",
        "\n",
        "# Example\n",
        "vectors = [Vector2D(3, 4), Vector2D(-1, 2), Vector2D(0, 0), Vector2D(5, -2)]\n",
        "\n",
        "print(\"Original vectors:\", vectors)\n",
        "\n",
        "sorted_vectors = sorted(vectors, key=lambda v: v.euclidean_length()) #calculates the sum of x and y for length\n",
        "\n",
        "print(\"Sorted vectors by Euclidean length:\", sorted_vectors)\n",
        "\n"
      ],
      "metadata": {
        "colab": {
          "base_uri": "https://localhost:8080/"
        },
        "id": "iqCowFdWHwBG",
        "outputId": "daaac974-24b4-452a-8d2e-5ed68a0feada"
      },
      "execution_count": 6,
      "outputs": [
        {
          "output_type": "stream",
          "name": "stdout",
          "text": [
            "Original vectors: [Vector2D(3, 4), Vector2D(-1, 2), Vector2D(0, 0), Vector2D(5, -2)]\n",
            "Sorted vectors by Euclidean length: [Vector2D(0, 0), Vector2D(-1, 2), Vector2D(5, -2), Vector2D(3, 4)]\n"
          ]
        }
      ]
    },
    {
      "cell_type": "code",
      "source": [
        "#part 3\n",
        "class Container:\n",
        "    def __init__(self):\n",
        "        self.data = {}\n",
        "\n",
        "    def __getitem__(self, key):\n",
        "        return len(str(key))\n",
        "\n",
        "# Example usage:\n",
        "a = Container()\n",
        "print(a['logan'])\n",
        "print(a['logan2'])\n",
        "print(a['logan'*5])\n"
      ],
      "metadata": {
        "colab": {
          "base_uri": "https://localhost:8080/"
        },
        "id": "3ZmM0OuZJKWC",
        "outputId": "b5434077-7906-4ca8-d646-709aa1e15024"
      },
      "execution_count": 9,
      "outputs": [
        {
          "output_type": "stream",
          "name": "stdout",
          "text": [
            "5\n",
            "6\n",
            "25\n"
          ]
        }
      ]
    }
  ]
}