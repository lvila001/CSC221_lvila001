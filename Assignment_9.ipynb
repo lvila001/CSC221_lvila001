{
  "nbformat": 4,
  "nbformat_minor": 0,
  "metadata": {
    "colab": {
      "provenance": [],
      "authorship_tag": "ABX9TyNNjWzHEuBAyqi9ulO6Z547",
      "include_colab_link": true
    },
    "kernelspec": {
      "name": "python3",
      "display_name": "Python 3"
    },
    "language_info": {
      "name": "python"
    }
  },
  "cells": [
    {
      "cell_type": "markdown",
      "metadata": {
        "id": "view-in-github",
        "colab_type": "text"
      },
      "source": [
        "<a href=\"https://colab.research.google.com/github/lvila001/CSC221_lvila001/blob/main/Assignment_9.ipynb\" target=\"_parent\"><img src=\"https://colab.research.google.com/assets/colab-badge.svg\" alt=\"Open In Colab\"/></a>"
      ]
    },
    {
      "cell_type": "markdown",
      "source": [
        "Logan Vilardi\n",
        "\n",
        "**Assignment 9**"
      ],
      "metadata": {
        "id": "f3U8AhF4shNl"
      }
    },
    {
      "cell_type": "code",
      "source": [
        "8-2, 8-3, 8-4, 8-14"
      ],
      "metadata": {
        "id": "-rmCYOyDse62"
      },
      "execution_count": null,
      "outputs": []
    },
    {
      "cell_type": "code",
      "execution_count": null,
      "metadata": {
        "colab": {
          "base_uri": "https://localhost:8080/"
        },
        "id": "yh949ifYsZdx",
        "outputId": "6f0f1e7a-918f-4180-d71e-75b84303bb7c"
      },
      "outputs": [
        {
          "output_type": "stream",
          "name": "stdout",
          "text": [
            "hello\n"
          ]
        }
      ],
      "source": [
        "def greet_user():\n",
        "  print('hello')\n",
        "\n",
        "greet_user()"
      ]
    },
    {
      "cell_type": "code",
      "source": [
        "def greet_user(username):\n",
        "  print(f'hello, {username.title()}')\n",
        "\n",
        "greet_user('jesse')"
      ],
      "metadata": {
        "colab": {
          "base_uri": "https://localhost:8080/"
        },
        "id": "Ja1r5dnGtDNK",
        "outputId": "e3603a5b-c1b3-4f0d-fed4-c310d55b4edd"
      },
      "execution_count": null,
      "outputs": [
        {
          "output_type": "stream",
          "name": "stdout",
          "text": [
            "hello, Jesse\n"
          ]
        }
      ]
    },
    {
      "cell_type": "markdown",
      "source": [
        "**Try it yourself 8-2**"
      ],
      "metadata": {
        "id": "_1PXjNlfRh3F"
      }
    },
    {
      "cell_type": "code",
      "source": [
        "#8-2\n",
        "def favirote_book(title):\n",
        "  print(f'one of my favirote books is {title.title()}')\n",
        "\n",
        "favirote_book('The Great Gatsby')\n"
      ],
      "metadata": {
        "colab": {
          "base_uri": "https://localhost:8080/"
        },
        "id": "AItP8sT_tqEy",
        "outputId": "8567b91a-93dd-4f90-96ce-08cafcc4d88c"
      },
      "execution_count": null,
      "outputs": [
        {
          "output_type": "stream",
          "name": "stdout",
          "text": [
            "one of my favirote books is The Great Gatsby\n"
          ]
        }
      ]
    },
    {
      "cell_type": "code",
      "source": [
        "def describe_pet (animal_type, pet_name):\n",
        "  \"\"\"Display info on a pet\"\"\"\n",
        "  print(f'\\nI have a pet {animal_type}')\n",
        "  print(f\"\\nMy {animal_type}'s name is {pet_name}\")\n",
        "\n",
        "describe_pet('hamster', 'harry')"
      ],
      "metadata": {
        "colab": {
          "base_uri": "https://localhost:8080/"
        },
        "id": "d8RnOyKYvJLf",
        "outputId": "db05edce-bbdc-4161-ba57-d78e0182958a"
      },
      "execution_count": null,
      "outputs": [
        {
          "output_type": "stream",
          "name": "stdout",
          "text": [
            "\n",
            "I have a pet hamster\n",
            "\n",
            "My hamster's name is harry\n"
          ]
        }
      ]
    },
    {
      "cell_type": "code",
      "source": [
        "def describe_pet (animal_type, pet_name):\n",
        "  \"\"\"Display info on a pet\"\"\"\n",
        "  print(f'\\nI have a pet {animal_type}')\n",
        "  print(f\"\\nMy {animal_type}'s name is {pet_name}\")\n",
        "\n",
        "describe_pet('hamster', 'harry')\n",
        "describe_pet('dog', 'willie')"
      ],
      "metadata": {
        "colab": {
          "base_uri": "https://localhost:8080/"
        },
        "id": "esJA-tGFum9S",
        "outputId": "4495dffa-35b7-40b9-a8d2-6a22bf90f60e"
      },
      "execution_count": null,
      "outputs": [
        {
          "output_type": "stream",
          "name": "stdout",
          "text": [
            "\n",
            "I have a pet hamster\n",
            "\n",
            "My hamster's name is harry\n",
            "\n",
            "I have a pet dog\n",
            "\n",
            "My dog's name is willie\n"
          ]
        }
      ]
    },
    {
      "cell_type": "code",
      "source": [
        "def describe_pet (animal_type, pet_name):\n",
        "  \"\"\"Display info on a pet\"\"\"\n",
        "  print(f'\\nI have a pet {animal_type}')\n",
        "  print(f\"\\nMy {animal_type}'s name is {pet_name}\")\n",
        "\n",
        "describe_pet('harry', 'hamster')"
      ],
      "metadata": {
        "colab": {
          "base_uri": "https://localhost:8080/"
        },
        "id": "STpXebbHwRof",
        "outputId": "2fbf7120-f0b8-40b0-cc68-a9d9dfd259c8"
      },
      "execution_count": null,
      "outputs": [
        {
          "output_type": "stream",
          "name": "stdout",
          "text": [
            "\n",
            "I have a pet harry\n",
            "\n",
            "My harry's name is Hamster\n"
          ]
        }
      ]
    },
    {
      "cell_type": "code",
      "source": [
        "def describe_pet (animal_type, pet_name):\n",
        "  \"\"\"Display info on a pet\"\"\"\n",
        "  print(f'\\nI have a pet {animal_type}')\n",
        "  print(f\"\\nMy {animal_type}'s name is {pet_name}\")\n",
        "\n",
        "describe_pet(pet_name='harry', animal_type='hamster')"
      ],
      "metadata": {
        "colab": {
          "base_uri": "https://localhost:8080/"
        },
        "id": "7lk05C2Awjlp",
        "outputId": "9a722117-d4cc-447a-ffa8-d642df8f45f4"
      },
      "execution_count": null,
      "outputs": [
        {
          "output_type": "stream",
          "name": "stdout",
          "text": [
            "\n",
            "I have a pet hamster\n",
            "\n",
            "My hamster's name is harry\n"
          ]
        }
      ]
    },
    {
      "cell_type": "code",
      "source": [
        "def describe_pet (animal_type, pet_name):\n",
        "  \"\"\"Display info on a pet\"\"\"\n",
        "  print(f'\\nI have a pet {animal_type}')\n",
        "  print(f\"\\nMy {animal_type}'s name is {pet_name}\")\n",
        "\n",
        "describe_pet(pet_name='harry', animal_type='hamster')\n",
        "describe_pet(animal_type='hamster', pet_name='harry')"
      ],
      "metadata": {
        "colab": {
          "base_uri": "https://localhost:8080/"
        },
        "id": "e3zvvsp_xD5T",
        "outputId": "63b405ce-89f9-4614-87b9-aa1fffbd614c"
      },
      "execution_count": null,
      "outputs": [
        {
          "output_type": "stream",
          "name": "stdout",
          "text": [
            "\n",
            "I have a pet hamster\n",
            "\n",
            "My hamster's name is harry\n",
            "\n",
            "I have a pet hamster\n",
            "\n",
            "My hamster's name is harry\n"
          ]
        }
      ]
    },
    {
      "cell_type": "code",
      "source": [
        "def describe_pet (pet_name, animal_type = 'dog'):\n",
        "  \"\"\"Display info on a pet\"\"\"\n",
        "  print(f'\\nI have a pet {animal_type}')\n",
        "  print(f\"\\nMy {animal_type}'s name is {pet_name}\")\n",
        "\n",
        "describe_pet(pet_name='willie')\n"
      ],
      "metadata": {
        "colab": {
          "base_uri": "https://localhost:8080/"
        },
        "id": "7U6aVOzMx0FP",
        "outputId": "8e348680-e1a4-4a93-eb7e-04571d96e90f"
      },
      "execution_count": null,
      "outputs": [
        {
          "output_type": "stream",
          "name": "stdout",
          "text": [
            "\n",
            "I have a pet dog\n",
            "\n",
            "My dog's name is willie\n"
          ]
        }
      ]
    },
    {
      "cell_type": "code",
      "source": [
        "def describe_pet (pet_name, animal_type = 'dog'):\n",
        "  \"\"\"Display info on a pet\"\"\"\n",
        "  print(f'\\nI have a pet {animal_type}')\n",
        "  print(f\"\\nMy {animal_type}'s name is {pet_name}\")\n",
        "\n",
        "describe_pet('willie')\n"
      ],
      "metadata": {
        "colab": {
          "base_uri": "https://localhost:8080/"
        },
        "id": "PpDtOpTZyKy_",
        "outputId": "9fd62117-701d-44a1-a137-0f31e77fef09"
      },
      "execution_count": null,
      "outputs": [
        {
          "output_type": "stream",
          "name": "stdout",
          "text": [
            "\n",
            "I have a pet dog\n",
            "\n",
            "My dog's name is willie\n"
          ]
        }
      ]
    },
    {
      "cell_type": "code",
      "source": [
        "describe_pet(pet_name='harry', animal_type='hamster')"
      ],
      "metadata": {
        "colab": {
          "base_uri": "https://localhost:8080/"
        },
        "id": "rlDNUgbDyRxK",
        "outputId": "4ea5fb7a-5718-41b3-b3d3-47ed534940d9"
      },
      "execution_count": null,
      "outputs": [
        {
          "output_type": "stream",
          "name": "stdout",
          "text": [
            "\n",
            "I have a pet hamster\n",
            "\n",
            "My hamster's name is harry\n"
          ]
        }
      ]
    },
    {
      "cell_type": "code",
      "source": [
        "def describe_pet(pet_name, animal_type='dog'):\n",
        "  print(f'\\nI have a pet {animal_type}')\n",
        "  print(f\"\\nMy {animal_type}'s name is {pet_name}\")\n",
        "\n",
        "#dog named willie\n",
        "describe_pet('willie')\n",
        "describe_pet(pet_name='willie')\n",
        "\n",
        "#a hamster named harry\n",
        "describe_pet('harry', 'hamster')\n",
        "describe_pet(pet_name='harry', animal_type='hamster')\n",
        "describe_pet(animal_type='hamster', pet_name='harry')"
      ],
      "metadata": {
        "colab": {
          "base_uri": "https://localhost:8080/"
        },
        "id": "aEyjYx01ycsY",
        "outputId": "3c3eed13-a800-473a-d2aa-764ff49a73a6"
      },
      "execution_count": null,
      "outputs": [
        {
          "output_type": "stream",
          "name": "stdout",
          "text": [
            "\n",
            "I have a pet dog\n",
            "\n",
            "My dog's name is willie\n",
            "\n",
            "I have a pet dog\n",
            "\n",
            "My dog's name is willie\n",
            "\n",
            "I have a pet hamster\n",
            "\n",
            "My hamster's name is harry\n",
            "\n",
            "I have a pet hamster\n",
            "\n",
            "My hamster's name is harry\n",
            "\n",
            "I have a pet hamster\n",
            "\n",
            "My hamster's name is harry\n"
          ]
        }
      ]
    },
    {
      "cell_type": "code",
      "source": [
        "def describe_pet (pet_name, animal_type = 'dog'):\n",
        "  \"\"\"Display info on a pet\"\"\"\n",
        "  print(f'\\nI have a pet {animal_type}')\n",
        "  print(f\"\\nMy {animal_type}'s name is {pet_name}\")\n",
        "\n",
        "describe_pet()\n",
        "\n"
      ],
      "metadata": {
        "colab": {
          "base_uri": "https://localhost:8080/",
          "height": 228
        },
        "id": "xAvWYOwwzHHt",
        "outputId": "11555756-81dd-461d-e1a8-ae8ffb7cc3aa"
      },
      "execution_count": null,
      "outputs": [
        {
          "output_type": "error",
          "ename": "TypeError",
          "evalue": "ignored",
          "traceback": [
            "\u001b[0;31m---------------------------------------------------------------------------\u001b[0m",
            "\u001b[0;31mTypeError\u001b[0m                                 Traceback (most recent call last)",
            "\u001b[0;32m<ipython-input-20-a108ec34a4bd>\u001b[0m in \u001b[0;36m<cell line: 6>\u001b[0;34m()\u001b[0m\n\u001b[1;32m      4\u001b[0m   \u001b[0mprint\u001b[0m\u001b[0;34m(\u001b[0m\u001b[0;34mf\"\\nMy {animal_type}'s name is {pet_name}\"\u001b[0m\u001b[0;34m)\u001b[0m\u001b[0;34m\u001b[0m\u001b[0;34m\u001b[0m\u001b[0m\n\u001b[1;32m      5\u001b[0m \u001b[0;34m\u001b[0m\u001b[0m\n\u001b[0;32m----> 6\u001b[0;31m \u001b[0mdescribe_pet\u001b[0m\u001b[0;34m(\u001b[0m\u001b[0;34m)\u001b[0m\u001b[0;34m\u001b[0m\u001b[0;34m\u001b[0m\u001b[0m\n\u001b[0m\u001b[1;32m      7\u001b[0m \u001b[0;34m\u001b[0m\u001b[0m\n",
            "\u001b[0;31mTypeError\u001b[0m: describe_pet() missing 1 required positional argument: 'pet_name'"
          ]
        }
      ]
    },
    {
      "cell_type": "markdown",
      "source": [
        "**try it yourself 8-3**"
      ],
      "metadata": {
        "id": "YWUesOYoRoaV"
      }
    },
    {
      "cell_type": "code",
      "source": [
        "#8-3\n",
        "def make_shirt(size, message):\n",
        "  print(f'\\nThe t shirt is a size {size}, with the message {message}')\n",
        "\n",
        "make_shirt('Large', 'Couch Potato')\n",
        "make_shirt(size='Extra Small', message = 'Harry Potter')"
      ],
      "metadata": {
        "colab": {
          "base_uri": "https://localhost:8080/"
        },
        "id": "Stfy_XrI0Sb7",
        "outputId": "cf687291-2f6a-47ef-fc78-43503dd7a66d"
      },
      "execution_count": null,
      "outputs": [
        {
          "output_type": "stream",
          "name": "stdout",
          "text": [
            "\n",
            "The t shirt is a size Large, with the message Couch Potato\n",
            "\n",
            "The t shirt is a size Extra Small, with the message Harry Potter\n"
          ]
        }
      ]
    },
    {
      "cell_type": "markdown",
      "source": [
        "**try it yourself 8-4**"
      ],
      "metadata": {
        "id": "6My_tGN0RwhB"
      }
    },
    {
      "cell_type": "code",
      "source": [
        "#8-4\n",
        "def make_shirt(message = 'I love python', size = 'large'):\n",
        "  print(f'\\nThe t shirt is a size {size}, with the message {message}')\n",
        "\n",
        "make_shirt()\n",
        "make_shirt(size = 'medium')\n",
        "make_shirt(message='I love c')"
      ],
      "metadata": {
        "colab": {
          "base_uri": "https://localhost:8080/"
        },
        "id": "5DHNQ2kf15a9",
        "outputId": "b40a5a42-a47f-4472-b140-9c64c4f2a257"
      },
      "execution_count": null,
      "outputs": [
        {
          "output_type": "stream",
          "name": "stdout",
          "text": [
            "\n",
            "The t shirt is a size large, with the message I love python\n",
            "\n",
            "The t shirt is a size medium, with the message I love python\n",
            "\n",
            "The t shirt is a size large, with the message I love c\n"
          ]
        }
      ]
    },
    {
      "cell_type": "code",
      "source": [
        "def get_formatted_name(first_name, last_name):\n",
        "  full_name = f'{first_name} {last_name}'\n",
        "  return full_name.title()\n",
        "\n",
        "musician = get_formatted_name('jimi', 'hendrix')\n",
        "print(musician)"
      ],
      "metadata": {
        "colab": {
          "base_uri": "https://localhost:8080/"
        },
        "id": "731k7SmN2QZm",
        "outputId": "6a18c643-b6d4-4b07-b5ef-8813406891c9"
      },
      "execution_count": null,
      "outputs": [
        {
          "output_type": "stream",
          "name": "stdout",
          "text": [
            "Jimi Hendrix\n"
          ]
        }
      ]
    },
    {
      "cell_type": "code",
      "source": [
        "def get_formatted_name(first_name, middle_name, last_name):\n",
        "  full_name = f'{first_name} {middle_name} {last_name}'\n",
        "  return full_name.title()\n",
        "\n",
        "musician = get_formatted_name('john', 'lee', 'hooker')\n",
        "print(musician)"
      ],
      "metadata": {
        "colab": {
          "base_uri": "https://localhost:8080/"
        },
        "id": "QB8iaq3q3aLm",
        "outputId": "779b64ae-45ba-45c3-ba27-2f46f77313cd"
      },
      "execution_count": null,
      "outputs": [
        {
          "output_type": "stream",
          "name": "stdout",
          "text": [
            "John Lee Hooker\n"
          ]
        }
      ]
    },
    {
      "cell_type": "code",
      "source": [
        "def get_formatted_name(first_name, last_name, middle_name = ''):\n",
        "  if middle_name:\n",
        "    full_name = f'{first_name} {middle_name} {last_name}'\n",
        "    return full_name.title()\n",
        "\n",
        "  else:\n",
        "    full_name = f'{first_name} {last_name}'\n",
        "    return full_name.title()\n",
        "\n",
        "\n",
        "musician = get_formatted_name('john', 'lee', 'hooker')\n",
        "print(musician)\n",
        "\n",
        "musician = get_formatted_name('jimi', 'hendrix')\n",
        "print(musician)"
      ],
      "metadata": {
        "colab": {
          "base_uri": "https://localhost:8080/"
        },
        "id": "RfVQAfMW31cd",
        "outputId": "86fa1777-6655-4b25-890e-a63667f029b0"
      },
      "execution_count": null,
      "outputs": [
        {
          "output_type": "stream",
          "name": "stdout",
          "text": [
            "John Hooker Lee\n",
            "Jimi Hendrix\n"
          ]
        }
      ]
    },
    {
      "cell_type": "code",
      "source": [
        "def build_person(first_name, last_name):\n",
        "  person = {'first': first_name, 'last': last_name}\n",
        "  return person\n",
        "\n",
        "musician = build_person('jimi', 'hendrix')\n",
        "print(musician)"
      ],
      "metadata": {
        "colab": {
          "base_uri": "https://localhost:8080/"
        },
        "id": "pLTlZf-f4Sgm",
        "outputId": "82341fff-58d4-4e0f-b3c0-bf0d4e208f4e"
      },
      "execution_count": null,
      "outputs": [
        {
          "output_type": "stream",
          "name": "stdout",
          "text": [
            "{'first': 'jimi', 'last': 'hendrix'}\n"
          ]
        }
      ]
    },
    {
      "cell_type": "code",
      "source": [
        "def build_person(first_name, last_name, age =None):\n",
        "  person = {'first': first_name, 'last': last_name}\n",
        "  if age:\n",
        "    person['age'] = age\n",
        "  return person\n",
        "\n",
        "musician = build_person('jimi', 'hendrix', age = 27)\n",
        "print(musician)"
      ],
      "metadata": {
        "colab": {
          "base_uri": "https://localhost:8080/"
        },
        "id": "imo0qyr_8ldl",
        "outputId": "4915540b-e2ae-44ee-c579-646f316f29c0"
      },
      "execution_count": null,
      "outputs": [
        {
          "output_type": "stream",
          "name": "stdout",
          "text": [
            "{'first': 'jimi', 'last': 'hendrix', 'age': 27}\n"
          ]
        }
      ]
    },
    {
      "cell_type": "code",
      "source": [
        "def get_formatted_name(first_name, last_name):\n",
        "  full_name = f'{first_name} {last_name}'\n",
        "  return full_name.title()\n",
        "\n",
        "while True:\n",
        "    print('\\nplease tell me your name')\n",
        "    f_name = input('first Name: ')\n",
        "    l_name = input('last Name: ')\n",
        "\n",
        "    formatted_name = get_formatted_name(f_name, l_name)\n",
        "    print(f\"\\nHello {formatted_name}\")"
      ],
      "metadata": {
        "colab": {
          "base_uri": "https://localhost:8080/",
          "height": 547
        },
        "id": "1u-5LVMy9KLv",
        "outputId": "505eadae-e791-4604-8abc-fdfd7b97090a"
      },
      "execution_count": null,
      "outputs": [
        {
          "output_type": "stream",
          "name": "stdout",
          "text": [
            "\n",
            "please tell me your name\n",
            "first Name: Logan\n",
            "last Name: Vilardi\n",
            "\n",
            "Hello Logan Vilardi\n",
            "\n",
            "please tell me your name\n"
          ]
        },
        {
          "output_type": "error",
          "ename": "KeyboardInterrupt",
          "evalue": "ignored",
          "traceback": [
            "\u001b[0;31m---------------------------------------------------------------------------\u001b[0m",
            "\u001b[0;31mKeyboardInterrupt\u001b[0m                         Traceback (most recent call last)",
            "\u001b[0;32m<ipython-input-37-9a15dec84320>\u001b[0m in \u001b[0;36m<cell line: 5>\u001b[0;34m()\u001b[0m\n\u001b[1;32m      5\u001b[0m \u001b[0;32mwhile\u001b[0m \u001b[0;32mTrue\u001b[0m\u001b[0;34m:\u001b[0m\u001b[0;34m\u001b[0m\u001b[0;34m\u001b[0m\u001b[0m\n\u001b[1;32m      6\u001b[0m     \u001b[0mprint\u001b[0m\u001b[0;34m(\u001b[0m\u001b[0;34m'\\nplease tell me your name'\u001b[0m\u001b[0;34m)\u001b[0m\u001b[0;34m\u001b[0m\u001b[0;34m\u001b[0m\u001b[0m\n\u001b[0;32m----> 7\u001b[0;31m     \u001b[0mf_name\u001b[0m \u001b[0;34m=\u001b[0m \u001b[0minput\u001b[0m\u001b[0;34m(\u001b[0m\u001b[0;34m'first Name: '\u001b[0m\u001b[0;34m)\u001b[0m\u001b[0;34m\u001b[0m\u001b[0;34m\u001b[0m\u001b[0m\n\u001b[0m\u001b[1;32m      8\u001b[0m     \u001b[0ml_name\u001b[0m \u001b[0;34m=\u001b[0m \u001b[0minput\u001b[0m\u001b[0;34m(\u001b[0m\u001b[0;34m'last Name: '\u001b[0m\u001b[0;34m)\u001b[0m\u001b[0;34m\u001b[0m\u001b[0;34m\u001b[0m\u001b[0m\n\u001b[1;32m      9\u001b[0m \u001b[0;34m\u001b[0m\u001b[0m\n",
            "\u001b[0;32m/usr/local/lib/python3.10/dist-packages/ipykernel/kernelbase.py\u001b[0m in \u001b[0;36mraw_input\u001b[0;34m(self, prompt)\u001b[0m\n\u001b[1;32m    849\u001b[0m                 \u001b[0;34m\"raw_input was called, but this frontend does not support input requests.\"\u001b[0m\u001b[0;34m\u001b[0m\u001b[0;34m\u001b[0m\u001b[0m\n\u001b[1;32m    850\u001b[0m             )\n\u001b[0;32m--> 851\u001b[0;31m         return self._input_request(str(prompt),\n\u001b[0m\u001b[1;32m    852\u001b[0m             \u001b[0mself\u001b[0m\u001b[0;34m.\u001b[0m\u001b[0m_parent_ident\u001b[0m\u001b[0;34m,\u001b[0m\u001b[0;34m\u001b[0m\u001b[0;34m\u001b[0m\u001b[0m\n\u001b[1;32m    853\u001b[0m             \u001b[0mself\u001b[0m\u001b[0;34m.\u001b[0m\u001b[0m_parent_header\u001b[0m\u001b[0;34m,\u001b[0m\u001b[0;34m\u001b[0m\u001b[0;34m\u001b[0m\u001b[0m\n",
            "\u001b[0;32m/usr/local/lib/python3.10/dist-packages/ipykernel/kernelbase.py\u001b[0m in \u001b[0;36m_input_request\u001b[0;34m(self, prompt, ident, parent, password)\u001b[0m\n\u001b[1;32m    893\u001b[0m             \u001b[0;32mexcept\u001b[0m \u001b[0mKeyboardInterrupt\u001b[0m\u001b[0;34m:\u001b[0m\u001b[0;34m\u001b[0m\u001b[0;34m\u001b[0m\u001b[0m\n\u001b[1;32m    894\u001b[0m                 \u001b[0;31m# re-raise KeyboardInterrupt, to truncate traceback\u001b[0m\u001b[0;34m\u001b[0m\u001b[0;34m\u001b[0m\u001b[0m\n\u001b[0;32m--> 895\u001b[0;31m                 \u001b[0;32mraise\u001b[0m \u001b[0mKeyboardInterrupt\u001b[0m\u001b[0;34m(\u001b[0m\u001b[0;34m\"Interrupted by user\"\u001b[0m\u001b[0;34m)\u001b[0m \u001b[0;32mfrom\u001b[0m \u001b[0;32mNone\u001b[0m\u001b[0;34m\u001b[0m\u001b[0;34m\u001b[0m\u001b[0m\n\u001b[0m\u001b[1;32m    896\u001b[0m             \u001b[0;32mexcept\u001b[0m \u001b[0mException\u001b[0m \u001b[0;32mas\u001b[0m \u001b[0me\u001b[0m\u001b[0;34m:\u001b[0m\u001b[0;34m\u001b[0m\u001b[0;34m\u001b[0m\u001b[0m\n\u001b[1;32m    897\u001b[0m                 \u001b[0mself\u001b[0m\u001b[0;34m.\u001b[0m\u001b[0mlog\u001b[0m\u001b[0;34m.\u001b[0m\u001b[0mwarning\u001b[0m\u001b[0;34m(\u001b[0m\u001b[0;34m\"Invalid Message:\"\u001b[0m\u001b[0;34m,\u001b[0m \u001b[0mexc_info\u001b[0m\u001b[0;34m=\u001b[0m\u001b[0;32mTrue\u001b[0m\u001b[0;34m)\u001b[0m\u001b[0;34m\u001b[0m\u001b[0;34m\u001b[0m\u001b[0m\n",
            "\u001b[0;31mKeyboardInterrupt\u001b[0m: Interrupted by user"
          ]
        }
      ]
    },
    {
      "cell_type": "code",
      "source": [
        "def get_formatted_name(first_name, last_name):\n",
        "  full_name = f'{first_name} {last_name}'\n",
        "  return full_name.title()\n",
        "\n",
        "while True:\n",
        "    print('\\nplease tell me your name')\n",
        "    print('(enter q if you would like to quit)')\n",
        "\n",
        "    f_name = input('first Name: ')\n",
        "    if f_name == 'q':\n",
        "      break\n",
        "\n",
        "    l_name = input('last Name: ')\n",
        "    if l_name == 'q':\n",
        "      break\n",
        "\n",
        "\n",
        "    formatted_name = get_formatted_name(f_name, l_name)\n",
        "    print(f\"\\nHello {formatted_name}\")"
      ],
      "metadata": {
        "colab": {
          "base_uri": "https://localhost:8080/"
        },
        "id": "IeIO6hkE-lKg",
        "outputId": "1bebffed-0953-42af-bf12-7ddf69bb55af"
      },
      "execution_count": null,
      "outputs": [
        {
          "name": "stdout",
          "output_type": "stream",
          "text": [
            "\n",
            "please tell me your name\n",
            "(enter q if you would like to quit)\n",
            "first Name: Logan\n",
            "last Name: Vilardi\n",
            "\n",
            "Hello Logan Vilardi\n",
            "\n",
            "please tell me your name\n",
            "(enter q if you would like to quit)\n",
            "first Name: q\n"
          ]
        }
      ]
    },
    {
      "cell_type": "code",
      "source": [
        "from re import M\n",
        "def greet_users(names):\n",
        "  for name in names:\n",
        "    msg = f'hello, {name.title()}'\n",
        "    print(msg)\n",
        "\n",
        "usernames = ['hannah', 'ty', 'margot']\n",
        "greet_users(usernames)"
      ],
      "metadata": {
        "colab": {
          "base_uri": "https://localhost:8080/"
        },
        "id": "Jr0Z6BYfA2Zl",
        "outputId": "8eb20bad-57c0-4982-f098-3ca50bc6ebb7"
      },
      "execution_count": null,
      "outputs": [
        {
          "output_type": "stream",
          "name": "stdout",
          "text": [
            "hello, Hannah\n",
            "hello, Ty\n",
            "hello, Margot\n"
          ]
        }
      ]
    },
    {
      "cell_type": "code",
      "source": [
        "unprinted_designs = ['phone case', 'robot pendant', 'dodecahedron']\n",
        "completed_models = []\n",
        "\n",
        "while unprinted_designs:\n",
        "  current_design = unprinted_designs.pop()\n",
        "  print(f'printing model: {current_design}')\n",
        "  completed_models.append(current_design)\n",
        "\n",
        "print('\\nthe following models have been printed:')\n",
        "for completed_model in completed_models:\n",
        "  print(completed_model)"
      ],
      "metadata": {
        "colab": {
          "base_uri": "https://localhost:8080/"
        },
        "id": "u9VtpfNBBfZ8",
        "outputId": "5c676db8-6504-4047-b81f-fd13e96cf702"
      },
      "execution_count": null,
      "outputs": [
        {
          "output_type": "stream",
          "name": "stdout",
          "text": [
            "printing model: dodecahedron\n",
            "printing model: robot pendant\n",
            "printing model: phone case\n",
            "\n",
            "the following models have been printed:\n",
            "dodecahedron\n",
            "robot pendant\n",
            "phone case\n"
          ]
        }
      ]
    },
    {
      "cell_type": "code",
      "source": [
        "def print_models(unprinted_designs, completed_models):\n",
        "  while unprinted_designs:\n",
        "    current_design = unprinted_designs.pop()\n",
        "    print(f'printing model: {current_design}')\n",
        "    completed_models.append(current_design)\n",
        "\n",
        "def show_completed_models(completed_models):\n",
        "  print('\\nthe following models have been printed:')\n",
        "  for completed_model in completed_models:\n",
        "    print(completed_model)\n",
        "\n",
        "unprinted_designs = ['phone case', 'robot pendant', 'dodecahedron']\n",
        "completed_models = []\n",
        "\n",
        "print_models(unprinted_designs, completed_models)\n",
        "show_completed_models(completed_models)\n"
      ],
      "metadata": {
        "colab": {
          "base_uri": "https://localhost:8080/"
        },
        "id": "HLTBmUUhD3q0",
        "outputId": "9036f637-7f1a-4401-ba13-8f461f018e56"
      },
      "execution_count": null,
      "outputs": [
        {
          "output_type": "stream",
          "name": "stdout",
          "text": [
            "printing model: dodecahedron\n",
            "printing model: robot pendant\n",
            "printing model: phone case\n",
            "\n",
            "the following models have been printed:\n",
            "dodecahedron\n",
            "robot pendant\n",
            "phone case\n"
          ]
        }
      ]
    },
    {
      "cell_type": "code",
      "source": [
        "unprinted_designs = ['phone case', 'robot pendant', 'dodecahedron']\n",
        "completed_models = []\n",
        "\n",
        "print_models(unprinted_designs, completed_models)\n",
        "show_completed_models(completed_models)"
      ],
      "metadata": {
        "colab": {
          "base_uri": "https://localhost:8080/"
        },
        "id": "9QO4soWaFJCb",
        "outputId": "c93167f5-9fff-4574-c4d4-eda72052808e"
      },
      "execution_count": null,
      "outputs": [
        {
          "output_type": "stream",
          "name": "stdout",
          "text": [
            "printing model: dodecahedron\n",
            "printing model: robot pendant\n",
            "printing model: phone case\n",
            "\n",
            "the following models have been printed:\n",
            "dodecahedron\n",
            "robot pendant\n",
            "phone case\n"
          ]
        }
      ]
    },
    {
      "cell_type": "code",
      "source": [
        "#function_name(list_name[:])\n",
        "unprinted_designs = ['phone case', 'robot pendant', 'dodecahedron']\n",
        "\n",
        "print_models(unprinted_designs[:], completed_models)\n",
        "show_completed_models(completed_models)\n",
        "\n",
        "print(unprinted_designs)"
      ],
      "metadata": {
        "colab": {
          "base_uri": "https://localhost:8080/"
        },
        "id": "wURrLIPdIsOI",
        "outputId": "b1d37b94-85e3-4485-b489-7fc5e416089b"
      },
      "execution_count": null,
      "outputs": [
        {
          "output_type": "stream",
          "name": "stdout",
          "text": [
            "printing model: dodecahedron\n",
            "printing model: robot pendant\n",
            "printing model: phone case\n",
            "\n",
            "the following models have been printed:\n",
            "dodecahedron\n",
            "robot pendant\n",
            "phone case\n",
            "dodecahedron\n",
            "robot pendant\n",
            "phone case\n",
            "['phone case', 'robot pendant', 'dodecahedron']\n"
          ]
        }
      ]
    },
    {
      "cell_type": "code",
      "source": [
        "def make_pizza(*toppings):\n",
        "  print(toppings)\n",
        "\n",
        "make_pizza('pepperoni')\n",
        "make_pizza('mushrooms', 'green peppers', 'extra cheese')"
      ],
      "metadata": {
        "colab": {
          "base_uri": "https://localhost:8080/"
        },
        "id": "EKOWKLnKJdJU",
        "outputId": "1ad3ae9d-3b75-4bfd-950c-46b5b0ae2a89"
      },
      "execution_count": null,
      "outputs": [
        {
          "output_type": "stream",
          "name": "stdout",
          "text": [
            "('pepperoni',)\n",
            "('mushrooms', 'green peppers', 'extra cheese')\n"
          ]
        }
      ]
    },
    {
      "cell_type": "code",
      "source": [
        "def make_pizza(*toppings):\n",
        "  print('\\nMaking a pizza with the following toppings:')\n",
        "  for topping in toppings:\n",
        "    print('- ' + topping)\n",
        "\n",
        "make_pizza('pepperoni')\n",
        "make_pizza('mushrooms', 'green peppers', 'extra cheese')"
      ],
      "metadata": {
        "colab": {
          "base_uri": "https://localhost:8080/"
        },
        "id": "V99fYw2tNIPT",
        "outputId": "dfe31230-b319-4e88-b7d2-d9af254a075f"
      },
      "execution_count": null,
      "outputs": [
        {
          "output_type": "stream",
          "name": "stdout",
          "text": [
            "\n",
            "Making a pizza with the following toppings:\n",
            "- pepperoni\n",
            "\n",
            "Making a pizza with the following toppings:\n",
            "- mushrooms\n",
            "- green peppers\n",
            "- extra cheese\n"
          ]
        }
      ]
    },
    {
      "cell_type": "code",
      "source": [
        "def make_pizza(size, *toppings):\n",
        "  print('\\nMaking a ' + str(size) +\n",
        "        '-inch pizza with the following toppings:')\n",
        "\n",
        "  for topping in toppings:\n",
        "    print('- ' + topping)\n",
        "\n",
        "make_pizza(16, 'pepperoni')\n",
        "make_pizza(12, 'mushrooms', 'green peppers', 'extra cheese')"
      ],
      "metadata": {
        "colab": {
          "base_uri": "https://localhost:8080/"
        },
        "id": "w_KNQVRAQsGi",
        "outputId": "b78dce0c-c0a5-423a-fb63-b3a4bab68ea1"
      },
      "execution_count": null,
      "outputs": [
        {
          "output_type": "stream",
          "name": "stdout",
          "text": [
            "\n",
            "Making a 16-inch pizza with the following toppings:\n",
            "- pepperoni\n",
            "\n",
            "Making a 12-inch pizza with the following toppings:\n",
            "- mushrooms\n",
            "- green peppers\n",
            "- extra cheese\n"
          ]
        }
      ]
    },
    {
      "cell_type": "code",
      "source": [
        "def build_profile(first, last, **user_info):\n",
        "  '''build a dictionary containing everything we know about a user'''\n",
        "  profile = {}\n",
        "  profile['first_name'] = first\n",
        "  profile['last_name'] = last\n",
        "  for key, value in user_info.items():\n",
        "    profile[key] = value\n",
        "\n",
        "  return profile\n",
        "\n",
        "user_profile = build_profile('albert', 'einstein',\n",
        "                             location= 'princeton',\n",
        "                             field= 'physics')\n",
        "print(user_profile)\n"
      ],
      "metadata": {
        "colab": {
          "base_uri": "https://localhost:8080/"
        },
        "id": "bbmhw3dDRxBa",
        "outputId": "2b3e75e7-0312-47ac-829a-8c8bc539b1b5"
      },
      "execution_count": null,
      "outputs": [
        {
          "output_type": "stream",
          "name": "stdout",
          "text": [
            "{'first_name': 'albert', 'last_name': 'einstein', 'location': 'princeton', 'field': 'physics'}\n"
          ]
        }
      ]
    },
    {
      "cell_type": "markdown",
      "source": [
        "**Try it yourself 8-14**"
      ],
      "metadata": {
        "id": "wEHn4bvMG7Ie"
      }
    },
    {
      "cell_type": "code",
      "source": [
        "cars = []\n",
        "\n",
        "def make_car(manufacturer, car_name, **car_info):\n",
        "  car_info['manufacturer'] =manufacturer\n",
        "  car_info['car name'] = car_name\n",
        "  return car_info\n",
        "\n",
        "car = make_car('subaru', 'outback', color='blue', tow_package=True)\n",
        "print(car)\n",
        "cars.append(car)\n",
        "\n",
        "print(cars)"
      ],
      "metadata": {
        "id": "o-d2lwTg-1L0",
        "colab": {
          "base_uri": "https://localhost:8080/"
        },
        "outputId": "8f96249e-36e8-47cc-f69f-0211bee0e30e"
      },
      "execution_count": 12,
      "outputs": [
        {
          "output_type": "stream",
          "name": "stdout",
          "text": [
            "{'color': 'blue', 'tow_package': True, 'manufacturer': 'subaru', 'car name': 'outback'}\n",
            "[{'color': 'blue', 'tow_package': True, 'manufacturer': 'subaru', 'car name': 'outback'}]\n"
          ]
        }
      ]
    },
    {
      "cell_type": "code",
      "source": [
        "def make_pizza(size, *toppings):\n",
        "  \"\"\"sumarize the pizza we are about to make\"\"\"\n",
        "  print(f\"\\nMaking a {size}-inch pizza with the following toppings:\")\n",
        "  for topping in toppings:\n",
        "    print(f\"- {topping}\")"
      ],
      "metadata": {
        "id": "0y7sRLZXFg3B"
      },
      "execution_count": 17,
      "outputs": []
    },
    {
      "cell_type": "code",
      "source": [
        "make_pizza(16, 'pepperoni')\n",
        "make_pizza(12, 'mushrooms', 'green pepper', 'extra cheese')"
      ],
      "metadata": {
        "colab": {
          "base_uri": "https://localhost:8080/"
        },
        "id": "N9II-VTwIAry",
        "outputId": "0c448ebd-78ee-4da8-adcc-19955a82bc5d"
      },
      "execution_count": 18,
      "outputs": [
        {
          "output_type": "stream",
          "name": "stdout",
          "text": [
            "\n",
            "Making a 16-inch pizza with the following toppings:\n",
            "- pepperoni\n",
            "\n",
            "Making a 12-inch pizza with the following toppings:\n",
            "- mushrooms\n",
            "- green pepper\n",
            "- extra cheese\n"
          ]
        }
      ]
    },
    {
      "cell_type": "markdown",
      "source": [
        "**Assignemnt 9 Problem**"
      ],
      "metadata": {
        "id": "g1Lk_wfsI2YJ"
      }
    },
    {
      "cell_type": "code",
      "source": [
        "def numbers(number1, number2= 3.14, verbose = False):\n",
        "  number1 = int(number1)\n",
        "  number2 = (number2)\n",
        "\n",
        "  if number2 == 3.14:\n",
        "    number2 = float(number2)\n",
        "\n",
        "  sum = round(number1 + number2,2)\n",
        "\n",
        "  sum_message = f\"The sum is {sum}\\n\"\n",
        "\n",
        "\n",
        "  if verbose:\n",
        "    print(f'Parameters:\\n\\t-number1: {number1}\\n\\t-number2: {number2}\\n\\t-verbose: {verbose}')\n",
        "    sum = round(sum,2)\n",
        "    return sum_message\n",
        "\n",
        "  else:\n",
        "    return sum_message\n",
        "\n",
        "print(numbers(3,2,True))\n",
        "\n",
        "print(numbers(6))\n",
        "\n",
        "print(numbers(1,verbose=True))\n",
        "\n",
        "\n",
        ""
      ],
      "metadata": {
        "colab": {
          "base_uri": "https://localhost:8080/"
        },
        "id": "y0tmBWTwIapm",
        "outputId": "029e0857-1fcf-4d01-f39c-b061abef7223"
      },
      "execution_count": 63,
      "outputs": [
        {
          "output_type": "stream",
          "name": "stdout",
          "text": [
            "Parameters:\n",
            "\t-number1: 3\n",
            "\t-number2: 2\n",
            "\t-verbose: True\n",
            "The sum is 5\n",
            "\n",
            "The sum is 9.14\n",
            "\n",
            "Parameters:\n",
            "\t-number1: 1\n",
            "\t-number2: 3.14\n",
            "\t-verbose: True\n",
            "The sum is 4.14\n",
            "\n"
          ]
        }
      ]
    },
    {
      "cell_type": "code",
      "source": [],
      "metadata": {
        "id": "S8oZJdJrK1oM"
      },
      "execution_count": null,
      "outputs": []
    }
  ]
}