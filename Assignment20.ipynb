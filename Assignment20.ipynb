{
  "nbformat": 4,
  "nbformat_minor": 0,
  "metadata": {
    "colab": {
      "provenance": [],
      "include_colab_link": true
    },
    "kernelspec": {
      "name": "python3",
      "display_name": "Python 3"
    },
    "language_info": {
      "name": "python"
    }
  },
  "cells": [
    {
      "cell_type": "markdown",
      "metadata": {
        "id": "view-in-github",
        "colab_type": "text"
      },
      "source": [
        "<a href=\"https://colab.research.google.com/github/lvila001/CSC221_lvila001/blob/main/Assignment20.ipynb\" target=\"_parent\"><img src=\"https://colab.research.google.com/assets/colab-badge.svg\" alt=\"Open In Colab\"/></a>"
      ]
    },
    {
      "cell_type": "markdown",
      "source": [
        "# Assignment 20\n",
        "## CSC 221\n",
        "- Logan Vilardi!\n",
        "\n",
        "### Instructions:\n",
        "Fill in each code cell below the question. We are following along in Chapter 4 of Python Distilled."
      ],
      "metadata": {
        "id": "IAOUzGWE1eDx"
      }
    },
    {
      "cell_type": "code",
      "execution_count": null,
      "metadata": {
        "id": "Gnj3su7i5-lx",
        "colab": {
          "base_uri": "https://localhost:8080/"
        },
        "outputId": "b635670e-acbd-45ff-9c41-7452fbce7428"
      },
      "outputs": [
        {
          "output_type": "stream",
          "name": "stdout",
          "text": [
            "19\n",
            "44.5\n",
            "asdfg13\n",
            "a:  <class 'int'>\n",
            "b:  <class 'float'>\n",
            "c:  <class 'str'>\n"
          ]
        }
      ],
      "source": [
        "# 4.1 Essential Concepts\n",
        "\n",
        "# When we write \"a + b\" in Python, the interpreter tries to execute a.__add__(b)\n",
        "\n",
        "# Show that this is true by trying the following:\n",
        "a = 6\n",
        "b = 31.5\n",
        "c = 'asdfg'\n",
        "a1 = a.__add__(13)\n",
        "b1 = b.__add__(13)\n",
        "c1 = c.__add__('13')\n",
        "print(a1)\n",
        "print(b1)\n",
        "print(c1)\n",
        "\n",
        "# What are the types of a, b, and c?\n",
        "#'a' is a integer\n",
        "print('a: ', type(a))\n",
        "\n",
        "#'b' is a float\n",
        "print('b: ',type(b))\n",
        "\n",
        "#'c' is a string\n",
        "print('c: ', type(c))\n",
        "\n",
        "\n",
        "# Explain the results\n",
        "\n",
        "#a1 = a.__add__(13), this will be a int of 19 because your combining two ints\n",
        "#b1 = b.__add__(13), this will be a result of float 44.5 because your adding a int onto a float therefore the result is a float\n",
        "#c1 = c.__add__('13'), this will be a result of 'asdfg13', because your are adding together two strings"
      ]
    },
    {
      "cell_type": "code",
      "source": [
        "# 4.2 through 4.4 will be covered in the next assignment\n"
      ],
      "metadata": {
        "id": "w2uYd3DO2do6",
        "colab": {
          "base_uri": "https://localhost:8080/"
        },
        "outputId": "0aeb1eba-faa6-4462-9eaf-4a8d3d39875d"
      },
      "execution_count": null,
      "outputs": [
        {
          "output_type": "execute_result",
          "data": {
            "text/plain": [
              "()"
            ]
          },
          "metadata": {},
          "execution_count": 6
        }
      ]
    },
    {
      "cell_type": "code",
      "source": [
        "# 4.5 str and repr\n",
        "# How many categories of printing are shown below for a datetime object?\n",
        "# What in the Pythion code makes each one get callled?\n",
        "\n",
        "from datetime import date\n",
        "d = date(2023, 11, 7)\n",
        "\n",
        "print(d)\n",
        "print(f'{d}')\n",
        "print(f'{d!s}')\n",
        "print(f'{d!r}')\n",
        "print(str(d))\n",
        "print(repr(d))\n",
        "print(d.__str__())\n",
        "print(d.__repr__())\n",
        "\n",
        "\n",
        "#there are four categories shown for the datetime object, \"__str__\" and \"__repr__\"\n",
        "\n",
        "#they are either called implicitly(invoked without directly specifying it) via print() statement.\n",
        "#Or called explicitly(where the programmer specifies what method to use.) through \"!r\" suffix or \"__repr__\""
      ],
      "metadata": {
        "id": "Aa3ylzmV2wNF",
        "colab": {
          "base_uri": "https://localhost:8080/"
        },
        "outputId": "9284caaa-28a3-4a1c-b6c6-4196bbe9cbe5"
      },
      "execution_count": null,
      "outputs": [
        {
          "output_type": "stream",
          "name": "stdout",
          "text": [
            "2023-11-07\n",
            "2023-11-07\n",
            "2023-11-07\n",
            "datetime.date(2023, 11, 7)\n",
            "2023-11-07\n",
            "datetime.date(2023, 11, 7)\n",
            "2023-11-07\n",
            "datetime.date(2023, 11, 7)\n"
          ]
        }
      ]
    },
    {
      "cell_type": "code",
      "source": [
        "# 4.6 First-Class Objects\n",
        "# What is the significance of all objects being \"first-class\" in Python?\n",
        "\n",
        "#answer:\n",
        "#as data ojects can be stored as variables, passed as arguments, returned from functions, compared against other objects and more\n",
        "\n",
        "\n",
        "# Explain by typing in the code to create and use the 'items' dictionary shown in section 4.6.\n",
        "# Explain each of the lines starting with '>>>' in the section.\n",
        "\n",
        "items = {\n",
        "    'number': 42,\n",
        "    'text': \"hello world\"\n",
        "}#creates a dictionary named items\n",
        "\n",
        "items['func'] = abs #add the abs function as a value with key 'func'\n",
        "\n",
        "import math\n",
        "\n",
        "items['mod'] = math #adds the math function value with key 'mod'\n",
        "\n",
        "items['error'] = ValueError #adds the ValueError function value with the key 'error'\n",
        "\n",
        "nums = [1,2,3,4,5] #creates a list of numbers named nums\n",
        "\n",
        "items['append'] = nums.append #adds append method with with key 'append'\n",
        "\n",
        "items['func'] (-45) #calls abs function with argument -45\n",
        "\n",
        "items['mod'].sqrt(4) #calls the sqrt function out of math module, with argument 4\n",
        "\n",
        "try:\n",
        "  x = int('a lot') #try to convert the string 'a lot' into a int\n",
        "\n",
        "except items['error'] as e: #and a catch of ValueError\n",
        "    print('couldnt convert')\n",
        "\n",
        "items['append'](100) #calls append method to items list with argument 100\n",
        "nums\n",
        "\n",
        "line = 'ACME, 100, 490.10'\n",
        "collumn_types = [str, int, float]\n",
        "parts = line.split(',') #split the line variable into parts using ','\n",
        "\n",
        "row = [ty(val) for ty, val in zip(collumn_types, parts)] #creates a new list row,  by applying each type from 'collumn_types' to the corresponding part in 'parts'\n",
        "row"
      ],
      "metadata": {
        "id": "9LRpP06Vsw6n",
        "colab": {
          "base_uri": "https://localhost:8080/"
        },
        "outputId": "0273b673-2bac-412a-f186-6b8303f88513"
      },
      "execution_count": null,
      "outputs": [
        {
          "output_type": "stream",
          "name": "stdout",
          "text": [
            "couldnt convert\n"
          ]
        },
        {
          "output_type": "execute_result",
          "data": {
            "text/plain": [
              "['ACME', 100, 490.1]"
            ]
          },
          "metadata": {},
          "execution_count": 12
        }
      ]
    },
    {
      "cell_type": "code",
      "source": [
        "# 4.7 Using None\n",
        "# Write a function that takes two parameters and returns their sum if they are\n",
        "#  integers or returns None if either one is not.\n",
        "\n",
        "# Put in some test code to show that your function works\n",
        "\n",
        "# INSERT YOUR CODE HERE\n",
        "\n",
        "def add_parameters(a,b):\n",
        "  p1 = type(a) == int\n",
        "  p2 = type(b) == int\n",
        "  if p1 and p2:\n",
        "    return f'restult {type(a + b)}: {a + b}'\n",
        "\n",
        "  else:\n",
        "    if not p1:\n",
        "       return (f'{a} aint no int')\n",
        "    if not p2:\n",
        "      return (f'{b} aint no int')\n",
        "\n",
        "\n",
        "#test\n",
        "print('Two ints: 3,5')\n",
        "print(add_parameters(3,5))\n",
        "\n",
        "print('Int and string: 3, \"dog\"')\n",
        "print(add_parameters(3,'dog'))\n",
        "\n",
        "print('Two strings: \"cat\", \"dog\"')\n",
        "print(add_parameters(\"cat\",'dog'))\n",
        "\n"
      ],
      "metadata": {
        "id": "dUhRWGnCtewU",
        "colab": {
          "base_uri": "https://localhost:8080/"
        },
        "outputId": "67649fae-4ffa-47ce-c173-fded5d99cd1a"
      },
      "execution_count": null,
      "outputs": [
        {
          "output_type": "stream",
          "name": "stdout",
          "text": [
            "Two ints: 3,5\n",
            "restult <class 'int'>: 8\n",
            "Int and string: 3, \"dog\"\n",
            "dog aint no int\n",
            "Two strings: \"cat\", \"dog\"\n",
            "cat aint no int\n"
          ]
        }
      ]
    },
    {
      "cell_type": "code",
      "source": [
        "# 4.9 Object Protocol\n",
        "# Create a simple object that has methods for:\n",
        "#  __new__\n",
        "#  __init__\n",
        "#  __del__\n",
        "#  __repr__\n",
        "#  __str__\n",
        "\n",
        "# Put in some test code to show how and when each of these 'magic' functions gets called.\n",
        "\n",
        "# INSERT YOUR CODE HERE\n",
        "\n",
        "class MagicFunctions:\n",
        "  def __new___(cls, *args, **kwargs):\n",
        "    return super().__new__(cls)\n",
        "    print('__new__ is called creates a new instance')\n",
        "\n",
        "  def __init__(self, value):\n",
        "    self.value = value\n",
        "    print(f'__init__ is called and initializes {self.value}')\n",
        "\n",
        "  def __del__(self):\n",
        "    print(f'__del__ is called and deletes instance {self}')\n",
        "\n",
        "  def __repr__(self):\n",
        "        return f'__repr__ called on {self.value})'\n",
        "\n",
        "  def __str__(self):\n",
        "      return f'__str__ instance is called with {self.value}'\n",
        "\n",
        "# Test code\n",
        "obj = MagicFunctions(15)\n",
        "\n",
        "\n",
        "print(f'\\nUsing __repr__: {repr(obj)}')\n",
        "print(f'Using __str__: {str(obj)}')\n"
      ],
      "metadata": {
        "id": "4M-CQevEt2xQ",
        "colab": {
          "base_uri": "https://localhost:8080/"
        },
        "outputId": "c2ccc0b9-1e4c-4130-ee57-5c8c5a098a1b"
      },
      "execution_count": 12,
      "outputs": [
        {
          "output_type": "stream",
          "name": "stdout",
          "text": [
            "__init__ is called and initializes 15\n",
            "\n",
            "Using __repr__: __repr__ called on 15)\n",
            "Using __str__: __str__ instance is called with 15\n"
          ]
        }
      ]
    },
    {
      "cell_type": "code",
      "source": [],
      "metadata": {
        "id": "UuDKzvsbygVV"
      },
      "execution_count": null,
      "outputs": []
    }
  ]
}