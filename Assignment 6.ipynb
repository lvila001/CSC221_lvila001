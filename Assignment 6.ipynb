{
  "nbformat": 4,
  "nbformat_minor": 0,
  "metadata": {
    "colab": {
      "provenance": [],
      "authorship_tag": "ABX9TyN216MD42A892H8BW5epIat",
      "include_colab_link": true
    },
    "kernelspec": {
      "name": "python3",
      "display_name": "Python 3"
    },
    "language_info": {
      "name": "python"
    }
  },
  "cells": [
    {
      "cell_type": "markdown",
      "metadata": {
        "id": "view-in-github",
        "colab_type": "text"
      },
      "source": [
        "<a href=\"https://colab.research.google.com/github/lvila001/CSC221_lvila001/blob/main/Assignment%206.ipynb\" target=\"_parent\"><img src=\"https://colab.research.google.com/assets/colab-badge.svg\" alt=\"Open In Colab\"/></a>"
      ]
    },
    {
      "cell_type": "markdown",
      "source": [
        "**5-1, 5-2, 5-3, 5-6, and 5-12.**"
      ],
      "metadata": {
        "id": "RjfI4d5f8oWk"
      }
    },
    {
      "cell_type": "code",
      "source": [
        "cars = ['audi', 'bmw', 'subaru','toyota']\n",
        "\n",
        "for car in cars:\n",
        "  if car == \"bmw\":\n",
        "    print(car.upper())\n",
        "  else:\n",
        "    print(car.title())"
      ],
      "metadata": {
        "colab": {
          "base_uri": "https://localhost:8080/"
        },
        "id": "aBFQpZhk84RB",
        "outputId": "460bdbb3-0e03-4f6d-daff-fb27bd7eba04"
      },
      "execution_count": 3,
      "outputs": [
        {
          "output_type": "stream",
          "name": "stdout",
          "text": [
            "Audi\n",
            "BMW\n",
            "Subaru\n",
            "Toyota\n"
          ]
        }
      ]
    },
    {
      "cell_type": "code",
      "source": [
        "car = \"bmw\"\n",
        "car == \"bmw\""
      ],
      "metadata": {
        "colab": {
          "base_uri": "https://localhost:8080/"
        },
        "id": "9hHamGCG-M8-",
        "outputId": "001d15f0-8437-4adc-bfe6-c5ac06286a7e"
      },
      "execution_count": 4,
      "outputs": [
        {
          "output_type": "execute_result",
          "data": {
            "text/plain": [
              "True"
            ]
          },
          "metadata": {},
          "execution_count": 4
        }
      ]
    },
    {
      "cell_type": "code",
      "source": [
        "car = \"audi\"\n",
        "car == \"bmw\""
      ],
      "metadata": {
        "colab": {
          "base_uri": "https://localhost:8080/"
        },
        "id": "Hmg7KzJE-W9i",
        "outputId": "e1afda52-f9a3-4b55-b42e-e03b28c9c8bf"
      },
      "execution_count": 5,
      "outputs": [
        {
          "output_type": "execute_result",
          "data": {
            "text/plain": [
              "False"
            ]
          },
          "metadata": {},
          "execution_count": 5
        }
      ]
    },
    {
      "cell_type": "code",
      "source": [
        "car = \"Audi\"\n",
        "car == \"audi\""
      ],
      "metadata": {
        "colab": {
          "base_uri": "https://localhost:8080/"
        },
        "id": "C1g6cQnq-bQG",
        "outputId": "43dcb23f-656b-4778-fb62-5ebbe7dde689"
      },
      "execution_count": 6,
      "outputs": [
        {
          "output_type": "execute_result",
          "data": {
            "text/plain": [
              "False"
            ]
          },
          "metadata": {},
          "execution_count": 6
        }
      ]
    },
    {
      "cell_type": "code",
      "source": [
        "car = \"Audi\"\n",
        "car.lower() == \"audi\""
      ],
      "metadata": {
        "colab": {
          "base_uri": "https://localhost:8080/"
        },
        "id": "BgYAexPu-nxW",
        "outputId": "5fdba63d-10c7-46c0-da13-3e348b80abd1"
      },
      "execution_count": 8,
      "outputs": [
        {
          "output_type": "execute_result",
          "data": {
            "text/plain": [
              "True"
            ]
          },
          "metadata": {},
          "execution_count": 8
        }
      ]
    },
    {
      "cell_type": "code",
      "source": [
        "car = \"Audi\"\n",
        "car.lower() == \"audi\"\n",
        "\n",
        "car"
      ],
      "metadata": {
        "colab": {
          "base_uri": "https://localhost:8080/",
          "height": 35
        },
        "id": "-NmJivmj-smI",
        "outputId": "ce8acd28-e776-468e-d430-c9ee7efc99a8"
      },
      "execution_count": 9,
      "outputs": [
        {
          "output_type": "execute_result",
          "data": {
            "text/plain": [
              "'Audi'"
            ],
            "application/vnd.google.colaboratory.intrinsic+json": {
              "type": "string"
            }
          },
          "metadata": {},
          "execution_count": 9
        }
      ]
    },
    {
      "cell_type": "code",
      "source": [
        "requested_topping = 'mushrooms'\n",
        "\n",
        "if requested_topping != 'anchovies':\n",
        "  print('hold the anchovies')"
      ],
      "metadata": {
        "colab": {
          "base_uri": "https://localhost:8080/"
        },
        "id": "stQS1cor-yYP",
        "outputId": "1e2e976f-1c75-468f-ef38-c418587dae55"
      },
      "execution_count": 11,
      "outputs": [
        {
          "output_type": "stream",
          "name": "stdout",
          "text": [
            "hold the anchovies\n"
          ]
        }
      ]
    },
    {
      "cell_type": "code",
      "source": [
        "age = 18\n",
        "age == 18\n"
      ],
      "metadata": {
        "colab": {
          "base_uri": "https://localhost:8080/"
        },
        "id": "Kg_DmCzO_sF0",
        "outputId": "1189daa0-33c5-48e9-ebe1-16feca5b0686"
      },
      "execution_count": 12,
      "outputs": [
        {
          "output_type": "execute_result",
          "data": {
            "text/plain": [
              "True"
            ]
          },
          "metadata": {},
          "execution_count": 12
        }
      ]
    },
    {
      "cell_type": "code",
      "source": [
        "age = 19\n",
        "age < 21\n",
        "age <= 21\n",
        "age > 21\n",
        "age>=21"
      ],
      "metadata": {
        "colab": {
          "base_uri": "https://localhost:8080/"
        },
        "id": "YJPq5WOR_3O8",
        "outputId": "8960d966-f61b-4ec9-b8f6-0088c8e833ac"
      },
      "execution_count": 13,
      "outputs": [
        {
          "output_type": "execute_result",
          "data": {
            "text/plain": [
              "False"
            ]
          },
          "metadata": {},
          "execution_count": 13
        }
      ]
    },
    {
      "cell_type": "code",
      "source": [
        "age_0 = 22\n",
        "age_1 = 18\n",
        "age_0 >= 21 and age_1 >= 21"
      ],
      "metadata": {
        "colab": {
          "base_uri": "https://localhost:8080/"
        },
        "id": "n-QTyzK6ANEk",
        "outputId": "9e77a953-38e5-40df-edb0-b62acf002a60"
      },
      "execution_count": 22,
      "outputs": [
        {
          "output_type": "execute_result",
          "data": {
            "text/plain": [
              "False"
            ]
          },
          "metadata": {},
          "execution_count": 22
        }
      ]
    },
    {
      "cell_type": "code",
      "source": [
        "age_1 = 22\n",
        "age_0 >= 21 and age_1 >= 21"
      ],
      "metadata": {
        "colab": {
          "base_uri": "https://localhost:8080/"
        },
        "id": "xZSom0O8AlEW",
        "outputId": "d0c3d7f5-d0fd-4869-96a9-a56f9ed0e368"
      },
      "execution_count": 23,
      "outputs": [
        {
          "output_type": "execute_result",
          "data": {
            "text/plain": [
              "True"
            ]
          },
          "metadata": {},
          "execution_count": 23
        }
      ]
    },
    {
      "cell_type": "code",
      "source": [
        "age_0 = 22\n",
        "age_1 = 18\n",
        "\n",
        "age_0 >= 21 or age_1 >= 21"
      ],
      "metadata": {
        "colab": {
          "base_uri": "https://localhost:8080/"
        },
        "id": "sm4vjSwOAvn9",
        "outputId": "526349ab-34d3-4f29-e5f5-1050d4a826fa"
      },
      "execution_count": 24,
      "outputs": [
        {
          "output_type": "execute_result",
          "data": {
            "text/plain": [
              "True"
            ]
          },
          "metadata": {},
          "execution_count": 24
        }
      ]
    },
    {
      "cell_type": "code",
      "source": [
        "age_0 = 18\n",
        "\n",
        "age_0 >= 21 or age_1 >= 21"
      ],
      "metadata": {
        "colab": {
          "base_uri": "https://localhost:8080/"
        },
        "id": "ftYUn6lSBPm6",
        "outputId": "5588188a-2644-4795-8ab7-5af1ceb7c26c"
      },
      "execution_count": 25,
      "outputs": [
        {
          "output_type": "execute_result",
          "data": {
            "text/plain": [
              "False"
            ]
          },
          "metadata": {},
          "execution_count": 25
        }
      ]
    },
    {
      "cell_type": "code",
      "source": [
        "requested_topping = ['mushrooms', 'onions', 'pineapple']\n",
        "\n",
        "'mushrooms' in requested_topping\n"
      ],
      "metadata": {
        "colab": {
          "base_uri": "https://localhost:8080/"
        },
        "id": "l4D7MHHhBqY6",
        "outputId": "0a7ba2c1-5f36-4db6-d76d-11db34fe2de6"
      },
      "execution_count": 28,
      "outputs": [
        {
          "output_type": "execute_result",
          "data": {
            "text/plain": [
              "True"
            ]
          },
          "metadata": {},
          "execution_count": 28
        }
      ]
    },
    {
      "cell_type": "code",
      "source": [
        "'pepperoni' in requested_topping"
      ],
      "metadata": {
        "colab": {
          "base_uri": "https://localhost:8080/"
        },
        "id": "sWbtXxO0CXRR",
        "outputId": "8e3be53f-5e9a-4e6a-de0d-794a79ef277a"
      },
      "execution_count": 29,
      "outputs": [
        {
          "output_type": "execute_result",
          "data": {
            "text/plain": [
              "False"
            ]
          },
          "metadata": {},
          "execution_count": 29
        }
      ]
    },
    {
      "cell_type": "code",
      "source": [
        "banned_users = ['andrew', 'carolina', 'david']\n",
        "user = 'marie'\n",
        "if user not in banned_users:\n",
        "  print(f'{user.title()}, you can post a response if you wish')"
      ],
      "metadata": {
        "colab": {
          "base_uri": "https://localhost:8080/"
        },
        "id": "llHMu_xhCwDv",
        "outputId": "b4546962-e188-411b-c332-68e5d23f837d"
      },
      "execution_count": 31,
      "outputs": [
        {
          "output_type": "stream",
          "name": "stdout",
          "text": [
            "Marie, you can post a response if you wish\n"
          ]
        }
      ]
    },
    {
      "cell_type": "code",
      "source": [
        "game_active = True\n",
        "can_edit = False"
      ],
      "metadata": {
        "id": "LbshQbEWDI1I"
      },
      "execution_count": 32,
      "outputs": []
    },
    {
      "cell_type": "code",
      "source": [
        "#5-1\n",
        "pizzas = \"plain\"\n",
        "\n",
        "print('Is pizza == \"plain\", i predict yes')\n",
        "print(pizzas == \"plain\")\n",
        "\n",
        "print('Is pizza == \"audi\", i predict NO')\n",
        "print(pizzas == \"audi\")\n",
        "\n",
        "car = \"audi\"\n",
        "\n",
        "print('Is car == \"audi\", i predict yes')\n",
        "print(car == \"audi\")\n",
        "\n",
        "print('Is car == \"pizza\", i predict no')\n",
        "print(car == \"pizza\")"
      ],
      "metadata": {
        "colab": {
          "base_uri": "https://localhost:8080/"
        },
        "id": "vC21ob_QDz5z",
        "outputId": "f85c2a0c-8ac2-4665-ee75-5dd0604e1ec0"
      },
      "execution_count": 38,
      "outputs": [
        {
          "output_type": "stream",
          "name": "stdout",
          "text": [
            "Is pizza == \"plain\", i predict yes\n",
            "True\n",
            "Is pizza == \"audi\", i predict NO\n",
            "False\n",
            "Is car == \"audi\", i predict yes\n",
            "True\n",
            "Is car == \"pizza\", i predict no\n",
            "False\n"
          ]
        }
      ]
    },
    {
      "cell_type": "code",
      "source": [
        "#5-2\n",
        "print('test' == 'quiz')\n",
        "exam = 'Test'\n",
        "print('Test' == exam)\n",
        "\n",
        "print('test' == exam)\n",
        "print(exam.lower() == 'test')\n",
        "\n",
        "print(1 == 1)\n",
        "2 <= 1\n",
        "2 >= 1\n",
        "\n",
        "1 > 0\n",
        "1 > 0\n",
        "\n",
        "age1 = 1\n",
        "age2= 2\n",
        "print(age1 > 0 and age2 > 0)\n",
        "age2=0\n",
        "print(age1 > 0 and age2 > 0)\n",
        "\n",
        "age1 = 1\n",
        "age2= 0\n",
        "print(age1 > 0 or age2 > 0)\n",
        "age1=0\n",
        "print(age1 > 0 or age2 > 0)\n",
        "\n",
        "states = ['maine', 'new york', 'florida', 'hawaii']\n",
        "if 'maine' in states:\n",
        "  print('maines a state?!?')"
      ],
      "metadata": {
        "colab": {
          "base_uri": "https://localhost:8080/"
        },
        "id": "iE0DrLMwEf9x",
        "outputId": "100b1331-3085-4143-cb23-273e46afa1c0"
      },
      "execution_count": 60,
      "outputs": [
        {
          "output_type": "stream",
          "name": "stdout",
          "text": [
            "False\n",
            "True\n",
            "False\n",
            "True\n",
            "True\n",
            "True\n",
            "False\n",
            "True\n",
            "False\n",
            "maines a state?!?\n"
          ]
        }
      ]
    },
    {
      "cell_type": "code",
      "source": [
        "'''if conditional_test:\n",
        "      do something'''\n",
        "\n",
        "age = 19\n",
        "if age >= 18:\n",
        "  print('you are old enough to vote')"
      ],
      "metadata": {
        "colab": {
          "base_uri": "https://localhost:8080/"
        },
        "id": "xWJB_jB6GWkr",
        "outputId": "f68b72ec-a3e8-4c30-b122-22d5a75e544e"
      },
      "execution_count": 64,
      "outputs": [
        {
          "output_type": "stream",
          "name": "stdout",
          "text": [
            "you are old enough to vote\n"
          ]
        }
      ]
    },
    {
      "cell_type": "code",
      "source": [
        "age = 19\n",
        "if age >= 18:\n",
        "  print('you are old enough to vote')\n",
        "  print('have you registered to vote')"
      ],
      "metadata": {
        "colab": {
          "base_uri": "https://localhost:8080/"
        },
        "id": "DoljuYKdJ-Wb",
        "outputId": "de5b41ba-3cca-4854-f5c3-20bf6d7f1712"
      },
      "execution_count": 65,
      "outputs": [
        {
          "output_type": "stream",
          "name": "stdout",
          "text": [
            "you are old enough to vote\n",
            "have you registered to vote\n"
          ]
        }
      ]
    },
    {
      "cell_type": "code",
      "source": [
        "age = 17\n",
        "if age >= 18:\n",
        "  print('you are old enough to vote')\n",
        "  print('have you registered to vote')\n",
        "else:\n",
        "  print('sorry you are too young to vote')\n",
        "  print('please register to vote when you can')"
      ],
      "metadata": {
        "colab": {
          "base_uri": "https://localhost:8080/"
        },
        "id": "QUTCImFwKMwF",
        "outputId": "51ad8e26-a189-4a97-d4de-29b8d4dc1c17"
      },
      "execution_count": 66,
      "outputs": [
        {
          "output_type": "stream",
          "name": "stdout",
          "text": [
            "sorry you are too young to vote\n",
            "please register to vote when you can\n"
          ]
        }
      ]
    },
    {
      "cell_type": "code",
      "source": [
        "age = 12\n",
        "if age < 4:\n",
        "  print('yur admission cost is $0')\n",
        "elif age < 18:\n",
        "  print('your admission cost is $25')\n",
        "else:\n",
        "  print('your admission cost is $40')"
      ],
      "metadata": {
        "colab": {
          "base_uri": "https://localhost:8080/"
        },
        "id": "wVmzyLK3KdBk",
        "outputId": "2ad42a99-4589-48aa-a8f0-69adfdd50965"
      },
      "execution_count": 67,
      "outputs": [
        {
          "output_type": "stream",
          "name": "stdout",
          "text": [
            "your admission cost is $25\n"
          ]
        }
      ]
    },
    {
      "cell_type": "code",
      "source": [
        "age = 12\n",
        "if age < 4:\n",
        "  cost = 0\n",
        "elif age < 18:\n",
        "  cost = 25\n",
        "else:\n",
        "  cost = 40\n",
        "print(f'your admission cost is ${cost}')"
      ],
      "metadata": {
        "colab": {
          "base_uri": "https://localhost:8080/"
        },
        "id": "QlR79ROQLE7H",
        "outputId": "689fa529-be4a-44d3-d7d4-b574e4a6216f"
      },
      "execution_count": 68,
      "outputs": [
        {
          "output_type": "stream",
          "name": "stdout",
          "text": [
            "your admission cost is $25\n"
          ]
        }
      ]
    },
    {
      "cell_type": "code",
      "source": [
        "age = 65\n",
        "if age < 4:\n",
        "  cost = 0\n",
        "elif age < 18:\n",
        "  cost = 25\n",
        "elif age < 65:\n",
        "  cost = 40\n",
        "elif age >= 65:\n",
        "  cost = 20\n",
        "print(f'your admission cost is ${cost}')"
      ],
      "metadata": {
        "colab": {
          "base_uri": "https://localhost:8080/"
        },
        "id": "doHU1cGELhIv",
        "outputId": "2ff01ac1-9387-4392-8c27-09e910302c77"
      },
      "execution_count": 72,
      "outputs": [
        {
          "output_type": "stream",
          "name": "stdout",
          "text": [
            "your admission cost is $20\n"
          ]
        }
      ]
    },
    {
      "cell_type": "code",
      "source": [
        "requested_toppings = ['mushrooms', 'extra cheese']\n",
        "if 'mushrooms' in requested_toppings:\n",
        "  print(\"adding mushrooms\")\n",
        "\n",
        "if 'pineapple' in requested_toppings:\n",
        "  print(\"adding pineapple\")\n",
        "\n",
        "if 'extra cheese' in requested_toppings:\n",
        "  print(\"adding extra cheese\")\n",
        "\n",
        "print('finished making your pizza')\n"
      ],
      "metadata": {
        "colab": {
          "base_uri": "https://localhost:8080/"
        },
        "id": "nDH2y2TBLynb",
        "outputId": "1b203496-febb-4e67-f28f-041fc37a74b9"
      },
      "execution_count": 75,
      "outputs": [
        {
          "output_type": "stream",
          "name": "stdout",
          "text": [
            "adding mushrooms\n",
            "adding extra cheese\n"
          ]
        }
      ]
    },
    {
      "cell_type": "code",
      "source": [
        "requested_toppings = ['mushrooms', 'extra cheese']\n",
        "if 'mushrooms' in requested_toppings:\n",
        "  print(\"adding mushrooms\")\n",
        "\n",
        "elif 'pineapple' in requested_toppings:\n",
        "  print(\"adding pineapple\")\n",
        "\n",
        "elif 'extra cheese' in requested_toppings:\n",
        "  print(\"adding extra cheese\")\n",
        "\n",
        "print('finished making your pizza')\n"
      ],
      "metadata": {
        "colab": {
          "base_uri": "https://localhost:8080/"
        },
        "id": "elq5eDP9MYXT",
        "outputId": "dacfe036-13dc-4d8c-fc41-528199819254"
      },
      "execution_count": 76,
      "outputs": [
        {
          "output_type": "stream",
          "name": "stdout",
          "text": [
            "adding mushrooms\n",
            "finished making your pizza\n"
          ]
        }
      ]
    },
    {
      "cell_type": "code",
      "source": [
        "#5-3\n",
        "alien_color = \"green\"\n",
        "\n",
        "if alien_color == \"green\":\n",
        "  print('you earned 5 points')\n",
        "\n",
        "alien_color = \"Red\"\n",
        "\n",
        "if alien_color == \"green\":\n",
        "  print('you earned 5 points')"
      ],
      "metadata": {
        "colab": {
          "base_uri": "https://localhost:8080/"
        },
        "id": "mt6FlfLVNJ7L",
        "outputId": "d8f49c22-dc00-4353-df70-c13ffcf5e20f"
      },
      "execution_count": 78,
      "outputs": [
        {
          "output_type": "stream",
          "name": "stdout",
          "text": [
            "you earned 5 points\n"
          ]
        }
      ]
    },
    {
      "cell_type": "code",
      "source": [
        "#5-6\n",
        "age = 65\n",
        "\n",
        "if age < 2:\n",
        "  print('your a baby')\n",
        "elif 2 <= age < 4:\n",
        "  print('your a toddler')\n",
        "elif 4 <= age < 13:\n",
        "  print('your a kid')\n",
        "elif 13 <= age < 20:\n",
        "  print('your a teenager')\n",
        "elif 20 <= age < 65:\n",
        "  print('your a adult')\n",
        "else:\n",
        "  print('your a elder')"
      ],
      "metadata": {
        "colab": {
          "base_uri": "https://localhost:8080/"
        },
        "id": "9EITWXk1N1He",
        "outputId": "1d32b7c0-fc8e-4c04-e977-91fba212c592"
      },
      "execution_count": 82,
      "outputs": [
        {
          "output_type": "stream",
          "name": "stdout",
          "text": [
            "your a elder\n"
          ]
        }
      ]
    },
    {
      "cell_type": "code",
      "source": [
        "requested_toppings = ['mushrooms', 'green peppers', 'extra cheese']\n",
        "\n",
        "for requested_topping in requested_toppings:\n",
        "  print(f'adding {requested_topping}.')\n",
        "print('finished making your pizza')"
      ],
      "metadata": {
        "colab": {
          "base_uri": "https://localhost:8080/"
        },
        "id": "zEaHek-RSW7B",
        "outputId": "bbbe669d-9fe7-4de9-b7f1-db1237e905a8"
      },
      "execution_count": 84,
      "outputs": [
        {
          "output_type": "stream",
          "name": "stdout",
          "text": [
            "adding mushrooms.\n",
            "adding green peppers.\n",
            "adding extra cheese.\n",
            "finished making your pizza\n"
          ]
        }
      ]
    },
    {
      "cell_type": "code",
      "source": [
        "requested_toppings = ['mushrooms', 'green peppers', 'extra cheese']\n",
        "\n",
        "for requested_topping in requested_toppings:\n",
        "  if requested_topping == 'green peppers':\n",
        "    print('sorry we r out of green peppers')\n",
        "\n",
        "  else:\n",
        "    print(f'adding {requested_topping}.')\n",
        "\n",
        "print('finished making your pizza')"
      ],
      "metadata": {
        "colab": {
          "base_uri": "https://localhost:8080/"
        },
        "id": "hP0HCkQ9TBLS",
        "outputId": "284719a3-69b1-457b-a53c-97809259a0f1"
      },
      "execution_count": 86,
      "outputs": [
        {
          "output_type": "stream",
          "name": "stdout",
          "text": [
            "adding mushrooms.\n",
            "sorry we r out of green peppers\n",
            "adding extra cheese.\n",
            "finished making your pizza\n"
          ]
        }
      ]
    },
    {
      "cell_type": "code",
      "source": [
        "requested_toppings = []\n",
        "\n",
        "if requested_toppings:\n",
        "  for requested_topping in requested_toppings:\n",
        "    print(f'adding {requested_topping}')\n",
        "    print('finished making your pizza')\n",
        "else:\n",
        "  print('are you sure you want a plain pizza')\n"
      ],
      "metadata": {
        "colab": {
          "base_uri": "https://localhost:8080/"
        },
        "id": "zYkg5MoMUDOZ",
        "outputId": "763fee61-1ff9-4ac7-e01e-535850707103"
      },
      "execution_count": 89,
      "outputs": [
        {
          "output_type": "stream",
          "name": "stdout",
          "text": [
            "are you sure you want a plain pizza\n"
          ]
        }
      ]
    },
    {
      "cell_type": "code",
      "source": [
        "available = ['mushrooms', 'olives', 'green peppers', 'pepperoni', 'pine apple', 'extra cheese']\n",
        "requested = ['mushrooms', 'french fries', 'extra cheese']\n",
        "\n",
        "for request in requested:\n",
        "  if request in available:\n",
        "    print(f'adding {request}.')\n",
        "  else:\n",
        "    print(f'sorry we do not have {request}')\n",
        "print('\\nFinished your pizza')\n"
      ],
      "metadata": {
        "colab": {
          "base_uri": "https://localhost:8080/"
        },
        "id": "zkiynEeTVEZ-",
        "outputId": "2d0e5a30-a17f-442c-99e8-e4feb0aa80b3"
      },
      "execution_count": 93,
      "outputs": [
        {
          "output_type": "stream",
          "name": "stdout",
          "text": [
            "adding mushrooms.\n",
            "sorry we do not have french fries\n",
            "adding extra cheese.\n",
            "\n",
            "Finished your pizza\n"
          ]
        }
      ]
    },
    {
      "cell_type": "code",
      "source": [
        "#5-13\n",
        "present_names = ['logan', 'kyle', 'matt', 'tara', 'sarah', \"ralph\"]\n",
        "absent_names = ['kyle', 'tara']\n",
        "print('I am taking attendance.')\n",
        "for name in present_names:\n",
        "  if name not in absent_names:\n",
        "    print(f'\\n\\thello {name.title()}')\n",
        "\n",
        "  else:\n",
        "    print(f'\\n\\t{name.title()}... absent it is.')\n",
        "\n",
        "absent_count = len(absent_names)\n",
        "class_count = len(present_names)\n",
        "present_count = class_count - absent_count\n",
        "\n",
        "\n",
        "if absent_count == 0:\n",
        "  print('Noone is absent. lets get learning')\n",
        "elif absent_count < (.5 * class_count):\n",
        "  print(f'\\nonly {absent_count} absent. not too shabby.')\n",
        "else:\n",
        "  print(f\"\\nwow more than half the class isnt here. All {present_count} of you get a hundred\")"
      ],
      "metadata": {
        "colab": {
          "base_uri": "https://localhost:8080/"
        },
        "id": "I5g5Zq1rV9yD",
        "outputId": "46587616-cc37-4369-87a9-f3165e0c44ac"
      },
      "execution_count": 117,
      "outputs": [
        {
          "output_type": "stream",
          "name": "stdout",
          "text": [
            "I am taking attendance.\n",
            "\n",
            "\thello Logan\n",
            "\n",
            "\tKyle... absent it is.\n",
            "\n",
            "\thello Matt\n",
            "\n",
            "\tTara... absent it is.\n",
            "\n",
            "\thello Sarah\n",
            "\n",
            "\thello Ralph\n",
            "\n",
            "only 2 absent. not too shabby.\n"
          ]
        }
      ]
    },
    {
      "cell_type": "code",
      "source": [],
      "metadata": {
        "id": "oBAcIMKLX8P0"
      },
      "execution_count": null,
      "outputs": []
    }
  ]
}
