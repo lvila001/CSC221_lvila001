{
  "nbformat": 4,
  "nbformat_minor": 0,
  "metadata": {
    "colab": {
      "provenance": [],
      "authorship_tag": "ABX9TyPgXC+HbsYklR4RqG0clPRx",
      "include_colab_link": true
    },
    "kernelspec": {
      "name": "python3",
      "display_name": "Python 3"
    },
    "language_info": {
      "name": "python"
    }
  },
  "cells": [
    {
      "cell_type": "markdown",
      "metadata": {
        "id": "view-in-github",
        "colab_type": "text"
      },
      "source": [
        "<a href=\"https://colab.research.google.com/github/lvila001/CSC221_lvila001/blob/main/Assignment3.ipynb\" target=\"_parent\"><img src=\"https://colab.research.google.com/assets/colab-badge.svg\" alt=\"Open In Colab\"/></a>"
      ]
    },
    {
      "cell_type": "code",
      "execution_count": null,
      "metadata": {
        "id": "cd-HY2t-Beqd"
      },
      "outputs": [],
      "source": [
        "#Logan Vilardi\n",
        "#9/11/2023\n",
        "\n",
        "\n",
        "#2-1\n",
        "color = 'red'\n",
        "print (color)\n",
        "\n",
        "#2-2\n",
        "food = 'apple'\n",
        "print(food)\n",
        "\n",
        "food = 'burger'\n",
        "print (food)"
      ]
    },
    {
      "cell_type": "code",
      "source": [
        "#2-3\n",
        "name = 'logan'\n",
        "message = f'Hello {name}, its time for python'\n",
        "print(message)\n",
        "\n",
        "#2-4\n",
        "name = 'bob Ross'\n",
        "print(name.lower())\n",
        "print(name.upper())\n",
        "print(name.title())\n",
        "\n",
        "#2-5\n",
        "Author = \"Winston Churchill\"\n",
        "Quote = \"If you are going through hell keep going\"\n",
        "print(f'{Author} once said \"{Quote}\"')\n",
        "\n",
        "#2-6\n",
        "famous_person = \"Winston Churchill\"\n",
        "Quote = \"If you are going through hell keep going\"\n",
        "message = (f'{famous_person} once said \"{Quote}\"')\n",
        "print(message)\n",
        "\n",
        "#2-7\n",
        "name = '\\n logan \\tvilardi   '\n",
        "print(name)\n",
        "print(name.lstrip())\n",
        "print(name.rstrip())\n",
        "print(name.strip())\n",
        "\n",
        "#2-8\n",
        "filename = 'python_notes.txt'\n",
        "print(filename.removesuffix('.txt'))\n",
        "\n"
      ],
      "metadata": {
        "colab": {
          "base_uri": "https://localhost:8080/"
        },
        "id": "9i3GzBWkBf8M",
        "outputId": "3b505973-9d28-4d35-ce4d-6ccbd8362474"
      },
      "execution_count": 22,
      "outputs": [
        {
          "output_type": "stream",
          "name": "stdout",
          "text": [
            "Hello logan, its time for python\n",
            "bob ross\n",
            "BOB ROSS\n",
            "Bob Ross\n",
            "Winston Churchill once said \"If you are going through hell keep going\"\n",
            "Winston Churchill once said \"If you are going through hell keep going\"\n",
            "\n",
            " logan \tvilardi   \n",
            "logan \tvilardi   \n",
            "\n",
            " logan \tvilardi\n",
            "logan \tvilardi\n",
            "python_notes\n"
          ]
        }
      ]
    },
    {
      "cell_type": "code",
      "source": [
        "#2-9\n",
        "print(7+1)\n",
        "print(9-1)\n",
        "print(4*2)\n",
        "print(16//2) #I chose to do the double // because it makes the answer a integer and not a float\n",
        "\n",
        "#2-10\n",
        "favirote_number = 15\n",
        "print(f'My favirote number is {favirote_number}')\n",
        "\n"
      ],
      "metadata": {
        "colab": {
          "base_uri": "https://localhost:8080/"
        },
        "outputId": "5719db6a-9c66-4571-d784-749015a67165",
        "id": "Nm_zNPMrEYCm"
      },
      "execution_count": 25,
      "outputs": [
        {
          "output_type": "stream",
          "name": "stdout",
          "text": [
            "8\n",
            "8\n",
            "8\n",
            "8\n",
            "My favirote number is 15\n"
          ]
        }
      ]
    },
    {
      "cell_type": "code",
      "source": [
        "import this"
      ],
      "metadata": {
        "colab": {
          "base_uri": "https://localhost:8080/"
        },
        "id": "k5B3i3BhBwp3",
        "outputId": "162807e0-3a59-44a3-8e4e-4a02fa9d6fef"
      },
      "execution_count": 26,
      "outputs": [
        {
          "output_type": "stream",
          "name": "stdout",
          "text": [
            "The Zen of Python, by Tim Peters\n",
            "\n",
            "Beautiful is better than ugly.\n",
            "Explicit is better than implicit.\n",
            "Simple is better than complex.\n",
            "Complex is better than complicated.\n",
            "Flat is better than nested.\n",
            "Sparse is better than dense.\n",
            "Readability counts.\n",
            "Special cases aren't special enough to break the rules.\n",
            "Although practicality beats purity.\n",
            "Errors should never pass silently.\n",
            "Unless explicitly silenced.\n",
            "In the face of ambiguity, refuse the temptation to guess.\n",
            "There should be one-- and preferably only one --obvious way to do it.\n",
            "Although that way may not be obvious at first unless you're Dutch.\n",
            "Now is better than never.\n",
            "Although never is often better than *right* now.\n",
            "If the implementation is hard to explain, it's a bad idea.\n",
            "If the implementation is easy to explain, it may be a good idea.\n",
            "Namespaces are one honking great idea -- let's do more of those!\n"
          ]
        }
      ]
    }
  ]
}