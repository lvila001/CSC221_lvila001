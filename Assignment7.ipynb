{
  "nbformat": 4,
  "nbformat_minor": 0,
  "metadata": {
    "colab": {
      "provenance": [],
      "authorship_tag": "ABX9TyPLsak2ASpxxXw2n1Pd8JGr",
      "include_colab_link": true
    },
    "kernelspec": {
      "name": "python3",
      "display_name": "Python 3"
    },
    "language_info": {
      "name": "python"
    }
  },
  "cells": [
    {
      "cell_type": "markdown",
      "metadata": {
        "id": "view-in-github",
        "colab_type": "text"
      },
      "source": [
        "<a href=\"https://colab.research.google.com/github/lvila001/CSC221_lvila001/blob/main/Assignment7.ipynb\" target=\"_parent\"><img src=\"https://colab.research.google.com/assets/colab-badge.svg\" alt=\"Open In Colab\"/></a>"
      ]
    },
    {
      "cell_type": "markdown",
      "source": [
        "Logan Vilardi\n",
        "\n",
        "Assignment 7\n"
      ],
      "metadata": {
        "id": "rAK5_bJkLRIY"
      }
    },
    {
      "cell_type": "code",
      "source": [
        "alien_0 = {'color': 'green', 'points': 5}\n",
        "print(alien_0['color'])\n",
        "print(alien_0['points'])"
      ],
      "metadata": {
        "colab": {
          "base_uri": "https://localhost:8080/"
        },
        "id": "TnGsXlDELQ31",
        "outputId": "e532b9ea-1a1f-457f-e039-63e6e44aa463"
      },
      "execution_count": null,
      "outputs": [
        {
          "output_type": "stream",
          "name": "stdout",
          "text": [
            "green\n",
            "5\n"
          ]
        }
      ]
    },
    {
      "cell_type": "code",
      "source": [
        "alien_0 = {'color': 'green', 'points': 5}\n",
        "\n",
        "new_points = alien_0['points']\n",
        "print(f'you just earned {new_points} points')"
      ],
      "metadata": {
        "colab": {
          "base_uri": "https://localhost:8080/"
        },
        "outputId": "100bccde-6c35-4aac-b89c-df47bda2a0fb",
        "id": "3M95_poYMrdH"
      },
      "execution_count": null,
      "outputs": [
        {
          "output_type": "stream",
          "name": "stdout",
          "text": [
            "you just earned 5 points\n"
          ]
        }
      ]
    },
    {
      "cell_type": "code",
      "source": [
        "alien_0 = {'color': 'green', 'points': 5}\n",
        "print(alien_0)\n",
        "\n",
        "alien_0['x_value'] = 0\n",
        "alien_0['y_value'] = 25\n",
        "print(alien_0)"
      ],
      "metadata": {
        "colab": {
          "base_uri": "https://localhost:8080/"
        },
        "id": "w_YrL3eoNw43",
        "outputId": "dceee21b-4b2c-470a-aa2a-5d2d1231102d"
      },
      "execution_count": null,
      "outputs": [
        {
          "output_type": "stream",
          "name": "stdout",
          "text": [
            "{'color': 'green', 'points': 5}\n",
            "{'color': 'green', 'points': 5, 'x_value': 0, 'y_value': 25}\n"
          ]
        }
      ]
    },
    {
      "cell_type": "code",
      "source": [
        "alien_0 = {}\n",
        "\n",
        "alien_0['color'] = 'green'\n",
        "alien_0['points'] = 5\n",
        "print(alien_0)\n"
      ],
      "metadata": {
        "colab": {
          "base_uri": "https://localhost:8080/"
        },
        "id": "iVchOTOUOZA0",
        "outputId": "541bb749-a9e9-4ea7-abe0-16c70586859e"
      },
      "execution_count": null,
      "outputs": [
        {
          "output_type": "stream",
          "name": "stdout",
          "text": [
            "{'color': 'green', 'points': 5}\n"
          ]
        }
      ]
    },
    {
      "cell_type": "code",
      "source": [
        "alien_0 = {'color': 'green'}\n",
        "\n",
        "print(f\"the alien color is {alien_0['color']}\")\n",
        "\n",
        "alien_0['color'] = 'yellow'\n",
        "print(f\"the alien color is {alien_0['color']}\")"
      ],
      "metadata": {
        "colab": {
          "base_uri": "https://localhost:8080/"
        },
        "id": "F69X2exsO0S7",
        "outputId": "d4ffc6cf-2868-4122-e950-ab2a313f0596"
      },
      "execution_count": null,
      "outputs": [
        {
          "output_type": "stream",
          "name": "stdout",
          "text": [
            "the alien color is green\n",
            "the alien color is yellow\n"
          ]
        }
      ]
    },
    {
      "cell_type": "code",
      "source": [
        "alien_0 = {'x_position' : 0, 'y_position': 25, 'speed': 'medium'}\n",
        "print(f\"original position: {alien_0['x_position']}\")\n",
        "\n",
        "if alien_0['speed'] == 'slow':\n",
        "  x_incrament = 1\n",
        "elif alien_0['speed'] == 'medium':\n",
        "  x_incrament = 2\n",
        "else:\n",
        "  x_incrament = 3\n",
        "\n",
        "alien_0['x_position'] = alien_0['x_position'] + x_incrament\n",
        "print(f\"new position: {alien_0['x_position']}\")\n",
        "\n",
        "alien_0['speed'] = 'fast'\n"
      ],
      "metadata": {
        "colab": {
          "base_uri": "https://localhost:8080/"
        },
        "id": "IepemsNyPNU0",
        "outputId": "924c56b7-2c04-4174-e1b2-fdee357f81c8"
      },
      "execution_count": null,
      "outputs": [
        {
          "output_type": "stream",
          "name": "stdout",
          "text": [
            "original position: 0\n",
            "new position: 2\n"
          ]
        }
      ]
    },
    {
      "cell_type": "code",
      "source": [
        "alien_0 = {'color': 'green', 'points': 5}\n",
        "del alien_0['points']\n",
        "print(alien_0)"
      ],
      "metadata": {
        "colab": {
          "base_uri": "https://localhost:8080/"
        },
        "id": "SpaQdD5eQsGf",
        "outputId": "6124f92f-083e-4b01-88a5-2e9994aa6358"
      },
      "execution_count": null,
      "outputs": [
        {
          "output_type": "stream",
          "name": "stdout",
          "text": [
            "{'color': 'green'}\n"
          ]
        }
      ]
    },
    {
      "cell_type": "code",
      "source": [
        "favirote_languages = {\n",
        "    'jen': 'python',\n",
        "    'sarah': 'c',\n",
        "    'edward': 'rust',\n",
        "    'phil': 'python'}\n",
        "\n",
        "language = favirote_languages['sarah'].title()\n",
        "print(f'sarahs favirote language is {language}')"
      ],
      "metadata": {
        "colab": {
          "base_uri": "https://localhost:8080/"
        },
        "id": "JGePiOGdStlQ",
        "outputId": "68c9bfba-911f-427f-cc10-4dff8bb820d8"
      },
      "execution_count": null,
      "outputs": [
        {
          "output_type": "stream",
          "name": "stdout",
          "text": [
            "sarahs favirote language is C\n"
          ]
        }
      ]
    },
    {
      "cell_type": "code",
      "source": [
        "alien_0 ={'color': 'green', 'speed': 'slow'}\n",
        "#print(alien_0['points'])\n",
        "\n",
        "point_value = alien_0.get('points', 'no point value exist')\n",
        "print(point_value)"
      ],
      "metadata": {
        "colab": {
          "base_uri": "https://localhost:8080/"
        },
        "id": "VeBBK_LETm21",
        "outputId": "820a8e15-610f-4a7f-94eb-a9de8ea35afd"
      },
      "execution_count": null,
      "outputs": [
        {
          "output_type": "stream",
          "name": "stdout",
          "text": [
            "no point value exist\n"
          ]
        }
      ]
    },
    {
      "cell_type": "code",
      "source": [
        "#6-1\n",
        "bob = {'first_name': 'bob', 'last_name': 'Marley', 'age': 50, 'city': 'plattsburgh'}\n",
        "print(bob)\n",
        "print(bob['first_name'].title())\n",
        "print(bob['last_name'].title())\n",
        "print(bob['age'])\n",
        "print(bob['city'])"
      ],
      "metadata": {
        "colab": {
          "base_uri": "https://localhost:8080/"
        },
        "id": "xDKUx2D9U5vC",
        "outputId": "60146ba6-6229-4812-967c-cef47990b774"
      },
      "execution_count": null,
      "outputs": [
        {
          "output_type": "stream",
          "name": "stdout",
          "text": [
            "{'first_name': 'bob', 'last_name': 'Marley', 'age': 50, 'city': 'plattsburgh'}\n",
            "Bob\n",
            "Marley\n",
            "50\n",
            "plattsburgh\n"
          ]
        }
      ]
    },
    {
      "cell_type": "code",
      "source": [
        "#6-2\n",
        "favirote_number = {'logan': 15, 'tara': 5, 'kyle': 10, 'matt': 9, 'mike': 2}\n",
        "#create a loop to make it easier\n",
        "for name in favirote_number:\n",
        "  print(f\"{name}'s favirote number is {favirote_number[name]}\")\n"
      ],
      "metadata": {
        "colab": {
          "base_uri": "https://localhost:8080/"
        },
        "id": "qeX-20xHWCVY",
        "outputId": "5601cd91-b6ee-409f-ee5c-ca542723ddb1"
      },
      "execution_count": null,
      "outputs": [
        {
          "output_type": "stream",
          "name": "stdout",
          "text": [
            "logan's favirote number is 15\n",
            "tara's favirote number is 5\n",
            "kyle's favirote number is 10\n",
            "matt's favirote number is 9\n",
            "mike's favirote number is 2\n"
          ]
        }
      ]
    },
    {
      "cell_type": "code",
      "source": [
        "#6-3\n",
        "glossary = {\n",
        "    'string': 'data structure that represents a sequence of characters',\n",
        "    'method': 'fuction available for a given object because of the objects type',\n",
        "    'function': 'block of code that performs a specific task',\n",
        "    'loop': 'allows for repeated execution of a a bloc of code',\n",
        "    'list': 'built in data type that can be used to store multiple items in a sigle variable'\n",
        "}\n",
        "for word in glossary:\n",
        "  print(f\"{word}:\\n{glossary[word]}\\n\")"
      ],
      "metadata": {
        "colab": {
          "base_uri": "https://localhost:8080/"
        },
        "id": "ZHwLmmpzW0-I",
        "outputId": "e5aa87bb-387b-49c0-9764-9ed2109c7a49"
      },
      "execution_count": null,
      "outputs": [
        {
          "output_type": "stream",
          "name": "stdout",
          "text": [
            "string:\n",
            "data structure that represents a sequence of characters\n",
            "\n",
            "method:\n",
            "fuction available for a given object because of the objects type\n",
            "\n",
            "function:\n",
            "block of code that performs a specific task\n",
            "\n",
            "loop:\n",
            "allows for repeated execution of a a bloc of code\n",
            "\n",
            "list:\n",
            "built in data type that can be used to store multiple items in a sigle variable\n",
            "\n"
          ]
        }
      ]
    },
    {
      "cell_type": "code",
      "source": [
        "user_0 = {\n",
        "    'username': 'efermi',\n",
        "    'first': 'enrico',\n",
        "    'last': 'fermi'\n",
        "}\n",
        "for key, value in user_0.items():\n",
        "  print(f\"\\nKey: {key}\")\n",
        "  print(f\"nValue: {value}\")"
      ],
      "metadata": {
        "colab": {
          "base_uri": "https://localhost:8080/"
        },
        "id": "Yszzcoy1ajas",
        "outputId": "d350ff9a-2096-4703-812e-6c697039fe05"
      },
      "execution_count": null,
      "outputs": [
        {
          "output_type": "stream",
          "name": "stdout",
          "text": [
            "\n",
            "Key: username\n",
            "nValue: efermi\n",
            "\n",
            "Key: first\n",
            "nValue: enrico\n",
            "\n",
            "Key: last\n",
            "nValue: fermi\n"
          ]
        }
      ]
    },
    {
      "cell_type": "code",
      "source": [
        "favirote_languages = {\n",
        "    'jen': 'python',\n",
        "    'sarah': 'c',\n",
        "    'edward': 'rust',\n",
        "    'phil': 'python'}\n",
        "\n",
        "for name, language in favirote_languages.items():\n",
        "  print(f\"{name.title()}'s favirote language is {language.title()}\\n\")"
      ],
      "metadata": {
        "colab": {
          "base_uri": "https://localhost:8080/"
        },
        "id": "P3mdQ8V_btJY",
        "outputId": "03d86e1e-d9a9-4dc8-a19d-8c7c41b7fed4"
      },
      "execution_count": null,
      "outputs": [
        {
          "output_type": "stream",
          "name": "stdout",
          "text": [
            "Jen's favirote language is Python\n",
            "\n",
            "Sarah's favirote language is C\n",
            "\n",
            "Edward's favirote language is Rust\n",
            "\n",
            "Phil's favirote language is Python\n",
            "\n"
          ]
        }
      ]
    },
    {
      "cell_type": "code",
      "source": [
        "favirote_languages = {\n",
        "    'jen': 'python',\n",
        "    'sarah': 'c',\n",
        "    'edward': 'rust',\n",
        "    'phil': 'python'}\n",
        "\n",
        "for name in favirote_languages.keys():\n",
        "  print(name.title())\n",
        "print('\\n')\n",
        "for name in favirote_languages:\n",
        "  print(name.title())"
      ],
      "metadata": {
        "colab": {
          "base_uri": "https://localhost:8080/"
        },
        "id": "4s5fqA8JdFfq",
        "outputId": "6abe43ba-03ab-4ce7-993a-3566d1ff7b21"
      },
      "execution_count": null,
      "outputs": [
        {
          "output_type": "stream",
          "name": "stdout",
          "text": [
            "Jen\n",
            "Sarah\n",
            "Edward\n",
            "Phil\n",
            "\n",
            "\n",
            "Jen\n",
            "Sarah\n",
            "Edward\n",
            "Phil\n"
          ]
        }
      ]
    },
    {
      "cell_type": "code",
      "source": [
        "favirote_languages = {\n",
        "    'jen': 'python',\n",
        "    'sarah': 'c',\n",
        "    'edward': 'rust',\n",
        "    'phil': 'python'}\n",
        "\n",
        "friends = ['phil', 'sarah']\n",
        "\n",
        "for name in favirote_languages:\n",
        "  print(f\"Hello {name.title()}\")\n",
        "\n",
        "  if name in friends:\n",
        "    print(f'\\t{name.title()}, i see you love {language}')\n",
        "\n",
        "if \"erin\" not in favirote_languages:\n",
        "  print(f\"\\nErin, please take our poll\")"
      ],
      "metadata": {
        "colab": {
          "base_uri": "https://localhost:8080/"
        },
        "id": "MDZra1TrddyS",
        "outputId": "c5226d1e-0723-42b2-b291-9ceb05b1481d"
      },
      "execution_count": null,
      "outputs": [
        {
          "output_type": "stream",
          "name": "stdout",
          "text": [
            "Hello Jen\n",
            "Hello Sarah\n",
            "\tSarah, i see you love python\n",
            "Hello Edward\n",
            "Hello Phil\n",
            "\tPhil, i see you love python\n",
            "\n",
            "Erin, please take our poll\n"
          ]
        }
      ]
    },
    {
      "cell_type": "code",
      "source": [
        "favirote_languages = {\n",
        "    'jen': 'python',\n",
        "    'sarah': 'c',\n",
        "    'edward': 'rust',\n",
        "    'phil': 'python'}\n",
        "\n",
        "for name in sorted(favirote_languages.keys()):\n",
        "  print(f\"{name.title()}, thank you for taking the poll\")"
      ],
      "metadata": {
        "colab": {
          "base_uri": "https://localhost:8080/"
        },
        "id": "PI3wTcNUeTGF",
        "outputId": "1d830f11-8b71-4928-c44e-f74ed1b5598f"
      },
      "execution_count": null,
      "outputs": [
        {
          "output_type": "stream",
          "name": "stdout",
          "text": [
            "Edward, thank you for taking the poll\n",
            "Jen, thank you for taking the poll\n",
            "Phil, thank you for taking the poll\n",
            "Sarah, thank you for taking the poll\n"
          ]
        }
      ]
    },
    {
      "cell_type": "code",
      "source": [
        "favirote_languages = {\n",
        "    'jen': 'python',\n",
        "    'sarah': 'c',\n",
        "    'edward': 'rust',\n",
        "    'phil': 'python'}\n",
        "\n",
        "print('the following languages have been mentioned:')\n",
        "for language in favirote_languages.values():#make sure to put the s in values\n",
        "  print(language.title())"
      ],
      "metadata": {
        "colab": {
          "base_uri": "https://localhost:8080/"
        },
        "id": "vVCAuX9_f-Dv",
        "outputId": "efd6457b-585d-4d0d-9401-61761fbf3fee"
      },
      "execution_count": null,
      "outputs": [
        {
          "output_type": "stream",
          "name": "stdout",
          "text": [
            "the following languages have been mentioned:\n",
            "Python\n",
            "C\n",
            "Rust\n",
            "Python\n"
          ]
        }
      ]
    },
    {
      "cell_type": "code",
      "source": [
        "favirote_languages = {\n",
        "    'jen': 'python',\n",
        "    'sarah': 'c',\n",
        "    'edward': 'rust',\n",
        "    'phil': 'python'}\n",
        "\n",
        "print('the following languages have been mentioned:')\n",
        "for language in set(favirote_languages.values()):#make sure to put the s in values\n",
        "  print(language.title())\n",
        "\n",
        "languages = {'python', 'rust', 'python', 'c'}\n",
        "languages"
      ],
      "metadata": {
        "colab": {
          "base_uri": "https://localhost:8080/"
        },
        "id": "oC3bhHGygdVi",
        "outputId": "720b6962-6f91-438e-dcc8-99895f768bb2"
      },
      "execution_count": null,
      "outputs": [
        {
          "output_type": "stream",
          "name": "stdout",
          "text": [
            "the following languages have been mentioned:\n",
            "Rust\n",
            "C\n",
            "Python\n"
          ]
        },
        {
          "output_type": "execute_result",
          "data": {
            "text/plain": [
              "{'c', 'python', 'rust'}"
            ]
          },
          "metadata": {},
          "execution_count": 81
        }
      ]
    },
    {
      "cell_type": "code",
      "source": [
        "#6-4\n",
        "glossary = {\n",
        "    'string': 'data structure that represents a sequence of characters',\n",
        "    'method': 'fuction available for a given object because of the objects type',\n",
        "    'function': 'block of code that performs a specific task',\n",
        "    'loop': 'allows for repeated execution of a a bloc of code',\n",
        "    'list': 'built in data type that can be used to store multiple items in a sigle variable',\n",
        "    'set': 'built in data type that stores multiple items unordered in a single variable',\n",
        "    'key value': 'pair of immutable data type and its associated value, they are stored in dictionaries',\n",
        "    'dictionary': 'built in data type that can be used to store data in key value pairs',\n",
        "    'float': 'represent numbers with decimal points',\n",
        "    'integer': 'data type that represents a whole number'\n",
        "}\n",
        "for word, definition in glossary.items():\n",
        "  print(f\"{word}:\\n{definition}\\n\")"
      ],
      "metadata": {
        "colab": {
          "base_uri": "https://localhost:8080/"
        },
        "id": "oIuEWQQLl8_R",
        "outputId": "21ba38a9-8b17-49ad-a4e8-c172792e7554"
      },
      "execution_count": null,
      "outputs": [
        {
          "output_type": "stream",
          "name": "stdout",
          "text": [
            "string:\n",
            "data structure that represents a sequence of characters\n",
            "\n",
            "method:\n",
            "fuction available for a given object because of the objects type\n",
            "\n",
            "function:\n",
            "block of code that performs a specific task\n",
            "\n",
            "loop:\n",
            "allows for repeated execution of a a bloc of code\n",
            "\n",
            "list:\n",
            "built in data type that can be used to store multiple items in a sigle variable\n",
            "\n",
            "set:\n",
            "built in data type that stores multiple items unordered in a single variable\n",
            "\n",
            "key value:\n",
            "pair of immutable data type and its associated value, they are stored in dictionaries\n",
            "\n",
            "dictionary:\n",
            "built in data type that can be used to store data in key value pairs\n",
            "\n",
            "float:\n",
            "represent numbers with decimal points\n",
            "\n",
            "integer:\n",
            "data type that represents a whole number\n",
            "\n"
          ]
        }
      ]
    },
    {
      "cell_type": "code",
      "source": [
        "alien_0 = {'color': 'green', 'points': '5'}\n",
        "alien_1 = {'color': 'yellow', 'points': '10'}\n",
        "alien_2 = {'color': 'red', 'points': '15'}\n",
        "\n",
        "aliens = [alien_0, alien_1, alien_2]\n",
        "\n",
        "for alien in aliens:\n",
        "  print(alien)"
      ],
      "metadata": {
        "colab": {
          "base_uri": "https://localhost:8080/"
        },
        "id": "AllCGQdgneVA",
        "outputId": "4cfadacf-8f89-4d7f-eac2-6c70cb817199"
      },
      "execution_count": null,
      "outputs": [
        {
          "output_type": "stream",
          "name": "stdout",
          "text": [
            "{'color': 'green', 'points': '5'}\n",
            "{'color': 'yellow', 'points': '10'}\n",
            "{'color': 'red', 'points': '15'}\n"
          ]
        }
      ]
    },
    {
      "cell_type": "code",
      "source": [
        "aliens = []\n",
        "\n",
        "for alien in range(30):\n",
        "  new_alien = {'color': 'green', 'points': 5, 'speed': 'slow'}\n",
        "  aliens.append(new_alien)\n",
        "\n",
        "for alien in aliens[:5]:\n",
        "  print(alien)\n",
        "print('...')\n",
        "\n",
        "print(f'\\nTotal number of aliens {len(aliens)}')"
      ],
      "metadata": {
        "colab": {
          "base_uri": "https://localhost:8080/"
        },
        "id": "nL-WTIxfqo8J",
        "outputId": "a60f31bb-e397-4d4e-ca13-bc9a64f10114"
      },
      "execution_count": null,
      "outputs": [
        {
          "output_type": "stream",
          "name": "stdout",
          "text": [
            "{'color': 'green', 'points': 5, 'speed': 'slow'}\n",
            "{'color': 'green', 'points': 5, 'speed': 'slow'}\n",
            "{'color': 'green', 'points': 5, 'speed': 'slow'}\n",
            "{'color': 'green', 'points': 5, 'speed': 'slow'}\n",
            "{'color': 'green', 'points': 5, 'speed': 'slow'}\n",
            "...\n",
            "\n",
            "Total number of aliens 30\n"
          ]
        }
      ]
    },
    {
      "cell_type": "code",
      "source": [
        "aliens = []\n",
        "\n",
        "for alien in range(30):\n",
        "  new_alien = {'color': 'green', 'points': 5, 'speed': 'slow'}\n",
        "  aliens.append(new_alien)\n",
        "\n",
        "for alien in aliens[:3]:\n",
        "  if alien['color'] == 'green':\n",
        "    alien['color'] = 'yellow'\n",
        "    alien['speed'] = 'medium'\n",
        "    alien['points'] = '10'\n",
        "\n",
        "for alien in aliens[:5]:\n",
        "  print(alien)\n",
        "print('...')\n",
        "\n",
        "print(f'\\nTotal number of aliens {len(aliens)}')"
      ],
      "metadata": {
        "colab": {
          "base_uri": "https://localhost:8080/"
        },
        "id": "0SKVQHYDsHMQ",
        "outputId": "1b77df43-ff2b-497b-d507-ad1e8e902fde"
      },
      "execution_count": null,
      "outputs": [
        {
          "output_type": "stream",
          "name": "stdout",
          "text": [
            "{'color': 'yellow', 'points': '10', 'speed': 'medium'}\n",
            "{'color': 'yellow', 'points': '10', 'speed': 'medium'}\n",
            "{'color': 'yellow', 'points': '10', 'speed': 'medium'}\n",
            "{'color': 'green', 'points': 5, 'speed': 'slow'}\n",
            "{'color': 'green', 'points': 5, 'speed': 'slow'}\n",
            "...\n",
            "\n",
            "Total number of aliens 30\n"
          ]
        }
      ]
    },
    {
      "cell_type": "code",
      "source": [
        "aliens = []\n",
        "\n",
        "for alien in range(30):\n",
        "  new_alien = {'color': 'green', 'points': 5, 'speed': 'slow'}\n",
        "  aliens.append(new_alien)\n",
        "\n",
        "for alien in aliens[0:3]:\n",
        "  if alien['color'] == 'green':\n",
        "    alien['color'] = 'yellow'\n",
        "    alien['speed'] = 'medium'\n",
        "    alien['points'] = '10'\n",
        "\n",
        "  elif alien['color'] == 'yellow':\n",
        "    alien['color'] == 'red'\n",
        "    alien['speed'] == 15\n",
        "\n",
        "for alien in aliens[0:5]:\n",
        "  print(alien)"
      ],
      "metadata": {
        "id": "2mQjYnhvtxuA",
        "colab": {
          "base_uri": "https://localhost:8080/"
        },
        "outputId": "8a5168ba-03f3-4edb-9cdd-608182f85137"
      },
      "execution_count": null,
      "outputs": [
        {
          "output_type": "stream",
          "name": "stdout",
          "text": [
            "{'color': 'yellow', 'points': '10', 'speed': 'medium'}\n",
            "{'color': 'yellow', 'points': '10', 'speed': 'medium'}\n",
            "{'color': 'yellow', 'points': '10', 'speed': 'medium'}\n",
            "{'color': 'green', 'points': 5, 'speed': 'slow'}\n",
            "{'color': 'green', 'points': 5, 'speed': 'slow'}\n"
          ]
        }
      ]
    },
    {
      "cell_type": "code",
      "source": [
        "pizza = {\n",
        "    'crust': 'thick',\n",
        "    'toppings': ['mushrooms', 'extra cheese'],\n",
        "    }\n",
        "print(f\"you ordered tne following a {pizza['crust']} - crust pizza \"\n",
        "      'with the following toppings:')\n",
        "for topping in pizza['toppings']:\n",
        "  print(f'\\t{topping}')"
      ],
      "metadata": {
        "colab": {
          "base_uri": "https://localhost:8080/"
        },
        "id": "MncBnCqjfrQf",
        "outputId": "79cc5284-44b0-4fe1-8eb3-7a0cb9a1440b"
      },
      "execution_count": null,
      "outputs": [
        {
          "output_type": "stream",
          "name": "stdout",
          "text": [
            "you ordered tne following a thick - crust pizza with the following toppings:\n",
            "\tmushrooms\n",
            "\textra cheese\n"
          ]
        }
      ]
    },
    {
      "cell_type": "code",
      "source": [
        "favirote_languages = {\n",
        "    'jen': ['python', 'rust'],\n",
        "    'sarah': ['c'],\n",
        "    'edward': ['rust', 'go'],\n",
        "    'pphil': ['python', 'haskell']\n",
        "}\n",
        "\n",
        "for name, languages in favirote_languages.items():\n",
        "  print(f\"\\n{name.title()}'s favirote languages are:\")\n",
        "  for language in languages:\n",
        "    print(f\"\\t{language.title()}\")"
      ],
      "metadata": {
        "colab": {
          "base_uri": "https://localhost:8080/"
        },
        "id": "k2IElwcSg-XT",
        "outputId": "adce4710-9c80-49aa-e9b6-2529b9643fac"
      },
      "execution_count": null,
      "outputs": [
        {
          "output_type": "stream",
          "name": "stdout",
          "text": [
            "\n",
            "Jen's favirote languages are:\n",
            "\tPython\n",
            "\tRust\n",
            "\n",
            "Sarah's favirote languages are:\n",
            "\tC\n",
            "\n",
            "Edward's favirote languages are:\n",
            "\tRust\n",
            "\tGo\n",
            "\n",
            "Pphil's favirote languages are:\n",
            "\tPython\n",
            "\tHaskell\n"
          ]
        }
      ]
    },
    {
      "cell_type": "code",
      "source": [
        "users = {\n",
        "    'aeinstein': {\n",
        "        'first': 'albert',\n",
        "        'last': 'einstein',\n",
        "        'location': 'princeton',\n",
        "    },\n",
        "    'mcurie': {\n",
        "        'first': 'marie',\n",
        "        'last': 'curie',\n",
        "        'location': 'paris'\n",
        "    },\n",
        "}\n",
        "for username, user_info in users.items():\n",
        "  print(f'\\nUsername: {username}')\n",
        "  full_name = f\"{user_info['first']} {user_info['last']}\"\n",
        "  location = user_info['location']\n",
        "\n",
        "  print(f\"\\tFull Name: {full_name.title()}\")\n",
        "  print(f\"\\tLocation: {location.title()}\")\n"
      ],
      "metadata": {
        "colab": {
          "base_uri": "https://localhost:8080/"
        },
        "id": "nIsy3C9MhxqH",
        "outputId": "643af688-a817-430f-c03c-bdb2a943fcdd"
      },
      "execution_count": null,
      "outputs": [
        {
          "output_type": "stream",
          "name": "stdout",
          "text": [
            "\n",
            "Username: aeinstein\n",
            "\tFull Name: Albert Einstein\n",
            "\tLocation: Princeton\n",
            "\n",
            "Username: mcurie\n",
            "\tFull Name: Marie Curie\n",
            "\tLocation: Paris\n"
          ]
        }
      ]
    },
    {
      "cell_type": "code",
      "source": [
        "#6-11\n",
        "cities = {\n",
        "    'Chicago':{\n",
        "      'country': 'United States',\n",
        "      'population': '2,679,080',\n",
        "      'fact': 'Chicago has 300 bridges'\n",
        "    },\n",
        "    'Orlando': {\n",
        "      'country': 'United States',\n",
        "      'population': '200,520',\n",
        "      'fact': 'Orlandos nickname is the \"the theme park capital of teh world\"'\n",
        "    },\n",
        "    'London': {\n",
        "      'country': 'England',\n",
        "      'population': '8,800,000',\n",
        "      'fact': 'London is home to over 8.4 million trees in its parks and green spaces'\n",
        "    },\n",
        "}\n",
        "\n",
        "for city, information in cities.items():\n",
        "  print(f\"City Name: {city}\")\n",
        "\n",
        "  country = information['country']\n",
        "  population = information['population']\n",
        "  fact = information['fact']\n",
        "\n",
        "  print(f'\\tCountry: {country}')\n",
        "  print(f'\\tPopulation: {population}')\n",
        "  print(f'\\tOne interesting fact: {fact}\\n')"
      ],
      "metadata": {
        "colab": {
          "base_uri": "https://localhost:8080/"
        },
        "id": "n6hXUrDbmFA6",
        "outputId": "ae7e290e-1c84-4437-95cb-c68c0d62d622"
      },
      "execution_count": null,
      "outputs": [
        {
          "output_type": "stream",
          "name": "stdout",
          "text": [
            "City Name: Chicago\n",
            "\tCountry: United States\n",
            "\tPopulation: 2,679,080\n",
            "\tOne interesting fact: Chicago has 300 bridges\n",
            "\n",
            "City Name: Orlando\n",
            "\tCountry: United States\n",
            "\tPopulation: 200,520\n",
            "\tOne interesting fact: Orlandos nickname is the \"the theme park capital of teh world\"\n",
            "\n",
            "City Name: London\n",
            "\tCountry: England\n",
            "\tPopulation: 8,800,000\n",
            "\tOne interesting fact: London is home to over 8.4 million trees in its parks and green spaces\n",
            "\n"
          ]
        }
      ]
    },
    {
      "cell_type": "code",
      "source": [
        "#6-12\n",
        "#Guess the country that the specific character lives in based on information about the country\n",
        "import random\n",
        "#6-11\n",
        "rules = 'You will be given the name of 5 possible cities, you must guess where the person lives based on the information they give you about their home city'\n",
        "\n",
        "people = {'Logan': 'Chicago', 'Tara': 'Orlando', 'Matt': 'London', 'Olivia': 'Montreal', 'Cameron': 'Dublin'}\n",
        "cities = {\n",
        "    'Chicago': {\n",
        "      'country': 'United States',\n",
        "      'population': '2,679,080',\n",
        "      'fact': 'This city has a staggering 300 bridges'\n",
        "    },\n",
        "    'Orlando': {\n",
        "      'country': 'United States',\n",
        "      'population': '200,520',\n",
        "      'fact': 'This citys nickname is the \"the theme park capital of the world\"'\n",
        "    },\n",
        "    'London': {\n",
        "      'country': 'England',\n",
        "      'population': '8,800,000',\n",
        "      'fact': 'This city is home to over 8.4 million trees in its parks and green spaces'\n",
        "    },\n",
        "    'Montreal': {\n",
        "        'country': 'Canada',\n",
        "        'population': '1,760,000',\n",
        "        'fact': 'In this city 57.4% of the population can speak both french and english'\n",
        "    },\n",
        "    'Dublin': {\n",
        "        'country': 'Ireland',\n",
        "        'population': '529,710',\n",
        "        'fact': 'This city has been founded by vikings twice once in 841 A.D. and again in 917'\n",
        "    }\n",
        "\n",
        "}\n",
        "print(f\"{rules}\\n\")\n",
        "\n",
        "random = random.randint(0,4)\n",
        "names = list(people.keys())\n",
        "\n",
        "for home_city in people.values():\n",
        "  print(home_city)\n",
        "\n",
        "#create the random name and its corresponding home city\n",
        "random_name = names[random]\n",
        "correct_guess = people[random_name]\n",
        "\n",
        "print(f\"\\nYou will be guessing where {random_name} lives.\\n\")\n",
        "#print(f\"test: {correct_guess}\")\n",
        "\n",
        "guess_count = 0\n",
        "fact = cities[correct_guess]['fact']\n",
        "population = cities[correct_guess]['population']\n",
        "country = cities[correct_guess]['country']\n",
        "game_won = False\n",
        "\n",
        "if guess_count == 0:\n",
        "    print(f\"Your first guess is a fact about {random_name}'s city\")\n",
        "    print(f\"Clue 1: {fact}\")\n",
        "    guess = input('Guess 1:')\n",
        "    guess = guess.title()\n",
        "    guess_count += 1\n",
        "    game_won = True\n",
        "\n",
        "while not guess == correct_guess:\n",
        "\n",
        "  if guess_count == 1:\n",
        "    print('\\nWrong\\n')\n",
        "    print(f\"Your second guess is the population of {random_name}'s city\")\n",
        "    print(f'Clue 2: The population is {population} people')\n",
        "    guess = input('Guess 2:')\n",
        "    guess = guess.title()\n",
        "    guess_count += 1\n",
        "    game_won = True\n",
        "\n",
        "  elif guess_count == 2:\n",
        "    print('\\nWrong\\n')\n",
        "    print(f\"Your third guess is the country of {random_name}'s city\")\n",
        "    print(f'Clue 3: This city is in {country}')\n",
        "    guess = input('Guess 3:')\n",
        "    guess = guess.title()\n",
        "    guess_count += 1\n",
        "    game_won == True\n",
        "\n",
        "  else: #Ends game\n",
        "    print('\\nYou are out of guesses')\n",
        "    guess = correct_guess\n",
        "    game_won = False\n",
        "\n",
        "#this ends the\n",
        "if game_won == True:\n",
        "  print(f'\\nCongrats, {random_name} does live in {correct_guess}.')"
      ],
      "metadata": {
        "id": "7JwLWBJvr3bX",
        "colab": {
          "base_uri": "https://localhost:8080/"
        },
        "outputId": "bcbb46fe-7652-4315-c74a-79e999d7f4a4"
      },
      "execution_count": 69,
      "outputs": [
        {
          "output_type": "stream",
          "name": "stdout",
          "text": [
            "You will be given the name of 5 possible cities, you must guess where the person lives based on the information they give you about their home city\n",
            "\n",
            "Chicago\n",
            "Orlando\n",
            "London\n",
            "Montreal\n",
            "Dublin\n",
            "\n",
            "You will be guessing where Matt lives.\n",
            "\n",
            "Your first guess is a fact about Matt's city\n",
            "Clue 1: This city is home to over 8.4 million trees in its parks and green spaces\n",
            "Guess 1:ds\n",
            "\n",
            "Wrong\n",
            "\n",
            "Your second guess is the population of Matt's city\n",
            "Clue 2: The population is 8,800,000 people\n",
            "Guess 2:ds\n",
            "\n",
            "Wrong\n",
            "\n",
            "Your third guess is the country of Matt's city\n",
            "Clue 3: This city is in England\n",
            "Guess 3:s\n",
            "\n",
            "You are out of guesses\n"
          ]
        }
      ]
    },
    {
      "cell_type": "code",
      "source": [],
      "metadata": {
        "id": "TEHWE9a-zAqF"
      },
      "execution_count": 21,
      "outputs": []
    },
    {
      "cell_type": "code",
      "source": [],
      "metadata": {
        "id": "RwoixEekBV9j"
      },
      "execution_count": null,
      "outputs": []
    }
  ]
}