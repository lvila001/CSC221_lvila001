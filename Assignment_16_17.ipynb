{
  "nbformat": 4,
  "nbformat_minor": 0,
  "metadata": {
    "colab": {
      "provenance": [],
      "authorship_tag": "ABX9TyOncDCfSfHzRWHYVgH8BN50",
      "include_colab_link": true
    },
    "kernelspec": {
      "name": "python3",
      "display_name": "Python 3"
    },
    "language_info": {
      "name": "python"
    }
  },
  "cells": [
    {
      "cell_type": "markdown",
      "metadata": {
        "id": "view-in-github",
        "colab_type": "text"
      },
      "source": [
        "<a href=\"https://colab.research.google.com/github/lvila001/CSC221_lvila001/blob/main/Assignment_16_17.ipynb\" target=\"_parent\"><img src=\"https://colab.research.google.com/assets/colab-badge.svg\" alt=\"Open In Colab\"/></a>"
      ]
    },
    {
      "cell_type": "markdown",
      "source": [
        "Assignment 16-17\n",
        "\n",
        "Chapter 1 Python Distilled\n",
        "\n",
        "Logan Vilardi"
      ],
      "metadata": {
        "id": "2GleOVES_3np"
      }
    },
    {
      "cell_type": "markdown",
      "source": [
        "1.1"
      ],
      "metadata": {
        "id": "OCqx9Mn_AsLq"
      }
    },
    {
      "cell_type": "code",
      "source": [
        "#In interactive python you can use '_' as a variable for the result of last operation(Doesnt Work Here)\n",
        "#6000 * 90\n",
        "#_ + 30"
      ],
      "metadata": {
        "id": "IOYDDOdA_1Na"
      },
      "execution_count": null,
      "outputs": []
    },
    {
      "cell_type": "markdown",
      "source": [
        "1.2"
      ],
      "metadata": {
        "id": "kOYhCnAuAuiT"
      }
    },
    {
      "cell_type": "code",
      "source": [
        "#the '#' puts statements into a text file\n",
        "\n",
        "\n",
        "#% python3 hello.py\n",
        "#The above statement will"
      ],
      "metadata": {
        "id": "wTDihQHQAuFw"
      },
      "execution_count": null,
      "outputs": []
    },
    {
      "cell_type": "markdown",
      "source": [
        "1.3"
      ],
      "metadata": {
        "id": "zXu65SY9Auyu"
      }
    },
    {
      "cell_type": "code",
      "source": [
        "#primitives variables and expressions\n",
        "x = 3498 #variable refering to a int\n",
        "\n",
        "x: int = 45 # does same thing but improves code readibility\n",
        "\n",
        "#expression\n",
        "2 * 4 + 3 #combo od primitives names and operators\n",
        "\n",
        "#while statements\n",
        "principal = 1000\n",
        "rate = .05\n",
        "num_years = 5\n",
        "year = 1\n",
        "\n",
        "while year <= num_years:\n",
        "  principal = principal * (1+ rate)\n",
        "  print(year, principal)\n",
        "  year += 1\n",
        "\n",
        "print(f'{year:>3d} {principal:0.2f}')\n",
        "\n"
      ],
      "metadata": {
        "colab": {
          "base_uri": "https://localhost:8080/"
        },
        "id": "xFJ_D6E3Atff",
        "outputId": "2c82ff1f-88f1-43ba-f06d-35dd282c687b"
      },
      "execution_count": null,
      "outputs": [
        {
          "output_type": "stream",
          "name": "stdout",
          "text": [
            "1 1050.0\n",
            "2 1102.5\n",
            "3 1157.625\n",
            "4 1215.5062500000001\n",
            "5 1276.2815625000003\n",
            "  6 1276.28\n"
          ]
        }
      ]
    },
    {
      "cell_type": "markdown",
      "source": [
        "1.4"
      ],
      "metadata": {
        "id": "uTmpE4K7AvHr"
      }
    },
    {
      "cell_type": "code",
      "execution_count": null,
      "metadata": {
        "id": "c93C-xO-_K1E"
      },
      "outputs": [],
      "source": [
        "#Arithmetic Operators\n",
        "#The only operators to note are \"/\" vs \"//\" and \"%\"\n",
        "\n",
        "3/3 #Leaves a floating point number\n",
        "\n",
        "3//3 #leaves truncates the result\n",
        "\n",
        "5//3#takes off decimnal\n",
        "\n",
        "5%3 #gives the remainder of the division\n",
        "\n",
        "#mathmatic functions\n",
        "\n",
        "abs(-55) #absolute valued\n",
        "divmod(5,3) #gives you the result of (//, %)\n",
        "pow(5,3,4) #pow(x,y,z) = x**y % z\n",
        "round(4903.897987, 1) #rounds to nearest multiple of of 10th to 1st power\n",
        "\n",
        "#comparison operators\n",
        "a = 4\n",
        "b = 3\n",
        "a == b #returns false\n",
        "a =! b #returns true\n"
      ]
    },
    {
      "cell_type": "markdown",
      "source": [
        "1.5"
      ],
      "metadata": {
        "id": "oDj5kG4DAvf1"
      }
    },
    {
      "cell_type": "code",
      "source": [
        "#conditionals and control flow\n",
        "minutes = 3\n",
        "if minutes == 9:\n",
        "  pass #does nothing\n",
        "elif minutes >3:\n",
        "  print('takin time bud')\n",
        "\n",
        "you = 3\n",
        "op = 4\n",
        "win = 'yes' if you > op else 'no'#different way to put if statement. interesting\n",
        "\n",
        "print(win)\n",
        "\n",
        "#walrus operator(still learing)\n",
        "x = 25\n",
        "while (x := x // 5) != 0:\n",
        "  print(x)\n",
        "\n",
        "#break\n",
        "n = 36\n",
        "while n != 43:\n",
        "  (n := n + 1)\n",
        "  if n == 39:\n",
        "    break #stops loop\n",
        "  print(n)\n",
        "\n",
        "print('done break')\n",
        "n = 36\n",
        "#continue\n",
        "while n > 0:\n",
        "  (n:= n // 3)\n",
        "  if n == 4:\n",
        "    continue #skips the print\n",
        "  print(n)"
      ],
      "metadata": {
        "colab": {
          "base_uri": "https://localhost:8080/"
        },
        "id": "vdyTVvFYkBkW",
        "outputId": "0f4e404b-d49e-4faf-d063-933e0c33294d"
      },
      "execution_count": null,
      "outputs": [
        {
          "output_type": "stream",
          "name": "stdout",
          "text": [
            "no\n",
            "5\n",
            "1\n",
            "37\n",
            "38\n",
            "done break\n",
            "12\n",
            "1\n",
            "0\n"
          ]
        }
      ]
    },
    {
      "cell_type": "markdown",
      "source": [
        "1.6"
      ],
      "metadata": {
        "id": "2n46KQJTqm8Z"
      }
    },
    {
      "cell_type": "code",
      "source": [
        "#Text Strings\n",
        "print('''wow look\n",
        "at that\n",
        "\n",
        "beautiful sunset''')#triple quotes adjusts for formatting\n",
        "print('4'#regular quotes do not\n",
        "'2'\n",
        "'3'\n",
        "'w')\n",
        "\n",
        "principal = 1000\n",
        "rate = .05\n",
        "num_years = 5\n",
        "year = 1\n",
        "#using format() method and % to format strings\n",
        "print('{0:>3d} {1:0.2f}'.format(year, principal))\n",
        "\n",
        "a = 'hello world'\n",
        "#replace\n",
        "b = a.replace('hello', 'hello cruel')\n",
        "print(b)\n",
        "\n",
        "c = a + 'ly'\n",
        "print(c)\n",
        "\n",
        "#non string to string\n",
        "a = '3'\n",
        "print(str(a))\n",
        "\n",
        "print(repr(a))\n",
        "\n",
        "print(format(0, '4d'))\n",
        "\n",
        "#format\n",
        "x = 12.39733\n",
        "print(format(x, '.5f'))\n",
        "f'{x:0.3f}'"
      ],
      "metadata": {
        "colab": {
          "base_uri": "https://localhost:8080/",
          "height": 244
        },
        "id": "Mby-ElxbqpCr",
        "outputId": "2408651c-71b0-40c7-c717-c96c56a1e65c"
      },
      "execution_count": null,
      "outputs": [
        {
          "output_type": "stream",
          "name": "stdout",
          "text": [
            "wow look\n",
            "at that \n",
            "\n",
            "beautiful sunset\n",
            "423w\n",
            "  1 1000.00\n",
            "hello cruel world\n",
            "hello worldly\n",
            "3\n",
            "'3'\n",
            "   0\n",
            "12.39733\n"
          ]
        },
        {
          "output_type": "execute_result",
          "data": {
            "text/plain": [
              "'12.397'"
            ],
            "application/vnd.google.colaboratory.intrinsic+json": {
              "type": "string"
            }
          },
          "metadata": {},
          "execution_count": 45
        }
      ]
    },
    {
      "cell_type": "markdown",
      "source": [
        "1.7"
      ],
      "metadata": {
        "id": "JOMqo3ebuw24"
      }
    },
    {
      "cell_type": "code",
      "source": [
        "#file input output\n",
        "\n",
        "#to open contents and read each line as text strings\n",
        "with open('data.txt') as file:\n",
        "  for line in file:\n",
        "    print(line, end='')#the \"end='' \" omits the extra new line\n",
        "\n",
        "print(f\"\\n\")\n",
        "\n",
        "#alternate way to do this without \"with\"\n",
        "file = open('data.txt')\n",
        "for line in file:\n",
        "  print(line, end='')\n",
        "file.close()#With this way you must remeber to call close\n",
        "\n",
        "#reading file entirely as a string\n",
        "with open('data.txt') as file:\n",
        "  data = file.read()\n",
        "\n",
        "print(f\"\\n\")\n",
        "\n",
        "#chunk method\n",
        "with open('data.txt') as file:\n",
        "  while (chunk := file.read(10000)):\n",
        "    print(chunk, end=\"\")\n",
        "\n",
        "with open('out.txt' , 'wt') as out:\n",
        "  while year <= num_years:\n",
        "    principal = principal * (1+rate)\n",
        "    print(f'{year:>3d} {principal: 0.2f}', file=out)\n",
        "    year += 1"
      ],
      "metadata": {
        "colab": {
          "base_uri": "https://localhost:8080/"
        },
        "id": "pMSvK9Uvuwa2",
        "outputId": "b5908f22-b4a1-4b39-e3b0-accc814af553"
      },
      "execution_count": null,
      "outputs": [
        {
          "output_type": "stream",
          "name": "stdout",
          "text": [
            "data.txt\n",
            "This is the \n",
            "practice \n",
            "file that\n",
            "i am making\n",
            ":)\n",
            "\n",
            "data.txt\n",
            "This is the \n",
            "practice \n",
            "file that\n",
            "i am making\n",
            ":)\n",
            "\n",
            "data.txt\n",
            "This is the \n",
            "practice \n",
            "file that\n",
            "i am making\n",
            ":)"
          ]
        }
      ]
    },
    {
      "cell_type": "markdown",
      "source": [
        "1.8"
      ],
      "metadata": {
        "id": "9yWjfWEr07Y0"
      }
    },
    {
      "cell_type": "code",
      "source": [
        "#lists\n",
        "foods = ['popcorn', 'pizza', 'yogurt', 'apples', 'eggs']\n",
        "\n",
        "print(foods[-1]) #print last item\n",
        "\n",
        "foods.append('burger')\n",
        "print(foods)\n",
        "\n",
        "foods.insert(1, 'peanuts') #puts it in specific position, remember 1 is actually P2\n",
        "print(foods)\n",
        "\n",
        "for food in foods:\n",
        "  print(food)\n",
        "print(f'\\nReplaced')\n",
        "#replace in list\n",
        "foods[1] = 'bacon'\n",
        "print(foods)\n",
        "\n",
        "#using list()\n",
        "letters = list('logan')\n",
        "print(letters)\n"
      ],
      "metadata": {
        "colab": {
          "base_uri": "https://localhost:8080/"
        },
        "id": "QwDH0O85sAwm",
        "outputId": "be2ec6e8-78dd-4030-fc9c-f90073dbee64"
      },
      "execution_count": null,
      "outputs": [
        {
          "output_type": "stream",
          "name": "stdout",
          "text": [
            "eggs\n",
            "['popcorn', 'pizza', 'yogurt', 'apples', 'eggs', 'burger']\n",
            "['popcorn', 'peanuts', 'pizza', 'yogurt', 'apples', 'eggs', 'burger']\n",
            "popcorn\n",
            "peanuts\n",
            "pizza\n",
            "yogurt\n",
            "apples\n",
            "eggs\n",
            "burger\n",
            "\n",
            "Replaced\n",
            "['popcorn', 'bacon', 'pizza', 'yogurt', 'apples', 'eggs', 'burger']\n",
            "['l', 'o', 'g', 'a', 'n']\n"
          ]
        }
      ]
    },
    {
      "cell_type": "markdown",
      "source": [
        "1.9"
      ],
      "metadata": {
        "id": "wBsQNs3U3pXN"
      }
    },
    {
      "cell_type": "code",
      "source": [
        "#Tuples\n",
        "holding = ('GOOG', 100, 490.10)\n",
        "address = ('www.python.org', 80)\n",
        "\n",
        "#you cannot replace, delete or append new elements into a existing tuple\n",
        "a = () #empty tuple\n",
        "b= (\"item\",) #trailig coma\n",
        "\n",
        "#a = a.append(2)\n",
        "#^doesnt work^\n",
        "\n",
        "print(holding)"
      ],
      "metadata": {
        "colab": {
          "base_uri": "https://localhost:8080/"
        },
        "id": "rN15fe0D3ouW",
        "outputId": "133e9634-b129-417c-c863-b668877df1ab"
      },
      "execution_count": null,
      "outputs": [
        {
          "output_type": "stream",
          "name": "stdout",
          "text": [
            "('GOOG', 100, 490.1)\n"
          ]
        }
      ]
    },
    {
      "cell_type": "markdown",
      "source": [
        "1.10"
      ],
      "metadata": {
        "id": "ZZ4Xcaqb06lD"
      }
    },
    {
      "cell_type": "code",
      "source": [
        "#sets. is unordered collection of unique objects, used to find distinct values\n",
        "# to make set use {} or set()\n",
        "\n",
        "\n",
        "my_set = {2, 4, 9, 4, 1, 'pop'}\n",
        "set_my = {'young', 'old', 'miserable', 2}\n",
        "print(my_set) #it only prints values once and\n",
        "\n",
        "#empty set\n",
        "empty = set()\n",
        "\n",
        "a = my_set | set_my #union puts them together\n",
        "print(a)\n",
        "\n",
        "b = my_set & set_my #intersection, what is shared?\n",
        "print(b)\n",
        "\n",
        "c = my_set - set_my #differance, shows what unique items that set_my doesnt have but my_set has\n",
        "print(c)\n",
        "\n",
        "d = my_set^ set_my #gives items in each set but not contained in both\n",
        "print(d)\n",
        "\n",
        "#adding on and removing from the set\n",
        "my_set.add(3)\n",
        "print(my_set)\n",
        "my_set.update({1,10,19,18})#update can add multiple items, dont forget the curlys\n",
        "print(my_set)\n",
        "\n"
      ],
      "metadata": {
        "colab": {
          "base_uri": "https://localhost:8080/"
        },
        "id": "7IK3Opxq6gtw",
        "outputId": "2d4cb39b-db10-41e6-cf8d-8dbabe86e497"
      },
      "execution_count": null,
      "outputs": [
        {
          "output_type": "stream",
          "name": "stdout",
          "text": [
            "{1, 2, 4, 9, 'pop'}\n",
            "{1, 2, 4, 'young', 9, 'miserable', 'pop', 'old'}\n",
            "{2}\n",
            "{1, 'pop', 4, 9}\n",
            "{1, 'young', 4, 9, 'miserable', 'pop', 'old'}\n",
            "{1, 2, 3, 4, 9, 'pop'}\n"
          ]
        }
      ]
    },
    {
      "cell_type": "markdown",
      "source": [
        "1.11"
      ],
      "metadata": {
        "id": "Rebbwfmg2yEl"
      }
    },
    {
      "cell_type": "code",
      "source": [
        "#Dictionaries\n",
        "#mapping between keys and values, created by enclosing key value pairs, seperated by :, in between {}\n",
        "\n",
        "msft = {\n",
        "    'name': 'Microsoft',\n",
        "    'shares': 100,\n",
        "    'price': 200\n",
        "}\n",
        "\n",
        "name = msft['name']\n",
        "name\n",
        "cost = msft['shares']*msft['price']#you can multiply the items within a list\n",
        "cost\n",
        "msft['shares'] = 75 #replaces the shares\n",
        "msft['shares']\n",
        "msft['date'] = '2023-11-10' #makes a new key value pair\n",
        "msft['date']\n",
        "\n",
        "prices = {\n",
        "    'msft' : 75,\n",
        "    'aapl': 150,\n",
        "    'nvda': 400,\n",
        "    'goog': 350\n",
        "}\n",
        "\n",
        "#dictionary membership testing with in operator\n",
        "if 'msft' in prices:\n",
        "  p = prices['msft']\n",
        "else:\n",
        "  p = 0\n",
        "print(p)\n",
        "\n",
        "#more simply put with the get method\n",
        "p = prices.get('msft', 0)\n",
        "p\n",
        "\n",
        "#del\n",
        "del prices['goog']\n",
        "prices\n",
        "\n",
        "#keys do not just have to be strings, you use all types of python objects as keys like numbers and tuples\n",
        "prices[('goog', '2023-11-10')] = 200\n",
        "prices\n",
        "prices['goog', '2023-11-10'] = 200 #enters as tuple\n",
        "prices\n",
        "\n",
        "#mutable date structures like lists and sets and other dictionaries, CANNOT be used as keys\n",
        "\n",
        "pairs = [('msft', 100), ('goog', '200'), ('nvda', 400)]\n",
        "dict(pairs)\n",
        "\n",
        "list(prices)\n",
        "\n",
        "#for loop to list offf the keys and values(you can also do just a key or just a value)\n",
        "for sym, price in prices.items():\n",
        "  print(f'{sym} = {price}')\n",
        "\n",
        "\n"
      ],
      "metadata": {
        "colab": {
          "base_uri": "https://localhost:8080/"
        },
        "id": "AFp2QgnT2tkD",
        "outputId": "bf105883-be0e-469f-ba43-93711409d14f"
      },
      "execution_count": null,
      "outputs": [
        {
          "output_type": "stream",
          "name": "stdout",
          "text": [
            "75\n",
            "msft = 75\n",
            "aapl = 150\n",
            "nvda = 400\n",
            "('goog', '2023-11-10') = 200\n"
          ]
        }
      ]
    },
    {
      "cell_type": "markdown",
      "source": [
        "1.12"
      ],
      "metadata": {
        "id": "rsZsuRED9Z42"
      }
    },
    {
      "cell_type": "code",
      "source": [
        "#iteration and looping\n",
        "# for statement\n",
        "for n in range(0, 100,4): #this range starts at 0 ends at 100 and counts up by 4\n",
        "  print(n/2)\n",
        "\n",
        "for key in prices:\n",
        "  print(key)"
      ],
      "metadata": {
        "colab": {
          "base_uri": "https://localhost:8080/"
        },
        "id": "dy0CXLhl46X6",
        "outputId": "4e179e13-c0f2-41dc-ea69-91e3b429ba7a"
      },
      "execution_count": null,
      "outputs": [
        {
          "output_type": "stream",
          "name": "stdout",
          "text": [
            "0.0\n",
            "2.0\n",
            "4.0\n",
            "6.0\n",
            "8.0\n",
            "10.0\n",
            "12.0\n",
            "14.0\n",
            "16.0\n",
            "18.0\n",
            "20.0\n",
            "22.0\n",
            "24.0\n",
            "26.0\n",
            "28.0\n",
            "30.0\n",
            "32.0\n",
            "34.0\n",
            "36.0\n",
            "38.0\n",
            "40.0\n",
            "42.0\n",
            "44.0\n",
            "46.0\n",
            "48.0\n",
            "msft\n",
            "aapl\n",
            "nvda\n",
            "('goog', '2023-11-10')\n"
          ]
        }
      ]
    },
    {
      "cell_type": "markdown",
      "source": [
        "1.13"
      ],
      "metadata": {
        "id": "gjDtldzQ_GLg"
      }
    },
    {
      "cell_type": "code",
      "source": [
        "#functions\n",
        "def multiply(a: int, b: int) -> int: #This is a way you can make the inputs and outputs clear\n",
        "  return a * b\n",
        "\n",
        "def checkin(name, location = 'new york'):\n",
        "  print(f'{name} checked in at {location} location')\n",
        "\n",
        "checkin('logan')\n",
        "\n"
      ],
      "metadata": {
        "colab": {
          "base_uri": "https://localhost:8080/"
        },
        "id": "WJNLpzyy-sQ3",
        "outputId": "5e3edc68-d4cd-4cb0-a37c-ce104e753f0e"
      },
      "execution_count": 6,
      "outputs": [
        {
          "output_type": "stream",
          "name": "stdout",
          "text": [
            "logan checked in at new york location\n"
          ]
        }
      ]
    },
    {
      "cell_type": "markdown",
      "source": [
        "Exceptions"
      ],
      "metadata": {
        "id": "CrYL1pDg2wnB"
      }
    },
    {
      "cell_type": "code",
      "source": [
        "#if errors occur, exceptions are raised and traceback messages appear\n",
        "def divide_numbers(a, b):\n",
        "    try:\n",
        "        result = a / b\n",
        "    except ZeroDivisionError as zd_error:\n",
        "        print(f\"Error: {zd_error}. You can't divide by zero!\")\n",
        "    except TypeError as type_error:\n",
        "        print(f\"Error: {type_error}. Please provide valid numbers.\")\n",
        "    except Exception as e:\n",
        "        print(f\"An unexpected error occurred: {e}\")\n",
        "    else:\n",
        "        print(f\"The result of {a} divided by {b} is: {result}\")\n",
        "\n",
        "\n",
        "divide_numbers(10, 2)\n",
        "divide_numbers(10, 0)\n",
        "divide_numbers('10', 2)\n"
      ],
      "metadata": {
        "colab": {
          "base_uri": "https://localhost:8080/"
        },
        "id": "5u_CC6Au1_T-",
        "outputId": "15872198-4d61-441f-bd88-480dcaf5d9bf"
      },
      "execution_count": 1,
      "outputs": [
        {
          "output_type": "stream",
          "name": "stdout",
          "text": [
            "The result of 10 divided by 2 is: 5.0\n",
            "Error: division by zero. You can't divide by zero!\n",
            "Error: unsupported operand type(s) for /: 'str' and 'int'. Please provide valid numbers.\n"
          ]
        }
      ]
    },
    {
      "cell_type": "markdown",
      "source": [
        "Program Termination"
      ],
      "metadata": {
        "id": "j_PP5PLOSXKL"
      }
    },
    {
      "cell_type": "code",
      "source": [
        "raise SystemExit()#exit without an error\n",
        "raise SystemExit('something is wrongf') #exit with error\n",
        "\n",
        "#this is how you force a program to quit"
      ],
      "metadata": {
        "colab": {
          "base_uri": "https://localhost:8080/",
          "height": 158
        },
        "id": "F0mqclfxSaiI",
        "outputId": "40ef1af5-7f2b-48ed-9bd8-a2fb079ccdb7"
      },
      "execution_count": 2,
      "outputs": [
        {
          "output_type": "error",
          "ename": "SystemExit",
          "evalue": "ignored",
          "traceback": [
            "An exception has occurred, use %tb to see the full traceback.\n",
            "\u001b[0;31mSystemExit\u001b[0m\n"
          ]
        },
        {
          "output_type": "stream",
          "name": "stderr",
          "text": [
            "/usr/local/lib/python3.10/dist-packages/IPython/core/interactiveshell.py:3561: UserWarning: To exit: use 'exit', 'quit', or Ctrl-D.\n",
            "  warn(\"To exit: use 'exit', 'quit', or Ctrl-D.\", stacklevel=1)\n"
          ]
        }
      ]
    },
    {
      "cell_type": "markdown",
      "source": [
        "Object and Classes"
      ],
      "metadata": {
        "id": "0UAJjsy-TDVG"
      }
    },
    {
      "cell_type": "code",
      "source": [
        "from os import ST_MANDLOCK\n",
        "#Object and Classes\n",
        "#all objects in a program are objects, including strings and lists\n",
        "\n",
        "#the dir function lists the availible methods on a obnject\n",
        "items = [37, 35]\n",
        "#dir(items)\n",
        "\n",
        "#class statement defines new types of objects.\n",
        "class Stack:\n",
        "  def __init__(self): #initialize the stack\n",
        "    self._items = [] #names proceeded by a _ are taken as \"private\" and should be treated as internal implementation. however this isnt enforced by python itself\n",
        "\n",
        "  def push(self, items):\n",
        "    self._items.append(items)\n",
        "\n",
        "  def pop(self):\n",
        "    return self._items.pop()\n",
        "\n",
        "  def __repr__(self):\n",
        "    return f'({type(self).__name__} at Ox{id(self):x}, size={len(self)}'\n",
        "\n",
        "  def __len__(self):\n",
        "    return len(self._items)\n",
        "\n",
        "s  = Stack()\n",
        "s.push('dave')\n",
        "s.push(42)\n",
        "s.push([3,4,5])\n",
        "x = s.pop()\n",
        "y = s.pop()\n",
        "\n",
        "len(s)\n",
        "s"
      ],
      "metadata": {
        "colab": {
          "base_uri": "https://localhost:8080/"
        },
        "id": "e2CZ2AE0TApe",
        "outputId": "9986ec46-b871-4531-d902-ffde5905cb5f"
      },
      "execution_count": 12,
      "outputs": [
        {
          "output_type": "execute_result",
          "data": {
            "text/plain": [
              "(Stack at Ox7e2b935a2560, size=1"
            ]
          },
          "metadata": {},
          "execution_count": 12
        }
      ]
    },
    {
      "cell_type": "markdown",
      "source": [
        "1.17 Modules"
      ],
      "metadata": {
        "id": "iIs-ktg4XAbI"
      }
    },
    {
      "cell_type": "code",
      "source": [
        "#as python programs grow you may want to break them up into into multiple files.\n",
        "#to do this use the import statement\n",
        "#to create the module put the relevant statements and definitions into a file with .py suffix\n",
        "\n",
        "#the book uses the csv module that is goof for dealing with files with comma seperated values\n",
        "\n",
        "#heres an example of the math library\n",
        "import math\n",
        "dir(math) #this shows you what function are in math\\\n",
        "#heres an example using math module\n",
        "\n",
        "def calculate_square_root(number):\n",
        "    result = math.sqrt(number)\n",
        "    print(f\"The square root of {number} is: {result}\")\n",
        "\n",
        "calculate_square_root(25)\n"
      ],
      "metadata": {
        "colab": {
          "base_uri": "https://localhost:8080/"
        },
        "id": "vBQ-k0AxSWHU",
        "outputId": "376ce4e3-e7b0-492b-b45d-3564abb73816"
      },
      "execution_count": 18,
      "outputs": [
        {
          "output_type": "stream",
          "name": "stdout",
          "text": [
            "The square root of 25 is: 5.0\n"
          ]
        }
      ]
    },
    {
      "cell_type": "markdown",
      "source": [
        "1.18 Script Writing"
      ],
      "metadata": {
        "id": "FNUQxRVhZrEK"
      }
    },
    {
      "cell_type": "code",
      "source": [
        "#a file can either be executed as a scriptt or a library using import\n",
        "\n",
        "def calculate_square(number):\n",
        "    return number ** 2\n",
        "\n",
        "if __name__ == \"__main__\":\n",
        "    for i in range(1, 6):\n",
        "        result = calculate_square(i)\n",
        "        print(f\"The square of {i} is: {result}\")"
      ],
      "metadata": {
        "colab": {
          "base_uri": "https://localhost:8080/"
        },
        "id": "3upxplgWZqpc",
        "outputId": "37e2e7ae-15a8-425d-bdf6-71466019fe5d"
      },
      "execution_count": 1,
      "outputs": [
        {
          "output_type": "stream",
          "name": "stdout",
          "text": [
            "The square of 1 is: 1\n",
            "The square of 2 is: 4\n",
            "The square of 3 is: 9\n",
            "The square of 4 is: 16\n",
            "The square of 5 is: 25\n"
          ]
        }
      ]
    },
    {
      "cell_type": "markdown",
      "source": [
        "1.19 Packages"
      ],
      "metadata": {
        "id": "Y3N1TEM6wuW_"
      }
    },
    {
      "cell_type": "code",
      "source": [
        "#for larger programs you organize code into packages\n",
        "#a package is a heirarchal collection of modules\n",
        "#on filesysyem put your code as a collection of files in a directory like this\n",
        "\n",
        "tutorial/\n",
        "  __init__.python\n",
        "  readport.py\n",
        "  pcost.py\n",
        "  stack.py\n",
        "\n",
        "#imports between files withthin the same package may be tricky. to fix this you can\n",
        "\n",
        "from tutorial import readport"
      ],
      "metadata": {
        "id": "w1rBWU3awtTa"
      },
      "execution_count": null,
      "outputs": []
    },
    {
      "cell_type": "markdown",
      "source": [
        "1.20 Structuring A Application"
      ],
      "metadata": {
        "id": "dPdEtsx0ym7g"
      }
    },
    {
      "cell_type": "code",
      "source": [
        "#as you work on larger applications you may have to have a large mix of your own code as well as that of third party code\n",
        "#it is standard practie to organize large code practices into directories(contains .py files and include __init__)\n",
        "\n",
        "#you may also want to have tests, scripts, and documentations these will live in a different set of directories seperate from\n",
        "#put all of these into a top level directory to hold your entire project\n",
        "\n",
        "#this is an example\n",
        "tutorial-project/\n",
        "  tutorial/\n",
        "    __init__.py\n",
        "    readport.py\n",
        "    pcost.py\n",
        "    stack.py\n",
        "\n",
        "  tests/\n",
        "    test_stack.py\n",
        "    test_pcost.py\n",
        "\n",
        "  examples/\n",
        "    sample.py\n",
        "\n",
        "  doc/\n",
        "    tutorial.txt"
      ],
      "metadata": {
        "id": "-UT9ZomxymtT"
      },
      "execution_count": null,
      "outputs": []
    },
    {
      "cell_type": "markdown",
      "source": [
        "1.21 Managing Third-Party Packages"
      ],
      "metadata": {
        "id": "HEcmpmwP1JXX"
      }
    },
    {
      "cell_type": "code",
      "source": [
        "#to install third party packages\n",
        "\n",
        "#bash % python3 -m pip install somepackage\n",
        "\n",
        "#to see where a python package is comning from\n",
        "\n",
        "import pandas\n",
        "panda.__file__"
      ],
      "metadata": {
        "colab": {
          "base_uri": "https://localhost:8080/",
          "height": 210
        },
        "id": "KzDvG66U1FYf",
        "outputId": "6cbf6f51-6db0-4fe2-9598-2e3fc17eb789"
      },
      "execution_count": 2,
      "outputs": [
        {
          "output_type": "error",
          "ename": "NameError",
          "evalue": "ignored",
          "traceback": [
            "\u001b[0;31m---------------------------------------------------------------------------\u001b[0m",
            "\u001b[0;31mNameError\u001b[0m                                 Traceback (most recent call last)",
            "\u001b[0;32m<ipython-input-2-265b66aa55ef>\u001b[0m in \u001b[0;36m<cell line: 8>\u001b[0;34m()\u001b[0m\n\u001b[1;32m      6\u001b[0m \u001b[0;34m\u001b[0m\u001b[0m\n\u001b[1;32m      7\u001b[0m \u001b[0;32mimport\u001b[0m \u001b[0mpandas\u001b[0m\u001b[0;34m\u001b[0m\u001b[0;34m\u001b[0m\u001b[0m\n\u001b[0;32m----> 8\u001b[0;31m \u001b[0mpanda\u001b[0m\u001b[0;34m.\u001b[0m\u001b[0m__file__\u001b[0m\u001b[0;34m\u001b[0m\u001b[0;34m\u001b[0m\u001b[0m\n\u001b[0m",
            "\u001b[0;31mNameError\u001b[0m: name 'panda' is not defined"
          ]
        }
      ]
    }
  ]
}